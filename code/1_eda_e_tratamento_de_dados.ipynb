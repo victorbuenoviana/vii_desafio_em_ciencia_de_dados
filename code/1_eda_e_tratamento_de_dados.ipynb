{
 "cells": [
  {
   "cell_type": "markdown",
   "metadata": {},
   "source": [
    "### Importando bibliotecas"
   ]
  },
  {
   "cell_type": "code",
   "execution_count": 1,
   "metadata": {},
   "outputs": [],
   "source": [
    "# desabilita os warnings\n",
    "import warnings\n",
    "warnings.filterwarnings('ignore')"
   ]
  },
  {
   "cell_type": "code",
   "execution_count": 2,
   "metadata": {},
   "outputs": [],
   "source": [
    "import pandas as pd\n",
    "import numpy as np"
   ]
  },
  {
   "cell_type": "markdown",
   "metadata": {},
   "source": [
    "### Importando bases de dados"
   ]
  },
  {
   "cell_type": "code",
   "execution_count": null,
   "metadata": {},
   "outputs": [],
   "source": [
    "df_solar_wind = pd.read_csv(r'..\\data\\solar_wind.csv', usecols=['period',\n",
    "                                                                'timedelta',\n",
    "                                                                'bx_gse',\n",
    "                                                                'by_gse',\n",
    "                                                                'bz_gse',\n",
    "                                                                'bt',\n",
    "                                                                'density',\n",
    "                                                                'speed',\n",
    "                                                                'temperature',\n",
    "                                                                'source'] )\n",
    "df_solar_wind.head(3)"
   ]
  },
  {
   "cell_type": "code",
   "execution_count": null,
   "metadata": {},
   "outputs": [],
   "source": [
    "df_satellite_pos = pd.read_csv(r'..\\data\\satellite_pos.csv')\n",
    "df_satellite_pos.head(3)"
   ]
  },
  {
   "cell_type": "code",
   "execution_count": null,
   "metadata": {},
   "outputs": [],
   "source": [
    "df_sunspots = pd.read_csv(r'..\\data\\sunspots.csv')\n",
    "df_sunspots.head(3)"
   ]
  },
  {
   "cell_type": "code",
   "execution_count": null,
   "metadata": {},
   "outputs": [],
   "source": [
    "df_labels = pd.read_csv(r'..\\data\\labels.csv')\n",
    "df_labels.head(3)"
   ]
  },
  {
   "cell_type": "markdown",
   "metadata": {},
   "source": [
    "### Tratando tipos de dados"
   ]
  },
  {
   "cell_type": "markdown",
   "metadata": {},
   "source": [
    "##### Tratando tipos de dados do df_solar_wind"
   ]
  },
  {
   "cell_type": "code",
   "execution_count": null,
   "metadata": {},
   "outputs": [],
   "source": [
    "df_solar_wind.info()"
   ]
  },
  {
   "cell_type": "code",
   "execution_count": null,
   "metadata": {},
   "outputs": [],
   "source": [
    "# Otimizando tipos de dados das colunas numéricas\n",
    "col_num_solar_wind = df_solar_wind.select_dtypes(include='float64').columns\n",
    "df_solar_wind[col_num_solar_wind] = (df_solar_wind[col_num_solar_wind]\n",
    "                                     .apply(pd.to_numeric, \n",
    "                                            downcast='float'))\n",
    "\n",
    "# Corrigindo tipo de dado da coluna timedelta\n",
    "df_solar_wind[\"timedelta\"] = pd.to_timedelta(df_solar_wind[\"timedelta\"])\n",
    "\n",
    "# Corrigindo tipo de dado das colunas categoricas\n",
    "col_cat_solar_wind = df_solar_wind.select_dtypes(include='object').columns\n",
    "df_solar_wind[col_cat_solar_wind] = (df_solar_wind[col_cat_solar_wind]\n",
    "                                     .astype('category'))\n",
    "df_solar_wind.info()"
   ]
  },
  {
   "cell_type": "markdown",
   "metadata": {},
   "source": [
    "##### Tratando tipos de dados do df_satellite_pos"
   ]
  },
  {
   "cell_type": "code",
   "execution_count": null,
   "metadata": {},
   "outputs": [],
   "source": [
    "df_satellite_pos.info()"
   ]
  },
  {
   "cell_type": "code",
   "execution_count": null,
   "metadata": {},
   "outputs": [],
   "source": [
    "# Otimizando tipos de dados das colunas numéricas\n",
    "col_num_satellite_pos = df_satellite_pos.select_dtypes(include='float64').columns\n",
    "df_satellite_pos[col_num_satellite_pos] = df_satellite_pos[col_num_satellite_pos].apply(pd.to_numeric, downcast='float')\n",
    "\n",
    "# Corrigindo tipo de dado da coluna timedelta\n",
    "df_satellite_pos[\"timedelta\"] = pd.to_timedelta(df_satellite_pos[\"timedelta\"])\n",
    "\n",
    "# col_cat_satellite_pos = df_satellite_pos.select_dtypes(include='object').columns\n",
    "# df_satellite_pos[col_cat_satellite_pos] = df_solar_wind[col_cat_satellite_pos].astype('category')\n",
    "df_satellite_pos[\"period\"] = df_satellite_pos[\"period\"].astype('category')\n",
    "df_satellite_pos.info()"
   ]
  },
  {
   "cell_type": "markdown",
   "metadata": {},
   "source": [
    "##### Tratando tipos de dados do df_sunspots"
   ]
  },
  {
   "cell_type": "code",
   "execution_count": null,
   "metadata": {},
   "outputs": [],
   "source": [
    "df_sunspots.info()"
   ]
  },
  {
   "cell_type": "code",
   "execution_count": null,
   "metadata": {},
   "outputs": [],
   "source": [
    "# otimizando tipos de dados das colunas numéricas\n",
    "col_num_sunspots = df_sunspots.select_dtypes(include='float64').columns\n",
    "df_sunspots[col_num_sunspots] = df_sunspots[col_num_sunspots].apply(pd.to_numeric, downcast='float')\n",
    "\n",
    "# Corrigindo tipo de dado da coluna timedelta\n",
    "df_sunspots[\"timedelta\"] = pd.to_timedelta(df_sunspots[\"timedelta\"])\n",
    "\n",
    "# Corrigindo tipo de dado da coluna period\n",
    "df_sunspots[\"period\"] = df_sunspots[\"period\"].astype('category')\n",
    "df_sunspots.info()"
   ]
  },
  {
   "cell_type": "markdown",
   "metadata": {},
   "source": [
    "##### Tratando tipos de dados do df_labels"
   ]
  },
  {
   "cell_type": "code",
   "execution_count": null,
   "metadata": {},
   "outputs": [],
   "source": [
    "df_labels.info()"
   ]
  },
  {
   "cell_type": "code",
   "execution_count": null,
   "metadata": {},
   "outputs": [],
   "source": [
    "# otimizando tipos de dados das colunas numéricas\n",
    "col_num_labels = df_labels.select_dtypes(include='int64').columns\n",
    "df_labels[col_num_labels] = df_labels[col_num_labels].apply(pd.to_numeric, downcast='integer')\n",
    "\n",
    "# Corrigindo tipo de dado da coluna timedelta\n",
    "df_labels[\"timedelta\"] = pd.to_timedelta(df_labels[\"timedelta\"])\n",
    "\n",
    "# Corrigindo tipo de dado da coluna period\n",
    "df_labels[\"period\"] = df_labels[\"period\"].astype('category')\n",
    "df_labels.info()"
   ]
  },
  {
   "cell_type": "markdown",
   "metadata": {},
   "source": [
    "### Removendo Valores fora de escala do df_solar_wind"
   ]
  },
  {
   "cell_type": "code",
   "execution_count": null,
   "metadata": {},
   "outputs": [],
   "source": [
    "# bx_gse: -200 a +200 nT ok\n",
    "# by_gse: -200 a +200 nT ok\n",
    "# bz_gse: -200 a +200 nT ok\n",
    "# bt: 0 a 200 nT ok\n",
    "# density: 0 a 200 N/cm³ ok \n",
    "# speed: 200 a 2.000 km/s speed=0?\n",
    "# temperature: 10.000 K a 10.000.000 K temperature=0?\n",
    "df_solar_wind.describe()"
   ]
  },
  {
   "cell_type": "code",
   "execution_count": 46,
   "metadata": {},
   "outputs": [],
   "source": [
    "df_solar_wind[\"speed\"].loc[(df_solar_wind[\"speed\"] < 200) | (df_solar_wind[\"speed\"] > 2000)] = np.nan\n",
    "df_solar_wind[\"temperature\"].loc[(df_solar_wind[\"temperature\"] < 10_000) | (df_solar_wind[\"temperature\"] > 10_000_000)] = np.nan"
   ]
  },
  {
   "cell_type": "markdown",
   "metadata": {},
   "source": [
    "### Preenchendo fontes ausentes do df_solar_wind com a moda de cada período"
   ]
  },
  {
   "cell_type": "code",
   "execution_count": null,
   "metadata": {},
   "outputs": [],
   "source": [
    "df_solar_wind[\"source\"].isna().sum()"
   ]
  },
  {
   "cell_type": "code",
   "execution_count": null,
   "metadata": {},
   "outputs": [],
   "source": [
    "df_solar_wind_period_a = (\n",
    "    df_solar_wind.loc[df_solar_wind[\"period\"] == \"train_a\"])\n",
    "\n",
    "df_solar_wind_period_b = (\n",
    "    df_solar_wind.loc[df_solar_wind[\"period\"] == \"train_b\"])\n",
    "\n",
    "df_solar_wind_period_c = (\n",
    "    df_solar_wind.loc[df_solar_wind[\"period\"] == \"train_c\"])\n",
    "\n",
    "moda_a = df_solar_wind_period_a[\"source\"].mode()[0]\n",
    "moda_b = df_solar_wind_period_b[\"source\"].mode()[0]\n",
    "moda_c = df_solar_wind_period_c[\"source\"].mode()[0]\n",
    "\n",
    "df_solar_wind_period_a[\"source\"].fillna(moda_a, inplace=True)\n",
    "df_solar_wind_period_b[\"source\"].fillna(moda_b, inplace=True)\n",
    "df_solar_wind_period_c[\"source\"].fillna(moda_c, inplace=True)\n",
    "\n",
    "df_solar_wind = pd.concat(\n",
    "    [df_solar_wind_period_a, \n",
    "     df_solar_wind_period_b, \n",
    "     df_solar_wind_period_c], \n",
    "     ignore_index=True)\n",
    "\n",
    "df_solar_wind.head(3)"
   ]
  },
  {
   "cell_type": "markdown",
   "metadata": {},
   "source": [
    "### Consolidando base de dados"
   ]
  },
  {
   "cell_type": "markdown",
   "metadata": {},
   "source": [
    "##### Preparando df_solar_wind e df_satellite_pos"
   ]
  },
  {
   "cell_type": "code",
   "execution_count": 49,
   "metadata": {},
   "outputs": [],
   "source": [
    "df_solar_wind[\"dia\"] = df_solar_wind[\"timedelta\"].dt.days\n",
    "df_satellite_pos[\"dia\"] = df_satellite_pos[\"timedelta\"].dt.days"
   ]
  },
  {
   "cell_type": "code",
   "execution_count": 50,
   "metadata": {},
   "outputs": [],
   "source": [
    "df_satellite_pos = pd.merge(df_satellite_pos, \n",
    "                            df_solar_wind[[\"period\", \"dia\", \"source\"]], \n",
    "                            on=[\"period\", \"dia\"], \n",
    "                            how=\"left\")"
   ]
  },
  {
   "cell_type": "code",
   "execution_count": 51,
   "metadata": {},
   "outputs": [],
   "source": [
    "df_satellite_pos[\"gse_x_satellite\"] = np.nan\n",
    "df_satellite_pos[\"gse_y_satellite\"] = np.nan\n",
    "df_satellite_pos[\"gse_z_satellite\"] = np.nan\n",
    "\n",
    "df_satellite_pos[\"gse_x_satellite\"] = np.where(\n",
    "    df_satellite_pos[\"gse_x_satellite\"].isnull() \n",
    "    & (df_satellite_pos[\"source\"]  == \"ac\"),\n",
    "    df_satellite_pos[\"gse_x_ace\"],\n",
    "    df_satellite_pos[\"gse_x_dscovr\"])\n",
    "\n",
    "df_satellite_pos[\"gse_y_satellite\"] = np.where(\n",
    "    df_satellite_pos[\"gse_y_satellite\"].isnull() \n",
    "    & (df_satellite_pos[\"source\"]  == \"ac\"),\n",
    "    df_satellite_pos[\"gse_y_ace\"],\n",
    "    df_satellite_pos[\"gse_y_dscovr\"])\n",
    "\n",
    "df_satellite_pos[\"gse_z_satellite\"] = np.where(\n",
    "    df_satellite_pos[\"gse_z_satellite\"].isnull() \n",
    "    & (df_satellite_pos[\"source\"]  == \"ac\"),\n",
    "    df_satellite_pos[\"gse_z_ace\"],\n",
    "    df_satellite_pos[\"gse_z_dscovr\"])\n",
    "\n",
    "df_satellite_pos = df_satellite_pos[['period', \n",
    "                                     'timedelta', \n",
    "                                     'dia', \n",
    "                                     'source',\n",
    "                                     'gse_x_satellite', \n",
    "                                     'gse_y_satellite', \n",
    "                                     'gse_z_satellite']]"
   ]
  },
  {
   "cell_type": "markdown",
   "metadata": {},
   "source": [
    "##### Consolidando df_solar_wind e df_satellite_pos"
   ]
  },
  {
   "cell_type": "code",
   "execution_count": null,
   "metadata": {},
   "outputs": [],
   "source": [
    "df_solar_wind[\"gse_x_satellite\"] = np.nan\n",
    "df_solar_wind[\"gse_y_satellite\"] = np.nan\n",
    "df_solar_wind[\"gse_z_satellite\"] = np.nan\n",
    "\n",
    "df_solar_wind[\"gse_x_satellite\"] = np.where(\n",
    "    df_solar_wind[\"gse_x_satellite\"].isna() \n",
    "    & (df_solar_wind[\"source\"]  == df_satellite_pos[\"source\"])\n",
    "    & (df_solar_wind[\"period\"]  == df_satellite_pos[\"period\"])\n",
    "    & (df_solar_wind[\"dia\"]  == df_satellite_pos[\"dia\"]),\n",
    "    df_satellite_pos[\"gse_x_satellite\"],\n",
    "    np.nan)\n",
    "\n",
    "df_solar_wind[\"gse_y_satellite\"] = np.where(\n",
    "    df_solar_wind[\"gse_y_satellite\"].isna() \n",
    "    & (df_solar_wind[\"source\"]  == df_satellite_pos[\"source\"])\n",
    "    & (df_solar_wind[\"period\"]  == df_satellite_pos[\"period\"])\n",
    "    & (df_solar_wind[\"dia\"]  == df_satellite_pos[\"dia\"]),\n",
    "    df_satellite_pos[\"gse_y_satellite\"],\n",
    "    np.nan)\n",
    "\n",
    "df_solar_wind[\"gse_z_satellite\"] = np.where(\n",
    "    df_solar_wind[\"gse_z_satellite\"].isna() \n",
    "    & (df_solar_wind[\"source\"]  == df_satellite_pos[\"source\"])\n",
    "    & (df_solar_wind[\"period\"]  == df_satellite_pos[\"period\"])\n",
    "    & (df_solar_wind[\"dia\"]  == df_satellite_pos[\"dia\"]),\n",
    "    df_satellite_pos[\"gse_z_satellite\"],\n",
    "    np.nan)\n",
    "\n",
    "df_solar_wind.head(3)"
   ]
  },
  {
   "cell_type": "markdown",
   "metadata": {},
   "source": [
    "##### Consolidando df_solar_wind e df_sunspots"
   ]
  },
  {
   "cell_type": "code",
   "execution_count": null,
   "metadata": {},
   "outputs": [],
   "source": [
    "df_solar_wind = pd.merge(df_solar_wind, \n",
    "                         df_sunspots, \n",
    "                         on=['period', 'timedelta'], \n",
    "                         how='left')\n",
    "df_solar_wind.head(3)"
   ]
  },
  {
   "cell_type": "markdown",
   "metadata": {},
   "source": [
    "##### Consolidando df_solar_wind e df_labels"
   ]
  },
  {
   "cell_type": "code",
   "execution_count": null,
   "metadata": {},
   "outputs": [],
   "source": [
    "df_solar_wind = pd.merge(df_solar_wind, \n",
    "                         df_labels, \n",
    "                         on=['period', 'timedelta'], \n",
    "                         how='left')\n",
    "df_solar_wind.head(3)"
   ]
  },
  {
   "cell_type": "markdown",
   "metadata": {},
   "source": [
    "##### Removendo coluna dia"
   ]
  },
  {
   "cell_type": "code",
   "execution_count": null,
   "metadata": {},
   "outputs": [],
   "source": [
    "df_solar_wind.drop(\"dia\", axis=1, inplace=True)\n",
    "df_solar_wind.head(3)"
   ]
  },
  {
   "cell_type": "markdown",
   "metadata": {},
   "source": [
    "##### Exportando base de dados consolidada"
   ]
  },
  {
   "cell_type": "code",
   "execution_count": 61,
   "metadata": {},
   "outputs": [],
   "source": [
    "df_solar_wind.to_parquet(r\"..\\data\\df_consolidado.parquet\")"
   ]
  },
  {
   "cell_type": "markdown",
   "metadata": {},
   "source": [
    "### Preenchendo valores ausentes para base de dados de desenvolvimento"
   ]
  },
  {
   "cell_type": "markdown",
   "metadata": {},
   "source": [
    "##### Segmentando base de dados por período"
   ]
  },
  {
   "cell_type": "code",
   "execution_count": 55,
   "metadata": {},
   "outputs": [],
   "source": [
    "df_desenvolvimento = df_solar_wind.copy()\n",
    "\n",
    "df_desenvolvimento_period_a = (\n",
    "    df_desenvolvimento.loc[df_desenvolvimento[\"period\"] == \"train_a\"])\n",
    "\n",
    "df_desenvolvimento_period_b = (\n",
    "    df_desenvolvimento.loc[df_desenvolvimento[\"period\"] == \"train_b\"])\n",
    "\n",
    "df_desenvolvimento_period_c = (\n",
    "    df_desenvolvimento.loc[df_desenvolvimento[\"period\"] == \"train_c\"])"
   ]
  },
  {
   "cell_type": "markdown",
   "metadata": {},
   "source": [
    "##### Preenchendo valores ausentes dos vendos solares com interpolação linear"
   ]
  },
  {
   "cell_type": "code",
   "execution_count": 56,
   "metadata": {},
   "outputs": [],
   "source": [
    "df_desenvolvimento_period_a[\"bx_gse\"] = (\n",
    "    df_desenvolvimento_period_a[\"bx_gse\"]\n",
    "    .interpolate(method='linear', limit_direction='both'))\n",
    "df_desenvolvimento_period_a[\"by_gse\"] = (\n",
    "    df_desenvolvimento_period_a[\"by_gse\"]\n",
    "    .interpolate(method='linear', limit_direction='both'))\n",
    "df_desenvolvimento_period_a[\"bz_gse\"] = (\n",
    "    df_desenvolvimento_period_a[\"bz_gse\"]\n",
    "    .interpolate(method='linear', limit_direction='both'))\n",
    "df_desenvolvimento_period_a[\"bt\"] = (\n",
    "    df_desenvolvimento_period_a[\"bt\"]\n",
    "    .interpolate(method='linear', limit_direction='both'))\n",
    "df_desenvolvimento_period_a[\"density\"] = (\n",
    "    df_desenvolvimento_period_a[\"density\"]\n",
    "    .interpolate(method='linear', limit_direction='both'))\n",
    "df_desenvolvimento_period_a[\"speed\"] = (\n",
    "    df_desenvolvimento_period_a[\"speed\"]\n",
    "    .interpolate(method='linear', limit_direction='both'))\n",
    "df_desenvolvimento_period_a[\"temperature\"] = (\n",
    "    df_desenvolvimento_period_a[\"temperature\"]\n",
    "    .interpolate(method='linear', limit_direction='both'))\n",
    "\n",
    "df_desenvolvimento_period_b[\"bx_gse\"] = (\n",
    "    df_desenvolvimento_period_b[\"bx_gse\"]\n",
    "    .interpolate(method='linear', limit_direction='both'))\n",
    "df_desenvolvimento_period_b[\"by_gse\"] = (\n",
    "    df_desenvolvimento_period_b[\"by_gse\"]\n",
    "    .interpolate(method='linear', limit_direction='both'))\n",
    "df_desenvolvimento_period_b[\"bz_gse\"] = (\n",
    "    df_desenvolvimento_period_b[\"bz_gse\"]\n",
    "    .interpolate(method='linear', limit_direction='both'))\n",
    "df_desenvolvimento_period_b[\"bt\"] = (\n",
    "    df_desenvolvimento_period_b[\"bt\"]\n",
    "    .interpolate(method='linear', limit_direction='both'))\n",
    "df_desenvolvimento_period_b[\"density\"] = (\n",
    "    df_desenvolvimento_period_b[\"density\"]\n",
    "    .interpolate(method='linear', limit_direction='both'))\n",
    "df_desenvolvimento_period_b[\"speed\"] = (\n",
    "    df_desenvolvimento_period_b[\"speed\"]\n",
    "    .interpolate(method='linear', limit_direction='both'))\n",
    "df_desenvolvimento_period_b[\"temperature\"] = (\n",
    "    df_desenvolvimento_period_b[\"temperature\"]\n",
    "    .interpolate(method='linear', limit_direction='both'))\n",
    "\n",
    "df_desenvolvimento_period_c[\"bx_gse\"] = (\n",
    "    df_desenvolvimento_period_c[\"bx_gse\"]\n",
    "    .interpolate(method='linear', limit_direction='both'))\n",
    "df_desenvolvimento_period_c[\"by_gse\"] = (\n",
    "    df_desenvolvimento_period_c[\"by_gse\"]\n",
    "    .interpolate(method='linear', limit_direction='both'))\n",
    "df_desenvolvimento_period_c[\"bz_gse\"] = (\n",
    "    df_desenvolvimento_period_c[\"bz_gse\"]\n",
    "    .interpolate(method='linear', limit_direction='both'))\n",
    "df_desenvolvimento_period_c[\"bt\"] = (\n",
    "    df_desenvolvimento_period_c[\"bt\"]\n",
    "    .interpolate(method='linear', limit_direction='both'))\n",
    "df_desenvolvimento_period_c[\"density\"] = (\n",
    "    df_desenvolvimento_period_c[\"density\"]\n",
    "    .interpolate(method='linear', limit_direction='both'))\n",
    "df_desenvolvimento_period_c[\"speed\"] = (\n",
    "    df_desenvolvimento_period_c[\"speed\"]\n",
    "    .interpolate(method='linear', limit_direction='both'))\n",
    "df_desenvolvimento_period_c[\"temperature\"] = (\n",
    "    df_desenvolvimento_period_c[\"temperature\"]\n",
    "    .interpolate(method='linear', limit_direction='both'))"
   ]
  },
  {
   "cell_type": "markdown",
   "metadata": {},
   "source": [
    "##### Preenchendo valores ausentes das posições dos satélites com interpolação linear"
   ]
  },
  {
   "cell_type": "code",
   "execution_count": 57,
   "metadata": {},
   "outputs": [],
   "source": [
    "df_desenvolvimento_period_a[\"gse_x_satellite\"] = (\n",
    "    df_desenvolvimento_period_a[\"gse_x_satellite\"]\n",
    "    .interpolate(method='linear', limit_direction='both'))\n",
    "df_desenvolvimento_period_a[\"gse_x_satellite\"] = (\n",
    "    df_desenvolvimento_period_a[\"gse_x_satellite\"]\n",
    "    .apply(pd.to_numeric, downcast =\"float\"))\n",
    "\n",
    "df_desenvolvimento_period_a[\"gse_y_satellite\"] = (\n",
    "    df_desenvolvimento_period_a[\"gse_y_satellite\"]\n",
    "    .interpolate(method='linear', limit_direction='both'))\n",
    "df_desenvolvimento_period_a[\"gse_y_satellite\"] = (\n",
    "    df_desenvolvimento_period_a[\"gse_y_satellite\"]\n",
    "    .apply(pd.to_numeric, downcast =\"float\"))\n",
    "\n",
    "df_desenvolvimento_period_a[\"gse_z_satellite\"] = (\n",
    "    df_desenvolvimento_period_a[\"gse_z_satellite\"]\n",
    "    .interpolate(method='linear', limit_direction='both'))\n",
    "df_desenvolvimento_period_a[\"gse_z_satellite\"] = (\n",
    "    df_desenvolvimento_period_a[\"gse_z_satellite\"]\n",
    "    .apply(pd.to_numeric, downcast =\"float\"))\n",
    "\n",
    "df_desenvolvimento_period_b[\"gse_x_satellite\"] = (\n",
    "    df_desenvolvimento_period_b[\"gse_x_satellite\"]\n",
    "    .interpolate(method='linear', limit_direction='both'))\n",
    "df_desenvolvimento_period_b[\"gse_x_satellite\"] = (\n",
    "    df_desenvolvimento_period_b[\"gse_x_satellite\"]\n",
    "    .apply(pd.to_numeric, downcast =\"float\"))\n",
    "\n",
    "df_desenvolvimento_period_b[\"gse_y_satellite\"] = (\n",
    "    df_desenvolvimento_period_b[\"gse_y_satellite\"]\n",
    "    .interpolate(method='linear', limit_direction='both'))\n",
    "df_desenvolvimento_period_b[\"gse_y_satellite\"] = (\n",
    "    df_desenvolvimento_period_b[\"gse_y_satellite\"]\n",
    "    .apply(pd.to_numeric, downcast =\"float\"))\n",
    "\n",
    "df_desenvolvimento_period_b[\"gse_z_satellite\"] = (\n",
    "    df_desenvolvimento_period_b[\"gse_z_satellite\"]\n",
    "    .interpolate(method='linear', limit_direction='both'))\n",
    "df_desenvolvimento_period_b[\"gse_z_satellite\"] = (\n",
    "    df_desenvolvimento_period_b[\"gse_z_satellite\"]\n",
    "    .apply(pd.to_numeric, downcast =\"float\"))\n",
    "\n",
    "df_desenvolvimento_period_c[\"gse_x_satellite\"] = (\n",
    "    df_desenvolvimento_period_c[\"gse_x_satellite\"]\n",
    "    .interpolate(method='linear', limit_direction='both'))\n",
    "df_desenvolvimento_period_c[\"gse_x_satellite\"] = (\n",
    "    df_desenvolvimento_period_c[\"gse_x_satellite\"]\n",
    "    .apply(pd.to_numeric, downcast =\"float\"))\n",
    "\n",
    "df_desenvolvimento_period_c[\"gse_y_satellite\"] = (\n",
    "    df_desenvolvimento_period_c[\"gse_y_satellite\"]\n",
    "    .interpolate(method='linear', limit_direction='both'))\n",
    "df_desenvolvimento_period_c[\"gse_y_satellite\"] = (\n",
    "    df_desenvolvimento_period_c[\"gse_y_satellite\"]\n",
    "    .apply(pd.to_numeric, downcast =\"float\"))\n",
    "\n",
    "df_desenvolvimento_period_c[\"gse_z_satellite\"] = (\n",
    "    df_desenvolvimento_period_c[\"gse_z_satellite\"]\n",
    "    .interpolate(method='linear', limit_direction='both'))\n",
    "df_desenvolvimento_period_c[\"gse_z_satellite\"] = (\n",
    "    df_desenvolvimento_period_c[\"gse_z_satellite\"]\n",
    "    .apply(pd.to_numeric, downcast =\"float\"))"
   ]
  },
  {
   "cell_type": "markdown",
   "metadata": {},
   "source": [
    "##### Preenchendo Valores ausentes das manchas solares com interpolação linear"
   ]
  },
  {
   "cell_type": "code",
   "execution_count": null,
   "metadata": {},
   "outputs": [],
   "source": []
  },
  {
   "cell_type": "markdown",
   "metadata": {},
   "source": [
    "##### Preenchendo valores ausentes de Dst com interpolação linear"
   ]
  },
  {
   "cell_type": "code",
   "execution_count": null,
   "metadata": {},
   "outputs": [],
   "source": []
  },
  {
   "cell_type": "markdown",
   "metadata": {},
   "source": [
    "##### Exportando bases de dados de desenvolvimento"
   ]
  },
  {
   "cell_type": "code",
   "execution_count": null,
   "metadata": {},
   "outputs": [],
   "source": [
    "df_desenvolvimento_period_a.head()"
   ]
  },
  {
   "cell_type": "code",
   "execution_count": null,
   "metadata": {},
   "outputs": [],
   "source": [
    "df_desenvolvimento_period_a.isna().sum()"
   ]
  },
  {
   "cell_type": "code",
   "execution_count": null,
   "metadata": {},
   "outputs": [],
   "source": [
    "df_desenvolvimento_period_a.to_parquet(\n",
    "    r'..\\data\\df_desenvolvimento_period_a.parquet')\n",
    "df_desenvolvimento_period_b.to_parquet(\n",
    "    r'..\\data\\df_desenvolvimento_period_b.parquet')\n",
    "df_desenvolvimento_period_c.to_parquet(\n",
    "    r'..\\data\\df_desenvolvimento_period_c.parquet')"
   ]
  },
  {
   "cell_type": "markdown",
   "metadata": {},
   "source": [
    "### Removendo valores ausentes para base de dados de validação"
   ]
  },
  {
   "cell_type": "markdown",
   "metadata": {},
   "source": [
    "##### Segmentando base de dados por período"
   ]
  },
  {
   "cell_type": "code",
   "execution_count": null,
   "metadata": {},
   "outputs": [],
   "source": [
    "df_validacao = df_solar_wind.copy()\n",
    "df_validacao.dropna(how='any', inplace=True)"
   ]
  },
  {
   "cell_type": "markdown",
   "metadata": {},
   "source": [
    "##### Exportando bases de dados de validação"
   ]
  },
  {
   "cell_type": "code",
   "execution_count": null,
   "metadata": {},
   "outputs": [],
   "source": [
    "df_validacao.to_parquet( r'..\\data\\df_validacao.parquet')"
   ]
  }
 ],
 "metadata": {
  "kernelspec": {
   "display_name": "venv",
   "language": "python",
   "name": "python3"
  },
  "language_info": {
   "codemirror_mode": {
    "name": "ipython",
    "version": 3
   },
   "file_extension": ".py",
   "mimetype": "text/x-python",
   "name": "python",
   "nbconvert_exporter": "python",
   "pygments_lexer": "ipython3",
   "version": "3.12.7"
  }
 },
 "nbformat": 4,
 "nbformat_minor": 2
}
