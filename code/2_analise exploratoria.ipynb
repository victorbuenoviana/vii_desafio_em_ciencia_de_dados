{
 "cells": [
  {
   "cell_type": "markdown",
   "metadata": {},
   "source": [
    "### Importando bibliotecas"
   ]
  },
  {
   "cell_type": "code",
   "execution_count": 1,
   "metadata": {},
   "outputs": [],
   "source": [
    "# desabilita os warnings\n",
    "import warnings\n",
    "warnings.filterwarnings('ignore')"
   ]
  },
  {
   "cell_type": "code",
   "execution_count": 2,
   "metadata": {},
   "outputs": [],
   "source": [
    "import pandas as pd\n",
    "import numpy as np\n",
    "import plotly.express as px"
   ]
  },
  {
   "cell_type": "markdown",
   "metadata": {},
   "source": [
    "### Importando base de dados"
   ]
  },
  {
   "cell_type": "code",
   "execution_count": 4,
   "metadata": {},
   "outputs": [],
   "source": [
    "df_period_a = pd.read_parquet(r'..\\data\\df_validacao_period_a.parquet')\n",
    "df_period_b = pd.read_parquet(r'..\\data\\df_validacao_period_b.parquet')\n",
    "df_period_c = pd.read_parquet(r'..\\data\\df_validacao_period_c.parquet')"
   ]
  },
  {
   "cell_type": "code",
   "execution_count": 5,
   "metadata": {},
   "outputs": [
    {
     "data": {
      "text/html": [
       "<div>\n",
       "<style scoped>\n",
       "    .dataframe tbody tr th:only-of-type {\n",
       "        vertical-align: middle;\n",
       "    }\n",
       "\n",
       "    .dataframe tbody tr th {\n",
       "        vertical-align: top;\n",
       "    }\n",
       "\n",
       "    .dataframe thead th {\n",
       "        text-align: right;\n",
       "    }\n",
       "</style>\n",
       "<table border=\"1\" class=\"dataframe\">\n",
       "  <thead>\n",
       "    <tr style=\"text-align: right;\">\n",
       "      <th></th>\n",
       "      <th>timedelta</th>\n",
       "      <th>bx_gse</th>\n",
       "      <th>by_gse</th>\n",
       "      <th>bz_gse</th>\n",
       "      <th>bt</th>\n",
       "      <th>density</th>\n",
       "      <th>speed</th>\n",
       "      <th>temperature</th>\n",
       "      <th>gse_x_satellite</th>\n",
       "      <th>gse_y_satellite</th>\n",
       "      <th>gse_z_satellite</th>\n",
       "      <th>smoothed_ssn</th>\n",
       "      <th>dst</th>\n",
       "    </tr>\n",
       "  </thead>\n",
       "  <tbody>\n",
       "    <tr>\n",
       "      <th>count</th>\n",
       "      <td>35</td>\n",
       "      <td>35.000000</td>\n",
       "      <td>35.000000</td>\n",
       "      <td>35.000000</td>\n",
       "      <td>35.000000</td>\n",
       "      <td>35.000000</td>\n",
       "      <td>35.000000</td>\n",
       "      <td>35.000000</td>\n",
       "      <td>3.500000e+01</td>\n",
       "      <td>35.000000</td>\n",
       "      <td>35.000000</td>\n",
       "      <td>35.000000</td>\n",
       "      <td>35.000000</td>\n",
       "    </tr>\n",
       "    <tr>\n",
       "      <th>mean</th>\n",
       "      <td>623 days 05:29:08.571428568</td>\n",
       "      <td>-2.503714</td>\n",
       "      <td>0.369143</td>\n",
       "      <td>0.732857</td>\n",
       "      <td>7.084000</td>\n",
       "      <td>4.995429</td>\n",
       "      <td>457.002014</td>\n",
       "      <td>114455.773438</td>\n",
       "      <td>1.485993e+06</td>\n",
       "      <td>-5819.062857</td>\n",
       "      <td>5557.254286</td>\n",
       "      <td>141.097168</td>\n",
       "      <td>-24.342857</td>\n",
       "    </tr>\n",
       "    <tr>\n",
       "      <th>std</th>\n",
       "      <td>349 days 06:53:39.669548552</td>\n",
       "      <td>4.421122</td>\n",
       "      <td>4.563398</td>\n",
       "      <td>3.829339</td>\n",
       "      <td>3.271336</td>\n",
       "      <td>3.641784</td>\n",
       "      <td>101.858292</td>\n",
       "      <td>78983.164062</td>\n",
       "      <td>5.880990e+04</td>\n",
       "      <td>168396.160698</td>\n",
       "      <td>114168.478413</td>\n",
       "      <td>33.077988</td>\n",
       "      <td>40.309788</td>\n",
       "    </tr>\n",
       "    <tr>\n",
       "      <th>min</th>\n",
       "      <td>0 days 00:00:00</td>\n",
       "      <td>-10.370000</td>\n",
       "      <td>-11.630000</td>\n",
       "      <td>-5.420000</td>\n",
       "      <td>1.460000</td>\n",
       "      <td>0.400000</td>\n",
       "      <td>294.059998</td>\n",
       "      <td>15261.000000</td>\n",
       "      <td>1.388802e+06</td>\n",
       "      <td>-243533.200000</td>\n",
       "      <td>-152068.500000</td>\n",
       "      <td>65.400002</td>\n",
       "      <td>-228.000000</td>\n",
       "    </tr>\n",
       "    <tr>\n",
       "      <th>25%</th>\n",
       "      <td>364 days 00:00:00</td>\n",
       "      <td>-6.145000</td>\n",
       "      <td>-1.475000</td>\n",
       "      <td>-2.495000</td>\n",
       "      <td>5.350000</td>\n",
       "      <td>2.015000</td>\n",
       "      <td>382.670013</td>\n",
       "      <td>48100.500000</td>\n",
       "      <td>1.431486e+06</td>\n",
       "      <td>-169524.900000</td>\n",
       "      <td>-105668.450000</td>\n",
       "      <td>122.400002</td>\n",
       "      <td>-29.000000</td>\n",
       "    </tr>\n",
       "    <tr>\n",
       "      <th>50%</th>\n",
       "      <td>653 days 00:00:00</td>\n",
       "      <td>-3.260000</td>\n",
       "      <td>0.050000</td>\n",
       "      <td>-0.300000</td>\n",
       "      <td>6.490000</td>\n",
       "      <td>3.860000</td>\n",
       "      <td>443.369995</td>\n",
       "      <td>95324.000000</td>\n",
       "      <td>1.485824e+06</td>\n",
       "      <td>-5948.300000</td>\n",
       "      <td>3392.900000</td>\n",
       "      <td>155.100006</td>\n",
       "      <td>-14.000000</td>\n",
       "    </tr>\n",
       "    <tr>\n",
       "      <th>75%</th>\n",
       "      <td>912 days 12:00:00</td>\n",
       "      <td>1.415000</td>\n",
       "      <td>2.130000</td>\n",
       "      <td>2.915000</td>\n",
       "      <td>8.400000</td>\n",
       "      <td>6.685000</td>\n",
       "      <td>492.080002</td>\n",
       "      <td>152156.000000</td>\n",
       "      <td>1.536932e+06</td>\n",
       "      <td>147887.500000</td>\n",
       "      <td>121049.850000</td>\n",
       "      <td>165.700005</td>\n",
       "      <td>-7.000000</td>\n",
       "    </tr>\n",
       "    <tr>\n",
       "      <th>max</th>\n",
       "      <td>1170 days 00:00:00</td>\n",
       "      <td>6.440000</td>\n",
       "      <td>11.480000</td>\n",
       "      <td>9.150000</td>\n",
       "      <td>15.920000</td>\n",
       "      <td>12.130000</td>\n",
       "      <td>768.460022</td>\n",
       "      <td>305660.000000</td>\n",
       "      <td>1.592393e+06</td>\n",
       "      <td>249392.100000</td>\n",
       "      <td>155075.300000</td>\n",
       "      <td>175.199997</td>\n",
       "      <td>12.000000</td>\n",
       "    </tr>\n",
       "  </tbody>\n",
       "</table>\n",
       "</div>"
      ],
      "text/plain": [
       "                         timedelta     bx_gse     by_gse     bz_gse  \\\n",
       "count                           35  35.000000  35.000000  35.000000   \n",
       "mean   623 days 05:29:08.571428568  -2.503714   0.369143   0.732857   \n",
       "std    349 days 06:53:39.669548552   4.421122   4.563398   3.829339   \n",
       "min                0 days 00:00:00 -10.370000 -11.630000  -5.420000   \n",
       "25%              364 days 00:00:00  -6.145000  -1.475000  -2.495000   \n",
       "50%              653 days 00:00:00  -3.260000   0.050000  -0.300000   \n",
       "75%              912 days 12:00:00   1.415000   2.130000   2.915000   \n",
       "max             1170 days 00:00:00   6.440000  11.480000   9.150000   \n",
       "\n",
       "              bt    density       speed    temperature  gse_x_satellite  \\\n",
       "count  35.000000  35.000000   35.000000      35.000000     3.500000e+01   \n",
       "mean    7.084000   4.995429  457.002014  114455.773438     1.485993e+06   \n",
       "std     3.271336   3.641784  101.858292   78983.164062     5.880990e+04   \n",
       "min     1.460000   0.400000  294.059998   15261.000000     1.388802e+06   \n",
       "25%     5.350000   2.015000  382.670013   48100.500000     1.431486e+06   \n",
       "50%     6.490000   3.860000  443.369995   95324.000000     1.485824e+06   \n",
       "75%     8.400000   6.685000  492.080002  152156.000000     1.536932e+06   \n",
       "max    15.920000  12.130000  768.460022  305660.000000     1.592393e+06   \n",
       "\n",
       "       gse_y_satellite  gse_z_satellite  smoothed_ssn         dst  \n",
       "count        35.000000        35.000000     35.000000   35.000000  \n",
       "mean      -5819.062857      5557.254286    141.097168  -24.342857  \n",
       "std      168396.160698    114168.478413     33.077988   40.309788  \n",
       "min     -243533.200000   -152068.500000     65.400002 -228.000000  \n",
       "25%     -169524.900000   -105668.450000    122.400002  -29.000000  \n",
       "50%       -5948.300000      3392.900000    155.100006  -14.000000  \n",
       "75%      147887.500000    121049.850000    165.700005   -7.000000  \n",
       "max      249392.100000    155075.300000    175.199997   12.000000  "
      ]
     },
     "execution_count": 5,
     "metadata": {},
     "output_type": "execute_result"
    }
   ],
   "source": [
    "df_period_a.describe()"
   ]
  },
  {
   "cell_type": "code",
   "execution_count": 6,
   "metadata": {},
   "outputs": [
    {
     "data": {
      "text/html": [
       "<div>\n",
       "<style scoped>\n",
       "    .dataframe tbody tr th:only-of-type {\n",
       "        vertical-align: middle;\n",
       "    }\n",
       "\n",
       "    .dataframe tbody tr th {\n",
       "        vertical-align: top;\n",
       "    }\n",
       "\n",
       "    .dataframe thead th {\n",
       "        text-align: right;\n",
       "    }\n",
       "</style>\n",
       "<table border=\"1\" class=\"dataframe\">\n",
       "  <thead>\n",
       "    <tr style=\"text-align: right;\">\n",
       "      <th></th>\n",
       "      <th>timedelta</th>\n",
       "      <th>bx_gse</th>\n",
       "      <th>by_gse</th>\n",
       "      <th>bz_gse</th>\n",
       "      <th>bt</th>\n",
       "      <th>density</th>\n",
       "      <th>speed</th>\n",
       "      <th>temperature</th>\n",
       "      <th>gse_x_satellite</th>\n",
       "      <th>gse_y_satellite</th>\n",
       "      <th>gse_z_satellite</th>\n",
       "      <th>smoothed_ssn</th>\n",
       "      <th>dst</th>\n",
       "    </tr>\n",
       "  </thead>\n",
       "  <tbody>\n",
       "    <tr>\n",
       "      <th>count</th>\n",
       "      <td>68</td>\n",
       "      <td>68.000000</td>\n",
       "      <td>68.000000</td>\n",
       "      <td>68.000000</td>\n",
       "      <td>68.000000</td>\n",
       "      <td>68.000000</td>\n",
       "      <td>68.000000</td>\n",
       "      <td>68.000000</td>\n",
       "      <td>6.800000e+01</td>\n",
       "      <td>68.000000</td>\n",
       "      <td>68.000000</td>\n",
       "      <td>68.000000</td>\n",
       "      <td>68.000000</td>\n",
       "    </tr>\n",
       "    <tr>\n",
       "      <th>mean</th>\n",
       "      <td>1107 days 21:31:45.882352944</td>\n",
       "      <td>0.383382</td>\n",
       "      <td>0.416912</td>\n",
       "      <td>-0.316765</td>\n",
       "      <td>6.329706</td>\n",
       "      <td>6.454265</td>\n",
       "      <td>419.401031</td>\n",
       "      <td>148139.671875</td>\n",
       "      <td>1.486100e+06</td>\n",
       "      <td>-5288.929412</td>\n",
       "      <td>8587.800000</td>\n",
       "      <td>50.372059</td>\n",
       "      <td>-9.794118</td>\n",
       "    </tr>\n",
       "    <tr>\n",
       "      <th>std</th>\n",
       "      <td>634 days 17:06:19.419538392</td>\n",
       "      <td>3.842107</td>\n",
       "      <td>4.316019</td>\n",
       "      <td>4.040176</td>\n",
       "      <td>3.100285</td>\n",
       "      <td>3.475191</td>\n",
       "      <td>94.067680</td>\n",
       "      <td>164656.906250</td>\n",
       "      <td>6.135557e+04</td>\n",
       "      <td>185252.522458</td>\n",
       "      <td>120624.837219</td>\n",
       "      <td>39.023869</td>\n",
       "      <td>18.519501</td>\n",
       "    </tr>\n",
       "    <tr>\n",
       "      <th>min</th>\n",
       "      <td>0 days 00:00:00</td>\n",
       "      <td>-5.670000</td>\n",
       "      <td>-8.320000</td>\n",
       "      <td>-13.730000</td>\n",
       "      <td>2.580000</td>\n",
       "      <td>1.370000</td>\n",
       "      <td>250.839996</td>\n",
       "      <td>11957.000000</td>\n",
       "      <td>1.389799e+06</td>\n",
       "      <td>-271466.000000</td>\n",
       "      <td>-188222.000000</td>\n",
       "      <td>3.900000</td>\n",
       "      <td>-110.000000</td>\n",
       "    </tr>\n",
       "    <tr>\n",
       "      <th>25%</th>\n",
       "      <td>571 days 06:00:00</td>\n",
       "      <td>-3.452500</td>\n",
       "      <td>-2.557500</td>\n",
       "      <td>-2.082500</td>\n",
       "      <td>4.172500</td>\n",
       "      <td>3.810000</td>\n",
       "      <td>360.227509</td>\n",
       "      <td>39595.750000</td>\n",
       "      <td>1.427308e+06</td>\n",
       "      <td>-186444.550000</td>\n",
       "      <td>-108513.150000</td>\n",
       "      <td>14.875000</td>\n",
       "      <td>-16.000000</td>\n",
       "    </tr>\n",
       "    <tr>\n",
       "      <th>50%</th>\n",
       "      <td>1111 days 00:00:00</td>\n",
       "      <td>-0.245000</td>\n",
       "      <td>-0.150000</td>\n",
       "      <td>-0.165000</td>\n",
       "      <td>5.505000</td>\n",
       "      <td>5.845000</td>\n",
       "      <td>407.599991</td>\n",
       "      <td>89567.000000</td>\n",
       "      <td>1.480254e+06</td>\n",
       "      <td>-21189.350000</td>\n",
       "      <td>25066.800000</td>\n",
       "      <td>40.000000</td>\n",
       "      <td>-7.000000</td>\n",
       "    </tr>\n",
       "    <tr>\n",
       "      <th>75%</th>\n",
       "      <td>1651 days 18:00:00</td>\n",
       "      <td>3.070000</td>\n",
       "      <td>3.780000</td>\n",
       "      <td>1.500000</td>\n",
       "      <td>7.702500</td>\n",
       "      <td>8.115000</td>\n",
       "      <td>465.600006</td>\n",
       "      <td>183744.500000</td>\n",
       "      <td>1.537082e+06</td>\n",
       "      <td>179765.325000</td>\n",
       "      <td>127184.025000</td>\n",
       "      <td>89.700003</td>\n",
       "      <td>1.250000</td>\n",
       "    </tr>\n",
       "    <tr>\n",
       "      <th>max</th>\n",
       "      <td>2160 days 00:00:00</td>\n",
       "      <td>8.640000</td>\n",
       "      <td>10.380000</td>\n",
       "      <td>18.680000</td>\n",
       "      <td>19.330000</td>\n",
       "      <td>16.129999</td>\n",
       "      <td>738.000000</td>\n",
       "      <td>749406.000000</td>\n",
       "      <td>1.593916e+06</td>\n",
       "      <td>252659.000000</td>\n",
       "      <td>172119.000000</td>\n",
       "      <td>116.400002</td>\n",
       "      <td>13.000000</td>\n",
       "    </tr>\n",
       "  </tbody>\n",
       "</table>\n",
       "</div>"
      ],
      "text/plain": [
       "                          timedelta     bx_gse     by_gse     bz_gse  \\\n",
       "count                            68  68.000000  68.000000  68.000000   \n",
       "mean   1107 days 21:31:45.882352944   0.383382   0.416912  -0.316765   \n",
       "std     634 days 17:06:19.419538392   3.842107   4.316019   4.040176   \n",
       "min                 0 days 00:00:00  -5.670000  -8.320000 -13.730000   \n",
       "25%               571 days 06:00:00  -3.452500  -2.557500  -2.082500   \n",
       "50%              1111 days 00:00:00  -0.245000  -0.150000  -0.165000   \n",
       "75%              1651 days 18:00:00   3.070000   3.780000   1.500000   \n",
       "max              2160 days 00:00:00   8.640000  10.380000  18.680000   \n",
       "\n",
       "              bt    density       speed    temperature  gse_x_satellite  \\\n",
       "count  68.000000  68.000000   68.000000      68.000000     6.800000e+01   \n",
       "mean    6.329706   6.454265  419.401031  148139.671875     1.486100e+06   \n",
       "std     3.100285   3.475191   94.067680  164656.906250     6.135557e+04   \n",
       "min     2.580000   1.370000  250.839996   11957.000000     1.389799e+06   \n",
       "25%     4.172500   3.810000  360.227509   39595.750000     1.427308e+06   \n",
       "50%     5.505000   5.845000  407.599991   89567.000000     1.480254e+06   \n",
       "75%     7.702500   8.115000  465.600006  183744.500000     1.537082e+06   \n",
       "max    19.330000  16.129999  738.000000  749406.000000     1.593916e+06   \n",
       "\n",
       "       gse_y_satellite  gse_z_satellite  smoothed_ssn         dst  \n",
       "count        68.000000        68.000000     68.000000   68.000000  \n",
       "mean      -5288.929412      8587.800000     50.372059   -9.794118  \n",
       "std      185252.522458    120624.837219     39.023869   18.519501  \n",
       "min     -271466.000000   -188222.000000      3.900000 -110.000000  \n",
       "25%     -186444.550000   -108513.150000     14.875000  -16.000000  \n",
       "50%      -21189.350000     25066.800000     40.000000   -7.000000  \n",
       "75%      179765.325000    127184.025000     89.700003    1.250000  \n",
       "max      252659.000000    172119.000000    116.400002   13.000000  "
      ]
     },
     "execution_count": 6,
     "metadata": {},
     "output_type": "execute_result"
    }
   ],
   "source": [
    "df_period_b.describe()"
   ]
  },
  {
   "cell_type": "code",
   "execution_count": 7,
   "metadata": {},
   "outputs": [
    {
     "data": {
      "text/html": [
       "<div>\n",
       "<style scoped>\n",
       "    .dataframe tbody tr th:only-of-type {\n",
       "        vertical-align: middle;\n",
       "    }\n",
       "\n",
       "    .dataframe tbody tr th {\n",
       "        vertical-align: top;\n",
       "    }\n",
       "\n",
       "    .dataframe thead th {\n",
       "        text-align: right;\n",
       "    }\n",
       "</style>\n",
       "<table border=\"1\" class=\"dataframe\">\n",
       "  <thead>\n",
       "    <tr style=\"text-align: right;\">\n",
       "      <th></th>\n",
       "      <th>timedelta</th>\n",
       "      <th>bx_gse</th>\n",
       "      <th>by_gse</th>\n",
       "      <th>bz_gse</th>\n",
       "      <th>bt</th>\n",
       "      <th>density</th>\n",
       "      <th>speed</th>\n",
       "      <th>temperature</th>\n",
       "      <th>gse_x_satellite</th>\n",
       "      <th>gse_y_satellite</th>\n",
       "      <th>gse_z_satellite</th>\n",
       "      <th>smoothed_ssn</th>\n",
       "      <th>dst</th>\n",
       "    </tr>\n",
       "  </thead>\n",
       "  <tbody>\n",
       "    <tr>\n",
       "      <th>count</th>\n",
       "      <td>67</td>\n",
       "      <td>67.000000</td>\n",
       "      <td>67.000000</td>\n",
       "      <td>67.000000</td>\n",
       "      <td>67.000000</td>\n",
       "      <td>67.000000</td>\n",
       "      <td>67.000000</td>\n",
       "      <td>67.000000</td>\n",
       "      <td>6.700000e+01</td>\n",
       "      <td>67.000000</td>\n",
       "      <td>67.000000</td>\n",
       "      <td>67.000000</td>\n",
       "      <td>67.000000</td>\n",
       "    </tr>\n",
       "    <tr>\n",
       "      <th>mean</th>\n",
       "      <td>1261 days 01:04:28.656716416</td>\n",
       "      <td>-0.084925</td>\n",
       "      <td>-0.409403</td>\n",
       "      <td>-0.362090</td>\n",
       "      <td>5.117910</td>\n",
       "      <td>2.829851</td>\n",
       "      <td>448.287903</td>\n",
       "      <td>115689.210938</td>\n",
       "      <td>1.488051e+06</td>\n",
       "      <td>-4263.770149</td>\n",
       "      <td>-2370.640299</td>\n",
       "      <td>23.050747</td>\n",
       "      <td>-11.149254</td>\n",
       "    </tr>\n",
       "    <tr>\n",
       "      <th>std</th>\n",
       "      <td>691 days 09:16:04.790004408</td>\n",
       "      <td>3.216784</td>\n",
       "      <td>3.457578</td>\n",
       "      <td>3.031401</td>\n",
       "      <td>2.283129</td>\n",
       "      <td>2.940489</td>\n",
       "      <td>99.616684</td>\n",
       "      <td>98930.804688</td>\n",
       "      <td>5.790592e+04</td>\n",
       "      <td>185841.935190</td>\n",
       "      <td>109619.970061</td>\n",
       "      <td>17.586077</td>\n",
       "      <td>13.725947</td>\n",
       "    </tr>\n",
       "    <tr>\n",
       "      <th>min</th>\n",
       "      <td>0 days 00:00:00</td>\n",
       "      <td>-7.250000</td>\n",
       "      <td>-9.010000</td>\n",
       "      <td>-8.150000</td>\n",
       "      <td>1.870000</td>\n",
       "      <td>0.180000</td>\n",
       "      <td>271.260010</td>\n",
       "      <td>10831.000000</td>\n",
       "      <td>1.387916e+06</td>\n",
       "      <td>-266416.800000</td>\n",
       "      <td>-159599.100000</td>\n",
       "      <td>2.300000</td>\n",
       "      <td>-51.000000</td>\n",
       "    </tr>\n",
       "    <tr>\n",
       "      <th>25%</th>\n",
       "      <td>715 days 00:00:00</td>\n",
       "      <td>-2.545000</td>\n",
       "      <td>-3.035000</td>\n",
       "      <td>-2.020000</td>\n",
       "      <td>3.315000</td>\n",
       "      <td>1.060000</td>\n",
       "      <td>380.875000</td>\n",
       "      <td>45881.500000</td>\n",
       "      <td>1.443261e+06</td>\n",
       "      <td>-192011.350000</td>\n",
       "      <td>-122318.250000</td>\n",
       "      <td>8.550000</td>\n",
       "      <td>-18.000000</td>\n",
       "    </tr>\n",
       "    <tr>\n",
       "      <th>50%</th>\n",
       "      <td>1248 days 00:00:00</td>\n",
       "      <td>-0.170000</td>\n",
       "      <td>0.400000</td>\n",
       "      <td>-0.200000</td>\n",
       "      <td>4.450000</td>\n",
       "      <td>1.890000</td>\n",
       "      <td>439.920013</td>\n",
       "      <td>81470.000000</td>\n",
       "      <td>1.486959e+06</td>\n",
       "      <td>-5974.700000</td>\n",
       "      <td>6946.300000</td>\n",
       "      <td>20.200001</td>\n",
       "      <td>-8.000000</td>\n",
       "    </tr>\n",
       "    <tr>\n",
       "      <th>75%</th>\n",
       "      <td>1872 days 00:00:00</td>\n",
       "      <td>2.790000</td>\n",
       "      <td>2.105000</td>\n",
       "      <td>1.075000</td>\n",
       "      <td>6.465000</td>\n",
       "      <td>3.770000</td>\n",
       "      <td>505.354996</td>\n",
       "      <td>142414.000000</td>\n",
       "      <td>1.539678e+06</td>\n",
       "      <td>176559.600000</td>\n",
       "      <td>114839.650000</td>\n",
       "      <td>33.750000</td>\n",
       "      <td>-3.000000</td>\n",
       "    </tr>\n",
       "    <tr>\n",
       "      <th>max</th>\n",
       "      <td>2405 days 00:00:00</td>\n",
       "      <td>7.090000</td>\n",
       "      <td>8.470000</td>\n",
       "      <td>8.000000</td>\n",
       "      <td>10.760000</td>\n",
       "      <td>19.780001</td>\n",
       "      <td>731.450012</td>\n",
       "      <td>517139.000000</td>\n",
       "      <td>1.583987e+06</td>\n",
       "      <td>262981.500000</td>\n",
       "      <td>148622.500000</td>\n",
       "      <td>69.500000</td>\n",
       "      <td>19.000000</td>\n",
       "    </tr>\n",
       "  </tbody>\n",
       "</table>\n",
       "</div>"
      ],
      "text/plain": [
       "                          timedelta     bx_gse     by_gse     bz_gse  \\\n",
       "count                            67  67.000000  67.000000  67.000000   \n",
       "mean   1261 days 01:04:28.656716416  -0.084925  -0.409403  -0.362090   \n",
       "std     691 days 09:16:04.790004408   3.216784   3.457578   3.031401   \n",
       "min                 0 days 00:00:00  -7.250000  -9.010000  -8.150000   \n",
       "25%               715 days 00:00:00  -2.545000  -3.035000  -2.020000   \n",
       "50%              1248 days 00:00:00  -0.170000   0.400000  -0.200000   \n",
       "75%              1872 days 00:00:00   2.790000   2.105000   1.075000   \n",
       "max              2405 days 00:00:00   7.090000   8.470000   8.000000   \n",
       "\n",
       "              bt    density       speed    temperature  gse_x_satellite  \\\n",
       "count  67.000000  67.000000   67.000000      67.000000     6.700000e+01   \n",
       "mean    5.117910   2.829851  448.287903  115689.210938     1.488051e+06   \n",
       "std     2.283129   2.940489   99.616684   98930.804688     5.790592e+04   \n",
       "min     1.870000   0.180000  271.260010   10831.000000     1.387916e+06   \n",
       "25%     3.315000   1.060000  380.875000   45881.500000     1.443261e+06   \n",
       "50%     4.450000   1.890000  439.920013   81470.000000     1.486959e+06   \n",
       "75%     6.465000   3.770000  505.354996  142414.000000     1.539678e+06   \n",
       "max    10.760000  19.780001  731.450012  517139.000000     1.583987e+06   \n",
       "\n",
       "       gse_y_satellite  gse_z_satellite  smoothed_ssn        dst  \n",
       "count        67.000000        67.000000     67.000000  67.000000  \n",
       "mean      -4263.770149     -2370.640299     23.050747 -11.149254  \n",
       "std      185841.935190    109619.970061     17.586077  13.725947  \n",
       "min     -266416.800000   -159599.100000      2.300000 -51.000000  \n",
       "25%     -192011.350000   -122318.250000      8.550000 -18.000000  \n",
       "50%       -5974.700000      6946.300000     20.200001  -8.000000  \n",
       "75%      176559.600000    114839.650000     33.750000  -3.000000  \n",
       "max      262981.500000    148622.500000     69.500000  19.000000  "
      ]
     },
     "execution_count": 7,
     "metadata": {},
     "output_type": "execute_result"
    }
   ],
   "source": [
    "df_period_c.describe()"
   ]
  },
  {
   "cell_type": "code",
   "execution_count": 8,
   "metadata": {},
   "outputs": [
    {
     "data": {
      "application/vnd.plotly.v1+json": {
       "config": {
        "plotlyServerURL": "https://plot.ly"
       },
       "data": [
        {
         "alignmentgroup": "True",
         "hovertemplate": "timedelta=%{x}<br>dst=%{y}<extra></extra>",
         "legendgroup": "",
         "marker": {
          "color": "#636efa",
          "pattern": {
           "shape": ""
          }
         },
         "name": "",
         "offsetgroup": "",
         "orientation": "v",
         "showlegend": false,
         "textposition": "auto",
         "type": "bar",
         "x": [
          0,
          5270400000000000,
          7948800000000000,
          10627200000000000,
          21168000000000000,
          23846400000000000,
          28944000000000000,
          31536000000000000,
          34214400000000000,
          36806400000000000,
          39484800000000000,
          44755200000000000,
          47433600000000000,
          50025600000000000,
          52704000000000000,
          57801600000000000,
          60480000000000000,
          63072000000000000,
          65750400000000000,
          68342400000000000,
          71020800000000000,
          73699200000000000,
          76291200000000000,
          78969600000000000,
          81561600000000000,
          84240000000000000,
          89337600000000000,
          92016000000000000,
          94608000000000000,
          97286400000000000,
          99878400000000000,
          102556800000000000,
          105235200000000000,
          107827200000000000,
          110505600000000000,
          113097600000000000,
          115776000000000000,
          118454400000000000,
          120960000000000000,
          123638400000000000,
          126230400000000000,
          128908800000000000,
          131500800000000000,
          134179200000000000,
          142128000000000000,
          147398400000000000,
          150076800000000000,
          152496000000000000,
          155174400000000000,
          160444800000000000,
          163036800000000000,
          165715200000000000,
          168393600000000000,
          170985600000000000,
          176256000000000000,
          178934400000000000,
          181612800000000000,
          184032000000000000,
          186710400000000000,
          189302400000000000,
          191980800000000000,
          194572800000000000,
          197251200000000000,
          199929600000000000,
          202521600000000000,
          205200000000000000,
          207792000000000000
         ],
         "xaxis": "x",
         "y": [
          -18,
          7,
          -32,
          -38,
          -5,
          -25,
          0,
          -8,
          -33,
          8,
          -23,
          -10,
          -51,
          -11,
          -19,
          -6,
          -6,
          2,
          7,
          -14,
          -14,
          -34,
          -25,
          -20,
          -33,
          -3,
          -18,
          19,
          -14,
          -9,
          -4,
          -11,
          -11,
          -10,
          -21,
          -1,
          -12,
          -30,
          -47,
          -21,
          -12,
          -5,
          -6,
          -2,
          -12,
          -7,
          -9,
          -2,
          1,
          -3,
          -5,
          -6,
          -8,
          -3,
          2,
          5,
          1,
          3,
          -3,
          -6,
          -44,
          -14,
          -7,
          1,
          -3,
          4,
          -13
         ],
         "yaxis": "y"
        }
       ],
       "layout": {
        "barmode": "relative",
        "legend": {
         "tracegroupgap": 0
        },
        "margin": {
         "t": 60
        },
        "template": {
         "data": {
          "bar": [
           {
            "error_x": {
             "color": "#2a3f5f"
            },
            "error_y": {
             "color": "#2a3f5f"
            },
            "marker": {
             "line": {
              "color": "#E5ECF6",
              "width": 0.5
             },
             "pattern": {
              "fillmode": "overlay",
              "size": 10,
              "solidity": 0.2
             }
            },
            "type": "bar"
           }
          ],
          "barpolar": [
           {
            "marker": {
             "line": {
              "color": "#E5ECF6",
              "width": 0.5
             },
             "pattern": {
              "fillmode": "overlay",
              "size": 10,
              "solidity": 0.2
             }
            },
            "type": "barpolar"
           }
          ],
          "carpet": [
           {
            "aaxis": {
             "endlinecolor": "#2a3f5f",
             "gridcolor": "white",
             "linecolor": "white",
             "minorgridcolor": "white",
             "startlinecolor": "#2a3f5f"
            },
            "baxis": {
             "endlinecolor": "#2a3f5f",
             "gridcolor": "white",
             "linecolor": "white",
             "minorgridcolor": "white",
             "startlinecolor": "#2a3f5f"
            },
            "type": "carpet"
           }
          ],
          "choropleth": [
           {
            "colorbar": {
             "outlinewidth": 0,
             "ticks": ""
            },
            "type": "choropleth"
           }
          ],
          "contour": [
           {
            "colorbar": {
             "outlinewidth": 0,
             "ticks": ""
            },
            "colorscale": [
             [
              0,
              "#0d0887"
             ],
             [
              0.1111111111111111,
              "#46039f"
             ],
             [
              0.2222222222222222,
              "#7201a8"
             ],
             [
              0.3333333333333333,
              "#9c179e"
             ],
             [
              0.4444444444444444,
              "#bd3786"
             ],
             [
              0.5555555555555556,
              "#d8576b"
             ],
             [
              0.6666666666666666,
              "#ed7953"
             ],
             [
              0.7777777777777778,
              "#fb9f3a"
             ],
             [
              0.8888888888888888,
              "#fdca26"
             ],
             [
              1,
              "#f0f921"
             ]
            ],
            "type": "contour"
           }
          ],
          "contourcarpet": [
           {
            "colorbar": {
             "outlinewidth": 0,
             "ticks": ""
            },
            "type": "contourcarpet"
           }
          ],
          "heatmap": [
           {
            "colorbar": {
             "outlinewidth": 0,
             "ticks": ""
            },
            "colorscale": [
             [
              0,
              "#0d0887"
             ],
             [
              0.1111111111111111,
              "#46039f"
             ],
             [
              0.2222222222222222,
              "#7201a8"
             ],
             [
              0.3333333333333333,
              "#9c179e"
             ],
             [
              0.4444444444444444,
              "#bd3786"
             ],
             [
              0.5555555555555556,
              "#d8576b"
             ],
             [
              0.6666666666666666,
              "#ed7953"
             ],
             [
              0.7777777777777778,
              "#fb9f3a"
             ],
             [
              0.8888888888888888,
              "#fdca26"
             ],
             [
              1,
              "#f0f921"
             ]
            ],
            "type": "heatmap"
           }
          ],
          "heatmapgl": [
           {
            "colorbar": {
             "outlinewidth": 0,
             "ticks": ""
            },
            "colorscale": [
             [
              0,
              "#0d0887"
             ],
             [
              0.1111111111111111,
              "#46039f"
             ],
             [
              0.2222222222222222,
              "#7201a8"
             ],
             [
              0.3333333333333333,
              "#9c179e"
             ],
             [
              0.4444444444444444,
              "#bd3786"
             ],
             [
              0.5555555555555556,
              "#d8576b"
             ],
             [
              0.6666666666666666,
              "#ed7953"
             ],
             [
              0.7777777777777778,
              "#fb9f3a"
             ],
             [
              0.8888888888888888,
              "#fdca26"
             ],
             [
              1,
              "#f0f921"
             ]
            ],
            "type": "heatmapgl"
           }
          ],
          "histogram": [
           {
            "marker": {
             "pattern": {
              "fillmode": "overlay",
              "size": 10,
              "solidity": 0.2
             }
            },
            "type": "histogram"
           }
          ],
          "histogram2d": [
           {
            "colorbar": {
             "outlinewidth": 0,
             "ticks": ""
            },
            "colorscale": [
             [
              0,
              "#0d0887"
             ],
             [
              0.1111111111111111,
              "#46039f"
             ],
             [
              0.2222222222222222,
              "#7201a8"
             ],
             [
              0.3333333333333333,
              "#9c179e"
             ],
             [
              0.4444444444444444,
              "#bd3786"
             ],
             [
              0.5555555555555556,
              "#d8576b"
             ],
             [
              0.6666666666666666,
              "#ed7953"
             ],
             [
              0.7777777777777778,
              "#fb9f3a"
             ],
             [
              0.8888888888888888,
              "#fdca26"
             ],
             [
              1,
              "#f0f921"
             ]
            ],
            "type": "histogram2d"
           }
          ],
          "histogram2dcontour": [
           {
            "colorbar": {
             "outlinewidth": 0,
             "ticks": ""
            },
            "colorscale": [
             [
              0,
              "#0d0887"
             ],
             [
              0.1111111111111111,
              "#46039f"
             ],
             [
              0.2222222222222222,
              "#7201a8"
             ],
             [
              0.3333333333333333,
              "#9c179e"
             ],
             [
              0.4444444444444444,
              "#bd3786"
             ],
             [
              0.5555555555555556,
              "#d8576b"
             ],
             [
              0.6666666666666666,
              "#ed7953"
             ],
             [
              0.7777777777777778,
              "#fb9f3a"
             ],
             [
              0.8888888888888888,
              "#fdca26"
             ],
             [
              1,
              "#f0f921"
             ]
            ],
            "type": "histogram2dcontour"
           }
          ],
          "mesh3d": [
           {
            "colorbar": {
             "outlinewidth": 0,
             "ticks": ""
            },
            "type": "mesh3d"
           }
          ],
          "parcoords": [
           {
            "line": {
             "colorbar": {
              "outlinewidth": 0,
              "ticks": ""
             }
            },
            "type": "parcoords"
           }
          ],
          "pie": [
           {
            "automargin": true,
            "type": "pie"
           }
          ],
          "scatter": [
           {
            "fillpattern": {
             "fillmode": "overlay",
             "size": 10,
             "solidity": 0.2
            },
            "type": "scatter"
           }
          ],
          "scatter3d": [
           {
            "line": {
             "colorbar": {
              "outlinewidth": 0,
              "ticks": ""
             }
            },
            "marker": {
             "colorbar": {
              "outlinewidth": 0,
              "ticks": ""
             }
            },
            "type": "scatter3d"
           }
          ],
          "scattercarpet": [
           {
            "marker": {
             "colorbar": {
              "outlinewidth": 0,
              "ticks": ""
             }
            },
            "type": "scattercarpet"
           }
          ],
          "scattergeo": [
           {
            "marker": {
             "colorbar": {
              "outlinewidth": 0,
              "ticks": ""
             }
            },
            "type": "scattergeo"
           }
          ],
          "scattergl": [
           {
            "marker": {
             "colorbar": {
              "outlinewidth": 0,
              "ticks": ""
             }
            },
            "type": "scattergl"
           }
          ],
          "scattermapbox": [
           {
            "marker": {
             "colorbar": {
              "outlinewidth": 0,
              "ticks": ""
             }
            },
            "type": "scattermapbox"
           }
          ],
          "scatterpolar": [
           {
            "marker": {
             "colorbar": {
              "outlinewidth": 0,
              "ticks": ""
             }
            },
            "type": "scatterpolar"
           }
          ],
          "scatterpolargl": [
           {
            "marker": {
             "colorbar": {
              "outlinewidth": 0,
              "ticks": ""
             }
            },
            "type": "scatterpolargl"
           }
          ],
          "scatterternary": [
           {
            "marker": {
             "colorbar": {
              "outlinewidth": 0,
              "ticks": ""
             }
            },
            "type": "scatterternary"
           }
          ],
          "surface": [
           {
            "colorbar": {
             "outlinewidth": 0,
             "ticks": ""
            },
            "colorscale": [
             [
              0,
              "#0d0887"
             ],
             [
              0.1111111111111111,
              "#46039f"
             ],
             [
              0.2222222222222222,
              "#7201a8"
             ],
             [
              0.3333333333333333,
              "#9c179e"
             ],
             [
              0.4444444444444444,
              "#bd3786"
             ],
             [
              0.5555555555555556,
              "#d8576b"
             ],
             [
              0.6666666666666666,
              "#ed7953"
             ],
             [
              0.7777777777777778,
              "#fb9f3a"
             ],
             [
              0.8888888888888888,
              "#fdca26"
             ],
             [
              1,
              "#f0f921"
             ]
            ],
            "type": "surface"
           }
          ],
          "table": [
           {
            "cells": {
             "fill": {
              "color": "#EBF0F8"
             },
             "line": {
              "color": "white"
             }
            },
            "header": {
             "fill": {
              "color": "#C8D4E3"
             },
             "line": {
              "color": "white"
             }
            },
            "type": "table"
           }
          ]
         },
         "layout": {
          "annotationdefaults": {
           "arrowcolor": "#2a3f5f",
           "arrowhead": 0,
           "arrowwidth": 1
          },
          "autotypenumbers": "strict",
          "coloraxis": {
           "colorbar": {
            "outlinewidth": 0,
            "ticks": ""
           }
          },
          "colorscale": {
           "diverging": [
            [
             0,
             "#8e0152"
            ],
            [
             0.1,
             "#c51b7d"
            ],
            [
             0.2,
             "#de77ae"
            ],
            [
             0.3,
             "#f1b6da"
            ],
            [
             0.4,
             "#fde0ef"
            ],
            [
             0.5,
             "#f7f7f7"
            ],
            [
             0.6,
             "#e6f5d0"
            ],
            [
             0.7,
             "#b8e186"
            ],
            [
             0.8,
             "#7fbc41"
            ],
            [
             0.9,
             "#4d9221"
            ],
            [
             1,
             "#276419"
            ]
           ],
           "sequential": [
            [
             0,
             "#0d0887"
            ],
            [
             0.1111111111111111,
             "#46039f"
            ],
            [
             0.2222222222222222,
             "#7201a8"
            ],
            [
             0.3333333333333333,
             "#9c179e"
            ],
            [
             0.4444444444444444,
             "#bd3786"
            ],
            [
             0.5555555555555556,
             "#d8576b"
            ],
            [
             0.6666666666666666,
             "#ed7953"
            ],
            [
             0.7777777777777778,
             "#fb9f3a"
            ],
            [
             0.8888888888888888,
             "#fdca26"
            ],
            [
             1,
             "#f0f921"
            ]
           ],
           "sequentialminus": [
            [
             0,
             "#0d0887"
            ],
            [
             0.1111111111111111,
             "#46039f"
            ],
            [
             0.2222222222222222,
             "#7201a8"
            ],
            [
             0.3333333333333333,
             "#9c179e"
            ],
            [
             0.4444444444444444,
             "#bd3786"
            ],
            [
             0.5555555555555556,
             "#d8576b"
            ],
            [
             0.6666666666666666,
             "#ed7953"
            ],
            [
             0.7777777777777778,
             "#fb9f3a"
            ],
            [
             0.8888888888888888,
             "#fdca26"
            ],
            [
             1,
             "#f0f921"
            ]
           ]
          },
          "colorway": [
           "#636efa",
           "#EF553B",
           "#00cc96",
           "#ab63fa",
           "#FFA15A",
           "#19d3f3",
           "#FF6692",
           "#B6E880",
           "#FF97FF",
           "#FECB52"
          ],
          "font": {
           "color": "#2a3f5f"
          },
          "geo": {
           "bgcolor": "white",
           "lakecolor": "white",
           "landcolor": "#E5ECF6",
           "showlakes": true,
           "showland": true,
           "subunitcolor": "white"
          },
          "hoverlabel": {
           "align": "left"
          },
          "hovermode": "closest",
          "mapbox": {
           "style": "light"
          },
          "paper_bgcolor": "white",
          "plot_bgcolor": "#E5ECF6",
          "polar": {
           "angularaxis": {
            "gridcolor": "white",
            "linecolor": "white",
            "ticks": ""
           },
           "bgcolor": "#E5ECF6",
           "radialaxis": {
            "gridcolor": "white",
            "linecolor": "white",
            "ticks": ""
           }
          },
          "scene": {
           "xaxis": {
            "backgroundcolor": "#E5ECF6",
            "gridcolor": "white",
            "gridwidth": 2,
            "linecolor": "white",
            "showbackground": true,
            "ticks": "",
            "zerolinecolor": "white"
           },
           "yaxis": {
            "backgroundcolor": "#E5ECF6",
            "gridcolor": "white",
            "gridwidth": 2,
            "linecolor": "white",
            "showbackground": true,
            "ticks": "",
            "zerolinecolor": "white"
           },
           "zaxis": {
            "backgroundcolor": "#E5ECF6",
            "gridcolor": "white",
            "gridwidth": 2,
            "linecolor": "white",
            "showbackground": true,
            "ticks": "",
            "zerolinecolor": "white"
           }
          },
          "shapedefaults": {
           "line": {
            "color": "#2a3f5f"
           }
          },
          "ternary": {
           "aaxis": {
            "gridcolor": "white",
            "linecolor": "white",
            "ticks": ""
           },
           "baxis": {
            "gridcolor": "white",
            "linecolor": "white",
            "ticks": ""
           },
           "bgcolor": "#E5ECF6",
           "caxis": {
            "gridcolor": "white",
            "linecolor": "white",
            "ticks": ""
           }
          },
          "title": {
           "x": 0.05
          },
          "xaxis": {
           "automargin": true,
           "gridcolor": "white",
           "linecolor": "white",
           "ticks": "",
           "title": {
            "standoff": 15
           },
           "zerolinecolor": "white",
           "zerolinewidth": 2
          },
          "yaxis": {
           "automargin": true,
           "gridcolor": "white",
           "linecolor": "white",
           "ticks": "",
           "title": {
            "standoff": 15
           },
           "zerolinecolor": "white",
           "zerolinewidth": 2
          }
         }
        },
        "xaxis": {
         "anchor": "y",
         "domain": [
          0,
          1
         ],
         "title": {
          "text": "timedelta"
         }
        },
        "yaxis": {
         "anchor": "x",
         "domain": [
          0,
          1
         ],
         "title": {
          "text": "dst"
         }
        }
       }
      }
     },
     "metadata": {},
     "output_type": "display_data"
    }
   ],
   "source": [
    "px.bar(df_period_c, x=\"timedelta\", y=\"dst\")"
   ]
  }
 ],
 "metadata": {
  "kernelspec": {
   "display_name": "venv",
   "language": "python",
   "name": "python3"
  },
  "language_info": {
   "codemirror_mode": {
    "name": "ipython",
    "version": 3
   },
   "file_extension": ".py",
   "mimetype": "text/x-python",
   "name": "python",
   "nbconvert_exporter": "python",
   "pygments_lexer": "ipython3",
   "version": "3.12.7"
  }
 },
 "nbformat": 4,
 "nbformat_minor": 2
}
