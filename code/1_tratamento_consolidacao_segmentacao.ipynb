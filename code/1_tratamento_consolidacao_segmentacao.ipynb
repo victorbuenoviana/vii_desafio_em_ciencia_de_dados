{
 "cells": [
  {
   "cell_type": "markdown",
   "metadata": {},
   "source": [
    "### Importando bibliotecas"
   ]
  },
  {
   "cell_type": "code",
   "execution_count": 1,
   "metadata": {},
   "outputs": [],
   "source": [
    "# desabilita os warnings\n",
    "import warnings\n",
    "warnings.filterwarnings('ignore')"
   ]
  },
  {
   "cell_type": "code",
   "execution_count": 2,
   "metadata": {},
   "outputs": [],
   "source": [
    "import pandas as pd\n",
    "import numpy as np"
   ]
  },
  {
   "cell_type": "markdown",
   "metadata": {},
   "source": [
    "### Importando bases de dados"
   ]
  },
  {
   "cell_type": "code",
   "execution_count": 3,
   "metadata": {},
   "outputs": [
    {
     "data": {
      "text/html": [
       "<div>\n",
       "<style scoped>\n",
       "    .dataframe tbody tr th:only-of-type {\n",
       "        vertical-align: middle;\n",
       "    }\n",
       "\n",
       "    .dataframe tbody tr th {\n",
       "        vertical-align: top;\n",
       "    }\n",
       "\n",
       "    .dataframe thead th {\n",
       "        text-align: right;\n",
       "    }\n",
       "</style>\n",
       "<table border=\"1\" class=\"dataframe\">\n",
       "  <thead>\n",
       "    <tr style=\"text-align: right;\">\n",
       "      <th></th>\n",
       "      <th>period</th>\n",
       "      <th>timedelta</th>\n",
       "      <th>bx_gse</th>\n",
       "      <th>by_gse</th>\n",
       "      <th>bz_gse</th>\n",
       "      <th>bt</th>\n",
       "      <th>density</th>\n",
       "      <th>speed</th>\n",
       "      <th>temperature</th>\n",
       "      <th>source</th>\n",
       "    </tr>\n",
       "  </thead>\n",
       "  <tbody>\n",
       "    <tr>\n",
       "      <th>0</th>\n",
       "      <td>train_a</td>\n",
       "      <td>0 days 00:00:00</td>\n",
       "      <td>-5.55</td>\n",
       "      <td>3.00</td>\n",
       "      <td>1.25</td>\n",
       "      <td>6.80</td>\n",
       "      <td>1.53</td>\n",
       "      <td>383.92</td>\n",
       "      <td>110237.0</td>\n",
       "      <td>ac</td>\n",
       "    </tr>\n",
       "    <tr>\n",
       "      <th>1</th>\n",
       "      <td>train_a</td>\n",
       "      <td>0 days 00:01:00</td>\n",
       "      <td>-5.58</td>\n",
       "      <td>3.16</td>\n",
       "      <td>1.17</td>\n",
       "      <td>6.83</td>\n",
       "      <td>1.69</td>\n",
       "      <td>381.79</td>\n",
       "      <td>123825.0</td>\n",
       "      <td>ac</td>\n",
       "    </tr>\n",
       "    <tr>\n",
       "      <th>2</th>\n",
       "      <td>train_a</td>\n",
       "      <td>0 days 00:02:00</td>\n",
       "      <td>-5.15</td>\n",
       "      <td>3.66</td>\n",
       "      <td>0.85</td>\n",
       "      <td>6.77</td>\n",
       "      <td>1.97</td>\n",
       "      <td>389.11</td>\n",
       "      <td>82548.0</td>\n",
       "      <td>ac</td>\n",
       "    </tr>\n",
       "  </tbody>\n",
       "</table>\n",
       "</div>"
      ],
      "text/plain": [
       "    period        timedelta  bx_gse  by_gse  bz_gse    bt  density   speed  \\\n",
       "0  train_a  0 days 00:00:00   -5.55    3.00    1.25  6.80     1.53  383.92   \n",
       "1  train_a  0 days 00:01:00   -5.58    3.16    1.17  6.83     1.69  381.79   \n",
       "2  train_a  0 days 00:02:00   -5.15    3.66    0.85  6.77     1.97  389.11   \n",
       "\n",
       "   temperature source  \n",
       "0     110237.0     ac  \n",
       "1     123825.0     ac  \n",
       "2      82548.0     ac  "
      ]
     },
     "execution_count": 3,
     "metadata": {},
     "output_type": "execute_result"
    }
   ],
   "source": [
    "df_solar_wind = pd.read_csv(r'..\\data\\solar_wind.csv', usecols=['period',\n",
    "                                                                'timedelta',\n",
    "                                                                'bx_gse',\n",
    "                                                                'by_gse',\n",
    "                                                                'bz_gse',\n",
    "                                                                'bt',\n",
    "                                                                'density',\n",
    "                                                                'speed',\n",
    "                                                                'temperature',\n",
    "                                                                'source'] )\n",
    "df_solar_wind.head(3)"
   ]
  },
  {
   "cell_type": "code",
   "execution_count": 4,
   "metadata": {},
   "outputs": [
    {
     "data": {
      "text/html": [
       "<div>\n",
       "<style scoped>\n",
       "    .dataframe tbody tr th:only-of-type {\n",
       "        vertical-align: middle;\n",
       "    }\n",
       "\n",
       "    .dataframe tbody tr th {\n",
       "        vertical-align: top;\n",
       "    }\n",
       "\n",
       "    .dataframe thead th {\n",
       "        text-align: right;\n",
       "    }\n",
       "</style>\n",
       "<table border=\"1\" class=\"dataframe\">\n",
       "  <thead>\n",
       "    <tr style=\"text-align: right;\">\n",
       "      <th></th>\n",
       "      <th>period</th>\n",
       "      <th>timedelta</th>\n",
       "      <th>gse_x_ace</th>\n",
       "      <th>gse_y_ace</th>\n",
       "      <th>gse_z_ace</th>\n",
       "      <th>gse_x_dscovr</th>\n",
       "      <th>gse_y_dscovr</th>\n",
       "      <th>gse_z_dscovr</th>\n",
       "    </tr>\n",
       "  </thead>\n",
       "  <tbody>\n",
       "    <tr>\n",
       "      <th>0</th>\n",
       "      <td>train_a</td>\n",
       "      <td>0 days</td>\n",
       "      <td>1522376.9</td>\n",
       "      <td>143704.6</td>\n",
       "      <td>149496.7</td>\n",
       "      <td>NaN</td>\n",
       "      <td>NaN</td>\n",
       "      <td>NaN</td>\n",
       "    </tr>\n",
       "    <tr>\n",
       "      <th>1</th>\n",
       "      <td>train_a</td>\n",
       "      <td>1 days</td>\n",
       "      <td>1525410.9</td>\n",
       "      <td>136108.8</td>\n",
       "      <td>151034.1</td>\n",
       "      <td>NaN</td>\n",
       "      <td>NaN</td>\n",
       "      <td>NaN</td>\n",
       "    </tr>\n",
       "    <tr>\n",
       "      <th>2</th>\n",
       "      <td>train_a</td>\n",
       "      <td>2 days</td>\n",
       "      <td>1528484.9</td>\n",
       "      <td>128470.5</td>\n",
       "      <td>152387.7</td>\n",
       "      <td>NaN</td>\n",
       "      <td>NaN</td>\n",
       "      <td>NaN</td>\n",
       "    </tr>\n",
       "  </tbody>\n",
       "</table>\n",
       "</div>"
      ],
      "text/plain": [
       "    period timedelta  gse_x_ace  gse_y_ace  gse_z_ace  gse_x_dscovr  \\\n",
       "0  train_a    0 days  1522376.9   143704.6   149496.7           NaN   \n",
       "1  train_a    1 days  1525410.9   136108.8   151034.1           NaN   \n",
       "2  train_a    2 days  1528484.9   128470.5   152387.7           NaN   \n",
       "\n",
       "   gse_y_dscovr  gse_z_dscovr  \n",
       "0           NaN           NaN  \n",
       "1           NaN           NaN  \n",
       "2           NaN           NaN  "
      ]
     },
     "execution_count": 4,
     "metadata": {},
     "output_type": "execute_result"
    }
   ],
   "source": [
    "df_satellite_pos = pd.read_csv(r'..\\data\\satellite_pos.csv')\n",
    "df_satellite_pos.head(3)"
   ]
  },
  {
   "cell_type": "code",
   "execution_count": 5,
   "metadata": {},
   "outputs": [
    {
     "data": {
      "text/html": [
       "<div>\n",
       "<style scoped>\n",
       "    .dataframe tbody tr th:only-of-type {\n",
       "        vertical-align: middle;\n",
       "    }\n",
       "\n",
       "    .dataframe tbody tr th {\n",
       "        vertical-align: top;\n",
       "    }\n",
       "\n",
       "    .dataframe thead th {\n",
       "        text-align: right;\n",
       "    }\n",
       "</style>\n",
       "<table border=\"1\" class=\"dataframe\">\n",
       "  <thead>\n",
       "    <tr style=\"text-align: right;\">\n",
       "      <th></th>\n",
       "      <th>period</th>\n",
       "      <th>timedelta</th>\n",
       "      <th>smoothed_ssn</th>\n",
       "    </tr>\n",
       "  </thead>\n",
       "  <tbody>\n",
       "    <tr>\n",
       "      <th>0</th>\n",
       "      <td>train_a</td>\n",
       "      <td>0 days 00:00:00</td>\n",
       "      <td>65.4</td>\n",
       "    </tr>\n",
       "    <tr>\n",
       "      <th>1</th>\n",
       "      <td>train_a</td>\n",
       "      <td>13 days 00:00:00</td>\n",
       "      <td>72.0</td>\n",
       "    </tr>\n",
       "    <tr>\n",
       "      <th>2</th>\n",
       "      <td>train_a</td>\n",
       "      <td>44 days 00:00:00</td>\n",
       "      <td>76.9</td>\n",
       "    </tr>\n",
       "  </tbody>\n",
       "</table>\n",
       "</div>"
      ],
      "text/plain": [
       "    period         timedelta  smoothed_ssn\n",
       "0  train_a   0 days 00:00:00          65.4\n",
       "1  train_a  13 days 00:00:00          72.0\n",
       "2  train_a  44 days 00:00:00          76.9"
      ]
     },
     "execution_count": 5,
     "metadata": {},
     "output_type": "execute_result"
    }
   ],
   "source": [
    "df_sunspots = pd.read_csv(r'..\\data\\sunspots.csv')\n",
    "df_sunspots.head(3)"
   ]
  },
  {
   "cell_type": "code",
   "execution_count": 6,
   "metadata": {},
   "outputs": [
    {
     "data": {
      "text/html": [
       "<div>\n",
       "<style scoped>\n",
       "    .dataframe tbody tr th:only-of-type {\n",
       "        vertical-align: middle;\n",
       "    }\n",
       "\n",
       "    .dataframe tbody tr th {\n",
       "        vertical-align: top;\n",
       "    }\n",
       "\n",
       "    .dataframe thead th {\n",
       "        text-align: right;\n",
       "    }\n",
       "</style>\n",
       "<table border=\"1\" class=\"dataframe\">\n",
       "  <thead>\n",
       "    <tr style=\"text-align: right;\">\n",
       "      <th></th>\n",
       "      <th>period</th>\n",
       "      <th>timedelta</th>\n",
       "      <th>dst</th>\n",
       "    </tr>\n",
       "  </thead>\n",
       "  <tbody>\n",
       "    <tr>\n",
       "      <th>0</th>\n",
       "      <td>train_a</td>\n",
       "      <td>0 days 00:00:00</td>\n",
       "      <td>-7</td>\n",
       "    </tr>\n",
       "    <tr>\n",
       "      <th>1</th>\n",
       "      <td>train_a</td>\n",
       "      <td>0 days 01:00:00</td>\n",
       "      <td>-10</td>\n",
       "    </tr>\n",
       "    <tr>\n",
       "      <th>2</th>\n",
       "      <td>train_a</td>\n",
       "      <td>0 days 02:00:00</td>\n",
       "      <td>-10</td>\n",
       "    </tr>\n",
       "  </tbody>\n",
       "</table>\n",
       "</div>"
      ],
      "text/plain": [
       "    period        timedelta  dst\n",
       "0  train_a  0 days 00:00:00   -7\n",
       "1  train_a  0 days 01:00:00  -10\n",
       "2  train_a  0 days 02:00:00  -10"
      ]
     },
     "execution_count": 6,
     "metadata": {},
     "output_type": "execute_result"
    }
   ],
   "source": [
    "df_labels = pd.read_csv(r'..\\data\\labels.csv')\n",
    "df_labels.head(3)"
   ]
  },
  {
   "cell_type": "markdown",
   "metadata": {},
   "source": [
    "### Tratando tipos de dados"
   ]
  },
  {
   "cell_type": "markdown",
   "metadata": {},
   "source": [
    "##### Tratando tipos de dados do df_solar_wind"
   ]
  },
  {
   "cell_type": "code",
   "execution_count": 7,
   "metadata": {},
   "outputs": [
    {
     "name": "stdout",
     "output_type": "stream",
     "text": [
      "<class 'pandas.core.frame.DataFrame'>\n",
      "RangeIndex: 8392320 entries, 0 to 8392319\n",
      "Data columns (total 10 columns):\n",
      " #   Column       Dtype  \n",
      "---  ------       -----  \n",
      " 0   period       object \n",
      " 1   timedelta    object \n",
      " 2   bx_gse       float64\n",
      " 3   by_gse       float64\n",
      " 4   bz_gse       float64\n",
      " 5   bt           float64\n",
      " 6   density      float64\n",
      " 7   speed        float64\n",
      " 8   temperature  float64\n",
      " 9   source       object \n",
      "dtypes: float64(7), object(3)\n",
      "memory usage: 640.3+ MB\n"
     ]
    }
   ],
   "source": [
    "df_solar_wind.info()"
   ]
  },
  {
   "cell_type": "code",
   "execution_count": 8,
   "metadata": {},
   "outputs": [
    {
     "name": "stdout",
     "output_type": "stream",
     "text": [
      "<class 'pandas.core.frame.DataFrame'>\n",
      "RangeIndex: 8392320 entries, 0 to 8392319\n",
      "Data columns (total 10 columns):\n",
      " #   Column       Dtype          \n",
      "---  ------       -----          \n",
      " 0   period       category       \n",
      " 1   timedelta    timedelta64[ns]\n",
      " 2   bx_gse       float32        \n",
      " 3   by_gse       float32        \n",
      " 4   bz_gse       float32        \n",
      " 5   bt           float32        \n",
      " 6   density      float32        \n",
      " 7   speed        float32        \n",
      " 8   temperature  float32        \n",
      " 9   source       category       \n",
      "dtypes: category(2), float32(7), timedelta64[ns](1)\n",
      "memory usage: 304.1 MB\n"
     ]
    }
   ],
   "source": [
    "# Otimizando tipos de dados das colunas numéricas\n",
    "col_num_solar_wind = df_solar_wind.select_dtypes(include='float64').columns\n",
    "df_solar_wind[col_num_solar_wind] = (df_solar_wind[col_num_solar_wind]\n",
    "                                     .apply(pd.to_numeric, \n",
    "                                            downcast='float'))\n",
    "\n",
    "# Corrigindo tipo de dado da coluna timedelta\n",
    "df_solar_wind[\"timedelta\"] = pd.to_timedelta(df_solar_wind[\"timedelta\"])\n",
    "\n",
    "# Corrigindo tipo de dado das colunas categoricas\n",
    "col_cat_solar_wind = df_solar_wind.select_dtypes(include='object').columns\n",
    "df_solar_wind[col_cat_solar_wind] = (df_solar_wind[col_cat_solar_wind]\n",
    "                                     .astype('category'))\n",
    "df_solar_wind.info()"
   ]
  },
  {
   "cell_type": "markdown",
   "metadata": {},
   "source": [
    "##### Tratando tipos de dados do df_satellite_pos"
   ]
  },
  {
   "cell_type": "code",
   "execution_count": 9,
   "metadata": {},
   "outputs": [
    {
     "name": "stdout",
     "output_type": "stream",
     "text": [
      "<class 'pandas.core.frame.DataFrame'>\n",
      "RangeIndex: 5828 entries, 0 to 5827\n",
      "Data columns (total 8 columns):\n",
      " #   Column        Non-Null Count  Dtype  \n",
      "---  ------        --------------  -----  \n",
      " 0   period        5828 non-null   object \n",
      " 1   timedelta     5828 non-null   object \n",
      " 2   gse_x_ace     5828 non-null   float64\n",
      " 3   gse_y_ace     5828 non-null   float64\n",
      " 4   gse_z_ace     5828 non-null   float64\n",
      " 5   gse_x_dscovr  1034 non-null   float64\n",
      " 6   gse_y_dscovr  1034 non-null   float64\n",
      " 7   gse_z_dscovr  1034 non-null   float64\n",
      "dtypes: float64(6), object(2)\n",
      "memory usage: 364.4+ KB\n"
     ]
    }
   ],
   "source": [
    "df_satellite_pos.info()"
   ]
  },
  {
   "cell_type": "code",
   "execution_count": 10,
   "metadata": {},
   "outputs": [
    {
     "name": "stdout",
     "output_type": "stream",
     "text": [
      "<class 'pandas.core.frame.DataFrame'>\n",
      "RangeIndex: 5828 entries, 0 to 5827\n",
      "Data columns (total 8 columns):\n",
      " #   Column        Non-Null Count  Dtype          \n",
      "---  ------        --------------  -----          \n",
      " 0   period        5828 non-null   category       \n",
      " 1   timedelta     5828 non-null   timedelta64[ns]\n",
      " 2   gse_x_ace     5828 non-null   float64        \n",
      " 3   gse_y_ace     5828 non-null   float64        \n",
      " 4   gse_z_ace     5828 non-null   float64        \n",
      " 5   gse_x_dscovr  1034 non-null   float32        \n",
      " 6   gse_y_dscovr  1034 non-null   float32        \n",
      " 7   gse_z_dscovr  1034 non-null   float32        \n",
      "dtypes: category(1), float32(3), float64(3), timedelta64[ns](1)\n",
      "memory usage: 256.4 KB\n"
     ]
    }
   ],
   "source": [
    "# Otimizando tipos de dados das colunas numéricas\n",
    "col_num_satellite_pos = df_satellite_pos.select_dtypes(include='float64').columns\n",
    "df_satellite_pos[col_num_satellite_pos] = df_satellite_pos[col_num_satellite_pos].apply(pd.to_numeric, downcast='float')\n",
    "\n",
    "# Corrigindo tipo de dado da coluna timedelta\n",
    "df_satellite_pos[\"timedelta\"] = pd.to_timedelta(df_satellite_pos[\"timedelta\"])\n",
    "\n",
    "# col_cat_satellite_pos = df_satellite_pos.select_dtypes(include='object').columns\n",
    "# df_satellite_pos[col_cat_satellite_pos] = df_solar_wind[col_cat_satellite_pos].astype('category')\n",
    "df_satellite_pos[\"period\"] = df_satellite_pos[\"period\"].astype('category')\n",
    "df_satellite_pos.info()"
   ]
  },
  {
   "cell_type": "markdown",
   "metadata": {},
   "source": [
    "##### Tratando tipos de dados do df_sunspots"
   ]
  },
  {
   "cell_type": "code",
   "execution_count": 11,
   "metadata": {},
   "outputs": [
    {
     "name": "stdout",
     "output_type": "stream",
     "text": [
      "<class 'pandas.core.frame.DataFrame'>\n",
      "RangeIndex: 192 entries, 0 to 191\n",
      "Data columns (total 3 columns):\n",
      " #   Column        Non-Null Count  Dtype  \n",
      "---  ------        --------------  -----  \n",
      " 0   period        192 non-null    object \n",
      " 1   timedelta     192 non-null    object \n",
      " 2   smoothed_ssn  192 non-null    float64\n",
      "dtypes: float64(1), object(2)\n",
      "memory usage: 4.6+ KB\n"
     ]
    }
   ],
   "source": [
    "df_sunspots.info()"
   ]
  },
  {
   "cell_type": "code",
   "execution_count": 12,
   "metadata": {},
   "outputs": [
    {
     "name": "stdout",
     "output_type": "stream",
     "text": [
      "<class 'pandas.core.frame.DataFrame'>\n",
      "RangeIndex: 192 entries, 0 to 191\n",
      "Data columns (total 3 columns):\n",
      " #   Column        Non-Null Count  Dtype          \n",
      "---  ------        --------------  -----          \n",
      " 0   period        192 non-null    category       \n",
      " 1   timedelta     192 non-null    timedelta64[ns]\n",
      " 2   smoothed_ssn  192 non-null    float32        \n",
      "dtypes: category(1), float32(1), timedelta64[ns](1)\n",
      "memory usage: 2.7 KB\n"
     ]
    }
   ],
   "source": [
    "# otimizando tipos de dados das colunas numéricas\n",
    "col_num_sunspots = df_sunspots.select_dtypes(include='float64').columns\n",
    "df_sunspots[col_num_sunspots] = df_sunspots[col_num_sunspots].apply(pd.to_numeric, downcast='float')\n",
    "\n",
    "# Corrigindo tipo de dado da coluna timedelta\n",
    "df_sunspots[\"timedelta\"] = pd.to_timedelta(df_sunspots[\"timedelta\"])\n",
    "\n",
    "# Corrigindo tipo de dado da coluna period\n",
    "df_sunspots[\"period\"] = df_sunspots[\"period\"].astype('category')\n",
    "df_sunspots.info()"
   ]
  },
  {
   "cell_type": "markdown",
   "metadata": {},
   "source": [
    "##### Tratando tipos de dados do df_labels"
   ]
  },
  {
   "cell_type": "code",
   "execution_count": 13,
   "metadata": {},
   "outputs": [
    {
     "name": "stdout",
     "output_type": "stream",
     "text": [
      "<class 'pandas.core.frame.DataFrame'>\n",
      "RangeIndex: 139872 entries, 0 to 139871\n",
      "Data columns (total 3 columns):\n",
      " #   Column     Non-Null Count   Dtype \n",
      "---  ------     --------------   ----- \n",
      " 0   period     139872 non-null  object\n",
      " 1   timedelta  139872 non-null  object\n",
      " 2   dst        139872 non-null  int64 \n",
      "dtypes: int64(1), object(2)\n",
      "memory usage: 3.2+ MB\n"
     ]
    }
   ],
   "source": [
    "df_labels.info()"
   ]
  },
  {
   "cell_type": "code",
   "execution_count": 14,
   "metadata": {},
   "outputs": [
    {
     "name": "stdout",
     "output_type": "stream",
     "text": [
      "<class 'pandas.core.frame.DataFrame'>\n",
      "RangeIndex: 139872 entries, 0 to 139871\n",
      "Data columns (total 3 columns):\n",
      " #   Column     Non-Null Count   Dtype          \n",
      "---  ------     --------------   -----          \n",
      " 0   period     139872 non-null  category       \n",
      " 1   timedelta  139872 non-null  timedelta64[ns]\n",
      " 2   dst        139872 non-null  int16          \n",
      "dtypes: category(1), int16(1), timedelta64[ns](1)\n",
      "memory usage: 1.5 MB\n"
     ]
    }
   ],
   "source": [
    "# otimizando tipos de dados das colunas numéricas\n",
    "col_num_labels = df_labels.select_dtypes(include='int64').columns\n",
    "df_labels[col_num_labels] = df_labels[col_num_labels].apply(pd.to_numeric, downcast='integer')\n",
    "\n",
    "# Corrigindo tipo de dado da coluna timedelta\n",
    "df_labels[\"timedelta\"] = pd.to_timedelta(df_labels[\"timedelta\"])\n",
    "\n",
    "# Corrigindo tipo de dado da coluna period\n",
    "df_labels[\"period\"] = df_labels[\"period\"].astype('category')\n",
    "df_labels.info()"
   ]
  },
  {
   "cell_type": "markdown",
   "metadata": {},
   "source": [
    "### Removendo Valores fora de escala do df_solar_wind"
   ]
  },
  {
   "cell_type": "code",
   "execution_count": 15,
   "metadata": {},
   "outputs": [
    {
     "data": {
      "text/html": [
       "<div>\n",
       "<style scoped>\n",
       "    .dataframe tbody tr th:only-of-type {\n",
       "        vertical-align: middle;\n",
       "    }\n",
       "\n",
       "    .dataframe tbody tr th {\n",
       "        vertical-align: top;\n",
       "    }\n",
       "\n",
       "    .dataframe thead th {\n",
       "        text-align: right;\n",
       "    }\n",
       "</style>\n",
       "<table border=\"1\" class=\"dataframe\">\n",
       "  <thead>\n",
       "    <tr style=\"text-align: right;\">\n",
       "      <th></th>\n",
       "      <th>timedelta</th>\n",
       "      <th>bx_gse</th>\n",
       "      <th>by_gse</th>\n",
       "      <th>bz_gse</th>\n",
       "      <th>bt</th>\n",
       "      <th>density</th>\n",
       "      <th>speed</th>\n",
       "      <th>temperature</th>\n",
       "    </tr>\n",
       "  </thead>\n",
       "  <tbody>\n",
       "    <tr>\n",
       "      <th>count</th>\n",
       "      <td>8392320</td>\n",
       "      <td>8.066432e+06</td>\n",
       "      <td>8.066432e+06</td>\n",
       "      <td>8.066432e+06</td>\n",
       "      <td>8.066432e+06</td>\n",
       "      <td>7.707430e+06</td>\n",
       "      <td>7.702765e+06</td>\n",
       "      <td>7.580552e+06</td>\n",
       "    </tr>\n",
       "    <tr>\n",
       "      <th>mean</th>\n",
       "      <td>1044 days 16:41:54.955388112</td>\n",
       "      <td>-6.610162e-01</td>\n",
       "      <td>1.097870e-01</td>\n",
       "      <td>-2.274230e-02</td>\n",
       "      <td>5.606227e+00</td>\n",
       "      <td>4.421726e+00</td>\n",
       "      <td>4.305854e+02</td>\n",
       "      <td>1.150967e+05</td>\n",
       "    </tr>\n",
       "    <tr>\n",
       "      <th>std</th>\n",
       "      <td>660 days 08:03:01.062266016</td>\n",
       "      <td>3.669730e+00</td>\n",
       "      <td>3.975340e+00</td>\n",
       "      <td>3.351972e+00</td>\n",
       "      <td>3.110002e+00</td>\n",
       "      <td>4.331911e+00</td>\n",
       "      <td>1.005777e+02</td>\n",
       "      <td>1.203120e+05</td>\n",
       "    </tr>\n",
       "    <tr>\n",
       "      <th>min</th>\n",
       "      <td>0 days 00:00:00</td>\n",
       "      <td>-5.463000e+01</td>\n",
       "      <td>-5.169000e+01</td>\n",
       "      <td>-5.500000e+01</td>\n",
       "      <td>3.000000e-02</td>\n",
       "      <td>0.000000e+00</td>\n",
       "      <td>0.000000e+00</td>\n",
       "      <td>0.000000e+00</td>\n",
       "    </tr>\n",
       "    <tr>\n",
       "      <th>25%</th>\n",
       "      <td>485 days 15:59:45</td>\n",
       "      <td>-3.270000e+00</td>\n",
       "      <td>-2.460000e+00</td>\n",
       "      <td>-1.700000e+00</td>\n",
       "      <td>3.640000e+00</td>\n",
       "      <td>1.790000e+00</td>\n",
       "      <td>3.568000e+02</td>\n",
       "      <td>3.978700e+04</td>\n",
       "    </tr>\n",
       "    <tr>\n",
       "      <th>50%</th>\n",
       "      <td>971 days 07:59:30</td>\n",
       "      <td>-6.700000e-01</td>\n",
       "      <td>1.100000e-01</td>\n",
       "      <td>1.000000e-02</td>\n",
       "      <td>4.950000e+00</td>\n",
       "      <td>3.340000e+00</td>\n",
       "      <td>4.097000e+02</td>\n",
       "      <td>7.737100e+04</td>\n",
       "    </tr>\n",
       "    <tr>\n",
       "      <th>75%</th>\n",
       "      <td>1584 days 23:59:15</td>\n",
       "      <td>2.020000e+00</td>\n",
       "      <td>2.640000e+00</td>\n",
       "      <td>1.690000e+00</td>\n",
       "      <td>6.720000e+00</td>\n",
       "      <td>5.710000e+00</td>\n",
       "      <td>4.856600e+02</td>\n",
       "      <td>1.512200e+05</td>\n",
       "    </tr>\n",
       "    <tr>\n",
       "      <th>max</th>\n",
       "      <td>2435 days 23:59:00</td>\n",
       "      <td>5.555000e+01</td>\n",
       "      <td>5.760000e+01</td>\n",
       "      <td>7.403000e+01</td>\n",
       "      <td>8.053000e+01</td>\n",
       "      <td>1.997000e+02</td>\n",
       "      <td>1.198490e+03</td>\n",
       "      <td>6.223700e+06</td>\n",
       "    </tr>\n",
       "  </tbody>\n",
       "</table>\n",
       "</div>"
      ],
      "text/plain": [
       "                          timedelta        bx_gse        by_gse        bz_gse  \\\n",
       "count                       8392320  8.066432e+06  8.066432e+06  8.066432e+06   \n",
       "mean   1044 days 16:41:54.955388112 -6.610162e-01  1.097870e-01 -2.274230e-02   \n",
       "std     660 days 08:03:01.062266016  3.669730e+00  3.975340e+00  3.351972e+00   \n",
       "min                 0 days 00:00:00 -5.463000e+01 -5.169000e+01 -5.500000e+01   \n",
       "25%               485 days 15:59:45 -3.270000e+00 -2.460000e+00 -1.700000e+00   \n",
       "50%               971 days 07:59:30 -6.700000e-01  1.100000e-01  1.000000e-02   \n",
       "75%              1584 days 23:59:15  2.020000e+00  2.640000e+00  1.690000e+00   \n",
       "max              2435 days 23:59:00  5.555000e+01  5.760000e+01  7.403000e+01   \n",
       "\n",
       "                 bt       density         speed   temperature  \n",
       "count  8.066432e+06  7.707430e+06  7.702765e+06  7.580552e+06  \n",
       "mean   5.606227e+00  4.421726e+00  4.305854e+02  1.150967e+05  \n",
       "std    3.110002e+00  4.331911e+00  1.005777e+02  1.203120e+05  \n",
       "min    3.000000e-02  0.000000e+00  0.000000e+00  0.000000e+00  \n",
       "25%    3.640000e+00  1.790000e+00  3.568000e+02  3.978700e+04  \n",
       "50%    4.950000e+00  3.340000e+00  4.097000e+02  7.737100e+04  \n",
       "75%    6.720000e+00  5.710000e+00  4.856600e+02  1.512200e+05  \n",
       "max    8.053000e+01  1.997000e+02  1.198490e+03  6.223700e+06  "
      ]
     },
     "execution_count": 15,
     "metadata": {},
     "output_type": "execute_result"
    }
   ],
   "source": [
    "# bx_gse: -200 a +200 nT ok\n",
    "# by_gse: -200 a +200 nT ok\n",
    "# bz_gse: -200 a +200 nT ok\n",
    "# bt: 0 a 200 nT ok\n",
    "# density: 0 a 200 N/cm³ ok \n",
    "# speed: 200 a 2.000 km/s speed=0 ?\n",
    "# temperature: 10.000 K a 10.000.000 K temperature=0 ?\n",
    "df_solar_wind.describe()"
   ]
  },
  {
   "cell_type": "code",
   "execution_count": 16,
   "metadata": {},
   "outputs": [],
   "source": [
    "df_solar_wind[\"speed\"].loc[(df_solar_wind[\"speed\"] < 200) | (df_solar_wind[\"speed\"] > 2000)] = np.nan\n",
    "df_solar_wind[\"temperature\"].loc[(df_solar_wind[\"temperature\"] < 10_000) | (df_solar_wind[\"temperature\"] > 10_000_000)] = np.nan"
   ]
  },
  {
   "cell_type": "markdown",
   "metadata": {},
   "source": [
    "### Preenchendo fontes ausentes do df_solar_wind com a moda de cada período"
   ]
  },
  {
   "cell_type": "code",
   "execution_count": 17,
   "metadata": {},
   "outputs": [
    {
     "data": {
      "text/plain": [
       "np.int64(316816)"
      ]
     },
     "execution_count": 17,
     "metadata": {},
     "output_type": "execute_result"
    }
   ],
   "source": [
    "df_solar_wind[\"source\"].isna().sum()"
   ]
  },
  {
   "cell_type": "code",
   "execution_count": 18,
   "metadata": {},
   "outputs": [
    {
     "data": {
      "text/html": [
       "<div>\n",
       "<style scoped>\n",
       "    .dataframe tbody tr th:only-of-type {\n",
       "        vertical-align: middle;\n",
       "    }\n",
       "\n",
       "    .dataframe tbody tr th {\n",
       "        vertical-align: top;\n",
       "    }\n",
       "\n",
       "    .dataframe thead th {\n",
       "        text-align: right;\n",
       "    }\n",
       "</style>\n",
       "<table border=\"1\" class=\"dataframe\">\n",
       "  <thead>\n",
       "    <tr style=\"text-align: right;\">\n",
       "      <th></th>\n",
       "      <th>period</th>\n",
       "      <th>timedelta</th>\n",
       "      <th>bx_gse</th>\n",
       "      <th>by_gse</th>\n",
       "      <th>bz_gse</th>\n",
       "      <th>bt</th>\n",
       "      <th>density</th>\n",
       "      <th>speed</th>\n",
       "      <th>temperature</th>\n",
       "      <th>source</th>\n",
       "    </tr>\n",
       "  </thead>\n",
       "  <tbody>\n",
       "    <tr>\n",
       "      <th>0</th>\n",
       "      <td>train_a</td>\n",
       "      <td>0 days 00:00:00</td>\n",
       "      <td>-5.55</td>\n",
       "      <td>3.00</td>\n",
       "      <td>1.25</td>\n",
       "      <td>6.80</td>\n",
       "      <td>1.53</td>\n",
       "      <td>383.920013</td>\n",
       "      <td>110237.0</td>\n",
       "      <td>ac</td>\n",
       "    </tr>\n",
       "    <tr>\n",
       "      <th>1</th>\n",
       "      <td>train_a</td>\n",
       "      <td>0 days 00:01:00</td>\n",
       "      <td>-5.58</td>\n",
       "      <td>3.16</td>\n",
       "      <td>1.17</td>\n",
       "      <td>6.83</td>\n",
       "      <td>1.69</td>\n",
       "      <td>381.790009</td>\n",
       "      <td>123825.0</td>\n",
       "      <td>ac</td>\n",
       "    </tr>\n",
       "    <tr>\n",
       "      <th>2</th>\n",
       "      <td>train_a</td>\n",
       "      <td>0 days 00:02:00</td>\n",
       "      <td>-5.15</td>\n",
       "      <td>3.66</td>\n",
       "      <td>0.85</td>\n",
       "      <td>6.77</td>\n",
       "      <td>1.97</td>\n",
       "      <td>389.109985</td>\n",
       "      <td>82548.0</td>\n",
       "      <td>ac</td>\n",
       "    </tr>\n",
       "  </tbody>\n",
       "</table>\n",
       "</div>"
      ],
      "text/plain": [
       "    period       timedelta  bx_gse  by_gse  bz_gse    bt  density       speed  \\\n",
       "0  train_a 0 days 00:00:00   -5.55    3.00    1.25  6.80     1.53  383.920013   \n",
       "1  train_a 0 days 00:01:00   -5.58    3.16    1.17  6.83     1.69  381.790009   \n",
       "2  train_a 0 days 00:02:00   -5.15    3.66    0.85  6.77     1.97  389.109985   \n",
       "\n",
       "   temperature source  \n",
       "0     110237.0     ac  \n",
       "1     123825.0     ac  \n",
       "2      82548.0     ac  "
      ]
     },
     "execution_count": 18,
     "metadata": {},
     "output_type": "execute_result"
    }
   ],
   "source": [
    "df_solar_wind_period_a = (\n",
    "    df_solar_wind.loc[df_solar_wind[\"period\"] == \"train_a\"])\n",
    "\n",
    "df_solar_wind_period_b = (\n",
    "    df_solar_wind.loc[df_solar_wind[\"period\"] == \"train_b\"])\n",
    "\n",
    "df_solar_wind_period_c = (\n",
    "    df_solar_wind.loc[df_solar_wind[\"period\"] == \"train_c\"])\n",
    "\n",
    "moda_a = df_solar_wind_period_a[\"source\"].mode()[0]\n",
    "moda_b = df_solar_wind_period_b[\"source\"].mode()[0]\n",
    "moda_c = df_solar_wind_period_c[\"source\"].mode()[0]\n",
    "\n",
    "df_solar_wind_period_a[\"source\"].fillna(moda_a, inplace=True)\n",
    "df_solar_wind_period_b[\"source\"].fillna(moda_b, inplace=True)\n",
    "df_solar_wind_period_c[\"source\"].fillna(moda_c, inplace=True)\n",
    "\n",
    "df_solar_wind = pd.concat(\n",
    "    [df_solar_wind_period_a, \n",
    "     df_solar_wind_period_b, \n",
    "     df_solar_wind_period_c], \n",
    "     ignore_index=True)\n",
    "\n",
    "df_solar_wind.head(3)"
   ]
  },
  {
   "cell_type": "markdown",
   "metadata": {},
   "source": [
    "### Consolidando base de dados"
   ]
  },
  {
   "cell_type": "markdown",
   "metadata": {},
   "source": [
    "##### Preparando df_solar_wind e df_satellite_pos"
   ]
  },
  {
   "cell_type": "code",
   "execution_count": 19,
   "metadata": {},
   "outputs": [],
   "source": [
    "df_solar_wind[\"dia\"] = df_solar_wind[\"timedelta\"].dt.days\n",
    "df_satellite_pos[\"dia\"] = df_satellite_pos[\"timedelta\"].dt.days"
   ]
  },
  {
   "cell_type": "code",
   "execution_count": 20,
   "metadata": {},
   "outputs": [],
   "source": [
    "df_satellite_pos = pd.merge(df_satellite_pos, \n",
    "                            df_solar_wind[[\"period\", \"dia\", \"source\"]], \n",
    "                            on=[\"period\", \"dia\"], \n",
    "                            how=\"left\")"
   ]
  },
  {
   "cell_type": "code",
   "execution_count": 21,
   "metadata": {},
   "outputs": [],
   "source": [
    "df_satellite_pos[\"gse_x_satellite\"] = np.nan\n",
    "df_satellite_pos[\"gse_y_satellite\"] = np.nan\n",
    "df_satellite_pos[\"gse_z_satellite\"] = np.nan\n",
    "\n",
    "df_satellite_pos[\"gse_x_satellite\"] = np.where(\n",
    "    df_satellite_pos[\"gse_x_satellite\"].isnull() \n",
    "    & (df_satellite_pos[\"source\"]  == \"ac\"),\n",
    "    df_satellite_pos[\"gse_x_ace\"],\n",
    "    df_satellite_pos[\"gse_x_dscovr\"])\n",
    "\n",
    "df_satellite_pos[\"gse_y_satellite\"] = np.where(\n",
    "    df_satellite_pos[\"gse_y_satellite\"].isnull() \n",
    "    & (df_satellite_pos[\"source\"]  == \"ac\"),\n",
    "    df_satellite_pos[\"gse_y_ace\"],\n",
    "    df_satellite_pos[\"gse_y_dscovr\"])\n",
    "\n",
    "df_satellite_pos[\"gse_z_satellite\"] = np.where(\n",
    "    df_satellite_pos[\"gse_z_satellite\"].isnull() \n",
    "    & (df_satellite_pos[\"source\"]  == \"ac\"),\n",
    "    df_satellite_pos[\"gse_z_ace\"],\n",
    "    df_satellite_pos[\"gse_z_dscovr\"])\n",
    "\n",
    "df_satellite_pos = df_satellite_pos[['period', \n",
    "                                     'timedelta', \n",
    "                                     'dia', \n",
    "                                     'source',\n",
    "                                     'gse_x_satellite', \n",
    "                                     'gse_y_satellite', \n",
    "                                     'gse_z_satellite']]"
   ]
  },
  {
   "cell_type": "markdown",
   "metadata": {},
   "source": [
    "##### Consolidando df_solar_wind e df_satellite_pos"
   ]
  },
  {
   "cell_type": "code",
   "execution_count": 22,
   "metadata": {},
   "outputs": [
    {
     "data": {
      "text/html": [
       "<div>\n",
       "<style scoped>\n",
       "    .dataframe tbody tr th:only-of-type {\n",
       "        vertical-align: middle;\n",
       "    }\n",
       "\n",
       "    .dataframe tbody tr th {\n",
       "        vertical-align: top;\n",
       "    }\n",
       "\n",
       "    .dataframe thead th {\n",
       "        text-align: right;\n",
       "    }\n",
       "</style>\n",
       "<table border=\"1\" class=\"dataframe\">\n",
       "  <thead>\n",
       "    <tr style=\"text-align: right;\">\n",
       "      <th></th>\n",
       "      <th>period</th>\n",
       "      <th>timedelta</th>\n",
       "      <th>bx_gse</th>\n",
       "      <th>by_gse</th>\n",
       "      <th>bz_gse</th>\n",
       "      <th>bt</th>\n",
       "      <th>density</th>\n",
       "      <th>speed</th>\n",
       "      <th>temperature</th>\n",
       "      <th>source</th>\n",
       "      <th>dia</th>\n",
       "      <th>gse_x_satellite</th>\n",
       "      <th>gse_y_satellite</th>\n",
       "      <th>gse_z_satellite</th>\n",
       "    </tr>\n",
       "  </thead>\n",
       "  <tbody>\n",
       "    <tr>\n",
       "      <th>0</th>\n",
       "      <td>train_a</td>\n",
       "      <td>0 days 00:00:00</td>\n",
       "      <td>-5.55</td>\n",
       "      <td>3.00</td>\n",
       "      <td>1.25</td>\n",
       "      <td>6.80</td>\n",
       "      <td>1.53</td>\n",
       "      <td>383.920013</td>\n",
       "      <td>110237.0</td>\n",
       "      <td>ac</td>\n",
       "      <td>0</td>\n",
       "      <td>1522376.9</td>\n",
       "      <td>143704.6</td>\n",
       "      <td>149496.7</td>\n",
       "    </tr>\n",
       "    <tr>\n",
       "      <th>1</th>\n",
       "      <td>train_a</td>\n",
       "      <td>0 days 00:01:00</td>\n",
       "      <td>-5.58</td>\n",
       "      <td>3.16</td>\n",
       "      <td>1.17</td>\n",
       "      <td>6.83</td>\n",
       "      <td>1.69</td>\n",
       "      <td>381.790009</td>\n",
       "      <td>123825.0</td>\n",
       "      <td>ac</td>\n",
       "      <td>0</td>\n",
       "      <td>1522376.9</td>\n",
       "      <td>143704.6</td>\n",
       "      <td>149496.7</td>\n",
       "    </tr>\n",
       "    <tr>\n",
       "      <th>2</th>\n",
       "      <td>train_a</td>\n",
       "      <td>0 days 00:02:00</td>\n",
       "      <td>-5.15</td>\n",
       "      <td>3.66</td>\n",
       "      <td>0.85</td>\n",
       "      <td>6.77</td>\n",
       "      <td>1.97</td>\n",
       "      <td>389.109985</td>\n",
       "      <td>82548.0</td>\n",
       "      <td>ac</td>\n",
       "      <td>0</td>\n",
       "      <td>1522376.9</td>\n",
       "      <td>143704.6</td>\n",
       "      <td>149496.7</td>\n",
       "    </tr>\n",
       "  </tbody>\n",
       "</table>\n",
       "</div>"
      ],
      "text/plain": [
       "    period       timedelta  bx_gse  by_gse  bz_gse    bt  density       speed  \\\n",
       "0  train_a 0 days 00:00:00   -5.55    3.00    1.25  6.80     1.53  383.920013   \n",
       "1  train_a 0 days 00:01:00   -5.58    3.16    1.17  6.83     1.69  381.790009   \n",
       "2  train_a 0 days 00:02:00   -5.15    3.66    0.85  6.77     1.97  389.109985   \n",
       "\n",
       "   temperature source  dia  gse_x_satellite  gse_y_satellite  gse_z_satellite  \n",
       "0     110237.0     ac    0        1522376.9         143704.6         149496.7  \n",
       "1     123825.0     ac    0        1522376.9         143704.6         149496.7  \n",
       "2      82548.0     ac    0        1522376.9         143704.6         149496.7  "
      ]
     },
     "execution_count": 22,
     "metadata": {},
     "output_type": "execute_result"
    }
   ],
   "source": [
    "df_solar_wind[\"gse_x_satellite\"] = np.nan\n",
    "df_solar_wind[\"gse_y_satellite\"] = np.nan\n",
    "df_solar_wind[\"gse_z_satellite\"] = np.nan\n",
    "\n",
    "df_solar_wind[\"gse_x_satellite\"] = np.where(\n",
    "    df_solar_wind[\"gse_x_satellite\"].isna() \n",
    "    & (df_solar_wind[\"source\"]  == df_satellite_pos[\"source\"])\n",
    "    & (df_solar_wind[\"period\"]  == df_satellite_pos[\"period\"])\n",
    "    & (df_solar_wind[\"dia\"]  == df_satellite_pos[\"dia\"]),\n",
    "    df_satellite_pos[\"gse_x_satellite\"],\n",
    "    np.nan)\n",
    "\n",
    "df_solar_wind[\"gse_y_satellite\"] = np.where(\n",
    "    df_solar_wind[\"gse_y_satellite\"].isna() \n",
    "    & (df_solar_wind[\"source\"]  == df_satellite_pos[\"source\"])\n",
    "    & (df_solar_wind[\"period\"]  == df_satellite_pos[\"period\"])\n",
    "    & (df_solar_wind[\"dia\"]  == df_satellite_pos[\"dia\"]),\n",
    "    df_satellite_pos[\"gse_y_satellite\"],\n",
    "    np.nan)\n",
    "\n",
    "df_solar_wind[\"gse_z_satellite\"] = np.where(\n",
    "    df_solar_wind[\"gse_z_satellite\"].isna() \n",
    "    & (df_solar_wind[\"source\"]  == df_satellite_pos[\"source\"])\n",
    "    & (df_solar_wind[\"period\"]  == df_satellite_pos[\"period\"])\n",
    "    & (df_solar_wind[\"dia\"]  == df_satellite_pos[\"dia\"]),\n",
    "    df_satellite_pos[\"gse_z_satellite\"],\n",
    "    np.nan)\n",
    "\n",
    "df_solar_wind.head(3)"
   ]
  },
  {
   "cell_type": "markdown",
   "metadata": {},
   "source": [
    "##### Consolidando df_solar_wind e df_sunspots"
   ]
  },
  {
   "cell_type": "code",
   "execution_count": 23,
   "metadata": {},
   "outputs": [
    {
     "data": {
      "text/html": [
       "<div>\n",
       "<style scoped>\n",
       "    .dataframe tbody tr th:only-of-type {\n",
       "        vertical-align: middle;\n",
       "    }\n",
       "\n",
       "    .dataframe tbody tr th {\n",
       "        vertical-align: top;\n",
       "    }\n",
       "\n",
       "    .dataframe thead th {\n",
       "        text-align: right;\n",
       "    }\n",
       "</style>\n",
       "<table border=\"1\" class=\"dataframe\">\n",
       "  <thead>\n",
       "    <tr style=\"text-align: right;\">\n",
       "      <th></th>\n",
       "      <th>period</th>\n",
       "      <th>timedelta</th>\n",
       "      <th>bx_gse</th>\n",
       "      <th>by_gse</th>\n",
       "      <th>bz_gse</th>\n",
       "      <th>bt</th>\n",
       "      <th>density</th>\n",
       "      <th>speed</th>\n",
       "      <th>temperature</th>\n",
       "      <th>source</th>\n",
       "      <th>dia</th>\n",
       "      <th>gse_x_satellite</th>\n",
       "      <th>gse_y_satellite</th>\n",
       "      <th>gse_z_satellite</th>\n",
       "      <th>smoothed_ssn</th>\n",
       "    </tr>\n",
       "  </thead>\n",
       "  <tbody>\n",
       "    <tr>\n",
       "      <th>0</th>\n",
       "      <td>train_a</td>\n",
       "      <td>0 days 00:00:00</td>\n",
       "      <td>-5.55</td>\n",
       "      <td>3.00</td>\n",
       "      <td>1.25</td>\n",
       "      <td>6.80</td>\n",
       "      <td>1.53</td>\n",
       "      <td>383.920013</td>\n",
       "      <td>110237.0</td>\n",
       "      <td>ac</td>\n",
       "      <td>0</td>\n",
       "      <td>1522376.9</td>\n",
       "      <td>143704.6</td>\n",
       "      <td>149496.7</td>\n",
       "      <td>65.400002</td>\n",
       "    </tr>\n",
       "    <tr>\n",
       "      <th>1</th>\n",
       "      <td>train_a</td>\n",
       "      <td>0 days 00:01:00</td>\n",
       "      <td>-5.58</td>\n",
       "      <td>3.16</td>\n",
       "      <td>1.17</td>\n",
       "      <td>6.83</td>\n",
       "      <td>1.69</td>\n",
       "      <td>381.790009</td>\n",
       "      <td>123825.0</td>\n",
       "      <td>ac</td>\n",
       "      <td>0</td>\n",
       "      <td>1522376.9</td>\n",
       "      <td>143704.6</td>\n",
       "      <td>149496.7</td>\n",
       "      <td>NaN</td>\n",
       "    </tr>\n",
       "    <tr>\n",
       "      <th>2</th>\n",
       "      <td>train_a</td>\n",
       "      <td>0 days 00:02:00</td>\n",
       "      <td>-5.15</td>\n",
       "      <td>3.66</td>\n",
       "      <td>0.85</td>\n",
       "      <td>6.77</td>\n",
       "      <td>1.97</td>\n",
       "      <td>389.109985</td>\n",
       "      <td>82548.0</td>\n",
       "      <td>ac</td>\n",
       "      <td>0</td>\n",
       "      <td>1522376.9</td>\n",
       "      <td>143704.6</td>\n",
       "      <td>149496.7</td>\n",
       "      <td>NaN</td>\n",
       "    </tr>\n",
       "  </tbody>\n",
       "</table>\n",
       "</div>"
      ],
      "text/plain": [
       "    period       timedelta  bx_gse  by_gse  bz_gse    bt  density       speed  \\\n",
       "0  train_a 0 days 00:00:00   -5.55    3.00    1.25  6.80     1.53  383.920013   \n",
       "1  train_a 0 days 00:01:00   -5.58    3.16    1.17  6.83     1.69  381.790009   \n",
       "2  train_a 0 days 00:02:00   -5.15    3.66    0.85  6.77     1.97  389.109985   \n",
       "\n",
       "   temperature source  dia  gse_x_satellite  gse_y_satellite  gse_z_satellite  \\\n",
       "0     110237.0     ac    0        1522376.9         143704.6         149496.7   \n",
       "1     123825.0     ac    0        1522376.9         143704.6         149496.7   \n",
       "2      82548.0     ac    0        1522376.9         143704.6         149496.7   \n",
       "\n",
       "   smoothed_ssn  \n",
       "0     65.400002  \n",
       "1           NaN  \n",
       "2           NaN  "
      ]
     },
     "execution_count": 23,
     "metadata": {},
     "output_type": "execute_result"
    }
   ],
   "source": [
    "df_solar_wind = pd.merge(df_solar_wind, \n",
    "                         df_sunspots, \n",
    "                         on=['period', 'timedelta'], \n",
    "                         how='left')\n",
    "df_solar_wind.head(3)"
   ]
  },
  {
   "cell_type": "markdown",
   "metadata": {},
   "source": [
    "##### Consolidando df_solar_wind e df_labels"
   ]
  },
  {
   "cell_type": "code",
   "execution_count": 24,
   "metadata": {},
   "outputs": [
    {
     "data": {
      "text/html": [
       "<div>\n",
       "<style scoped>\n",
       "    .dataframe tbody tr th:only-of-type {\n",
       "        vertical-align: middle;\n",
       "    }\n",
       "\n",
       "    .dataframe tbody tr th {\n",
       "        vertical-align: top;\n",
       "    }\n",
       "\n",
       "    .dataframe thead th {\n",
       "        text-align: right;\n",
       "    }\n",
       "</style>\n",
       "<table border=\"1\" class=\"dataframe\">\n",
       "  <thead>\n",
       "    <tr style=\"text-align: right;\">\n",
       "      <th></th>\n",
       "      <th>period</th>\n",
       "      <th>timedelta</th>\n",
       "      <th>bx_gse</th>\n",
       "      <th>by_gse</th>\n",
       "      <th>bz_gse</th>\n",
       "      <th>bt</th>\n",
       "      <th>density</th>\n",
       "      <th>speed</th>\n",
       "      <th>temperature</th>\n",
       "      <th>source</th>\n",
       "      <th>dia</th>\n",
       "      <th>gse_x_satellite</th>\n",
       "      <th>gse_y_satellite</th>\n",
       "      <th>gse_z_satellite</th>\n",
       "      <th>smoothed_ssn</th>\n",
       "      <th>dst</th>\n",
       "    </tr>\n",
       "  </thead>\n",
       "  <tbody>\n",
       "    <tr>\n",
       "      <th>0</th>\n",
       "      <td>train_a</td>\n",
       "      <td>0 days 00:00:00</td>\n",
       "      <td>-5.55</td>\n",
       "      <td>3.00</td>\n",
       "      <td>1.25</td>\n",
       "      <td>6.80</td>\n",
       "      <td>1.53</td>\n",
       "      <td>383.920013</td>\n",
       "      <td>110237.0</td>\n",
       "      <td>ac</td>\n",
       "      <td>0</td>\n",
       "      <td>1522376.9</td>\n",
       "      <td>143704.6</td>\n",
       "      <td>149496.7</td>\n",
       "      <td>65.400002</td>\n",
       "      <td>-7.0</td>\n",
       "    </tr>\n",
       "    <tr>\n",
       "      <th>1</th>\n",
       "      <td>train_a</td>\n",
       "      <td>0 days 00:01:00</td>\n",
       "      <td>-5.58</td>\n",
       "      <td>3.16</td>\n",
       "      <td>1.17</td>\n",
       "      <td>6.83</td>\n",
       "      <td>1.69</td>\n",
       "      <td>381.790009</td>\n",
       "      <td>123825.0</td>\n",
       "      <td>ac</td>\n",
       "      <td>0</td>\n",
       "      <td>1522376.9</td>\n",
       "      <td>143704.6</td>\n",
       "      <td>149496.7</td>\n",
       "      <td>NaN</td>\n",
       "      <td>NaN</td>\n",
       "    </tr>\n",
       "    <tr>\n",
       "      <th>2</th>\n",
       "      <td>train_a</td>\n",
       "      <td>0 days 00:02:00</td>\n",
       "      <td>-5.15</td>\n",
       "      <td>3.66</td>\n",
       "      <td>0.85</td>\n",
       "      <td>6.77</td>\n",
       "      <td>1.97</td>\n",
       "      <td>389.109985</td>\n",
       "      <td>82548.0</td>\n",
       "      <td>ac</td>\n",
       "      <td>0</td>\n",
       "      <td>1522376.9</td>\n",
       "      <td>143704.6</td>\n",
       "      <td>149496.7</td>\n",
       "      <td>NaN</td>\n",
       "      <td>NaN</td>\n",
       "    </tr>\n",
       "  </tbody>\n",
       "</table>\n",
       "</div>"
      ],
      "text/plain": [
       "    period       timedelta  bx_gse  by_gse  bz_gse    bt  density       speed  \\\n",
       "0  train_a 0 days 00:00:00   -5.55    3.00    1.25  6.80     1.53  383.920013   \n",
       "1  train_a 0 days 00:01:00   -5.58    3.16    1.17  6.83     1.69  381.790009   \n",
       "2  train_a 0 days 00:02:00   -5.15    3.66    0.85  6.77     1.97  389.109985   \n",
       "\n",
       "   temperature source  dia  gse_x_satellite  gse_y_satellite  gse_z_satellite  \\\n",
       "0     110237.0     ac    0        1522376.9         143704.6         149496.7   \n",
       "1     123825.0     ac    0        1522376.9         143704.6         149496.7   \n",
       "2      82548.0     ac    0        1522376.9         143704.6         149496.7   \n",
       "\n",
       "   smoothed_ssn  dst  \n",
       "0     65.400002 -7.0  \n",
       "1           NaN  NaN  \n",
       "2           NaN  NaN  "
      ]
     },
     "execution_count": 24,
     "metadata": {},
     "output_type": "execute_result"
    }
   ],
   "source": [
    "df_solar_wind = pd.merge(df_solar_wind, \n",
    "                         df_labels, \n",
    "                         on=['period', 'timedelta'], \n",
    "                         how='left')\n",
    "df_solar_wind.head(3)"
   ]
  },
  {
   "cell_type": "markdown",
   "metadata": {},
   "source": [
    "##### Removendo coluna dia"
   ]
  },
  {
   "cell_type": "code",
   "execution_count": 25,
   "metadata": {},
   "outputs": [
    {
     "data": {
      "text/html": [
       "<div>\n",
       "<style scoped>\n",
       "    .dataframe tbody tr th:only-of-type {\n",
       "        vertical-align: middle;\n",
       "    }\n",
       "\n",
       "    .dataframe tbody tr th {\n",
       "        vertical-align: top;\n",
       "    }\n",
       "\n",
       "    .dataframe thead th {\n",
       "        text-align: right;\n",
       "    }\n",
       "</style>\n",
       "<table border=\"1\" class=\"dataframe\">\n",
       "  <thead>\n",
       "    <tr style=\"text-align: right;\">\n",
       "      <th></th>\n",
       "      <th>period</th>\n",
       "      <th>timedelta</th>\n",
       "      <th>bx_gse</th>\n",
       "      <th>by_gse</th>\n",
       "      <th>bz_gse</th>\n",
       "      <th>bt</th>\n",
       "      <th>density</th>\n",
       "      <th>speed</th>\n",
       "      <th>temperature</th>\n",
       "      <th>source</th>\n",
       "      <th>gse_x_satellite</th>\n",
       "      <th>gse_y_satellite</th>\n",
       "      <th>gse_z_satellite</th>\n",
       "      <th>smoothed_ssn</th>\n",
       "      <th>dst</th>\n",
       "    </tr>\n",
       "  </thead>\n",
       "  <tbody>\n",
       "    <tr>\n",
       "      <th>0</th>\n",
       "      <td>train_a</td>\n",
       "      <td>0 days 00:00:00</td>\n",
       "      <td>-5.55</td>\n",
       "      <td>3.00</td>\n",
       "      <td>1.25</td>\n",
       "      <td>6.80</td>\n",
       "      <td>1.53</td>\n",
       "      <td>383.920013</td>\n",
       "      <td>110237.0</td>\n",
       "      <td>ac</td>\n",
       "      <td>1522376.9</td>\n",
       "      <td>143704.6</td>\n",
       "      <td>149496.7</td>\n",
       "      <td>65.400002</td>\n",
       "      <td>-7.0</td>\n",
       "    </tr>\n",
       "    <tr>\n",
       "      <th>1</th>\n",
       "      <td>train_a</td>\n",
       "      <td>0 days 00:01:00</td>\n",
       "      <td>-5.58</td>\n",
       "      <td>3.16</td>\n",
       "      <td>1.17</td>\n",
       "      <td>6.83</td>\n",
       "      <td>1.69</td>\n",
       "      <td>381.790009</td>\n",
       "      <td>123825.0</td>\n",
       "      <td>ac</td>\n",
       "      <td>1522376.9</td>\n",
       "      <td>143704.6</td>\n",
       "      <td>149496.7</td>\n",
       "      <td>NaN</td>\n",
       "      <td>NaN</td>\n",
       "    </tr>\n",
       "    <tr>\n",
       "      <th>2</th>\n",
       "      <td>train_a</td>\n",
       "      <td>0 days 00:02:00</td>\n",
       "      <td>-5.15</td>\n",
       "      <td>3.66</td>\n",
       "      <td>0.85</td>\n",
       "      <td>6.77</td>\n",
       "      <td>1.97</td>\n",
       "      <td>389.109985</td>\n",
       "      <td>82548.0</td>\n",
       "      <td>ac</td>\n",
       "      <td>1522376.9</td>\n",
       "      <td>143704.6</td>\n",
       "      <td>149496.7</td>\n",
       "      <td>NaN</td>\n",
       "      <td>NaN</td>\n",
       "    </tr>\n",
       "  </tbody>\n",
       "</table>\n",
       "</div>"
      ],
      "text/plain": [
       "    period       timedelta  bx_gse  by_gse  bz_gse    bt  density       speed  \\\n",
       "0  train_a 0 days 00:00:00   -5.55    3.00    1.25  6.80     1.53  383.920013   \n",
       "1  train_a 0 days 00:01:00   -5.58    3.16    1.17  6.83     1.69  381.790009   \n",
       "2  train_a 0 days 00:02:00   -5.15    3.66    0.85  6.77     1.97  389.109985   \n",
       "\n",
       "   temperature source  gse_x_satellite  gse_y_satellite  gse_z_satellite  \\\n",
       "0     110237.0     ac        1522376.9         143704.6         149496.7   \n",
       "1     123825.0     ac        1522376.9         143704.6         149496.7   \n",
       "2      82548.0     ac        1522376.9         143704.6         149496.7   \n",
       "\n",
       "   smoothed_ssn  dst  \n",
       "0     65.400002 -7.0  \n",
       "1           NaN  NaN  \n",
       "2           NaN  NaN  "
      ]
     },
     "execution_count": 25,
     "metadata": {},
     "output_type": "execute_result"
    }
   ],
   "source": [
    "df_solar_wind.drop(\"dia\", axis=1, inplace=True)\n",
    "df_solar_wind.head(3)"
   ]
  },
  {
   "cell_type": "markdown",
   "metadata": {},
   "source": [
    "##### Exportando base de dados consolidada"
   ]
  },
  {
   "cell_type": "code",
   "execution_count": 26,
   "metadata": {},
   "outputs": [],
   "source": [
    "df_solar_wind.to_parquet(r\"..\\data\\df_consolidado.parquet\")"
   ]
  },
  {
   "cell_type": "markdown",
   "metadata": {},
   "source": [
    "### Removendo valores ausentes para base de dados de validação"
   ]
  },
  {
   "cell_type": "code",
   "execution_count": 27,
   "metadata": {},
   "outputs": [],
   "source": [
    "df_validacao = df_solar_wind.copy()\n",
    "df_validacao.dropna(how='any', inplace=True)\n",
    "\n",
    "df_validacao_period_a = (\n",
    "    df_validacao.loc[df_validacao[\"period\"] == \"train_a\"])\n",
    "\n",
    "df_validacao_period_b = (\n",
    "    df_validacao.loc[df_validacao[\"period\"] == \"train_b\"])\n",
    "\n",
    "df_validacao_period_c = (\n",
    "    df_validacao.loc[df_validacao[\"period\"] == \"train_c\"])"
   ]
  },
  {
   "cell_type": "markdown",
   "metadata": {},
   "source": [
    "##### Exportando bases de dados de validação"
   ]
  },
  {
   "cell_type": "code",
   "execution_count": 28,
   "metadata": {},
   "outputs": [],
   "source": [
    "df_validacao_period_a.to_parquet( r'..\\data\\df_validacao_period_a.parquet')\n",
    "df_validacao_period_b.to_parquet( r'..\\data\\df_validacao_period_b.parquet')\n",
    "df_validacao_period_c.to_parquet( r'..\\data\\df_validacao_period_c.parquet')"
   ]
  },
  {
   "cell_type": "markdown",
   "metadata": {},
   "source": [
    "### Preenchendo valores ausentes para base de dados de desenvolvimento"
   ]
  },
  {
   "cell_type": "markdown",
   "metadata": {},
   "source": [
    "##### Segmentando base de dados por período"
   ]
  },
  {
   "cell_type": "code",
   "execution_count": 29,
   "metadata": {},
   "outputs": [],
   "source": [
    "df_desenvolvimento = df_solar_wind.copy()\n",
    "\n",
    "df_desenvolvimento_period_a = (\n",
    "    df_desenvolvimento.loc[df_desenvolvimento[\"period\"] == \"train_a\"])\n",
    "\n",
    "df_desenvolvimento_period_b = (\n",
    "    df_desenvolvimento.loc[df_desenvolvimento[\"period\"] == \"train_b\"])\n",
    "\n",
    "df_desenvolvimento_period_c = (\n",
    "    df_desenvolvimento.loc[df_desenvolvimento[\"period\"] == \"train_c\"])"
   ]
  },
  {
   "cell_type": "markdown",
   "metadata": {},
   "source": [
    "##### Preenchendo valores ausentes dos vendos solares com interpolação linear"
   ]
  },
  {
   "cell_type": "code",
   "execution_count": 30,
   "metadata": {},
   "outputs": [],
   "source": [
    "df_desenvolvimento_period_a[\"bx_gse\"] = (\n",
    "    df_desenvolvimento_period_a[\"bx_gse\"]\n",
    "    .interpolate(method='linear', limit_direction='both'))\n",
    "df_desenvolvimento_period_a[\"by_gse\"] = (\n",
    "    df_desenvolvimento_period_a[\"by_gse\"]\n",
    "    .interpolate(method='linear', limit_direction='both'))\n",
    "df_desenvolvimento_period_a[\"bz_gse\"] = (\n",
    "    df_desenvolvimento_period_a[\"bz_gse\"]\n",
    "    .interpolate(method='linear', limit_direction='both'))\n",
    "df_desenvolvimento_period_a[\"bt\"] = (\n",
    "    df_desenvolvimento_period_a[\"bt\"]\n",
    "    .interpolate(method='linear', limit_direction='both'))\n",
    "df_desenvolvimento_period_a[\"density\"] = (\n",
    "    df_desenvolvimento_period_a[\"density\"]\n",
    "    .interpolate(method='linear', limit_direction='both'))\n",
    "df_desenvolvimento_period_a[\"speed\"] = (\n",
    "    df_desenvolvimento_period_a[\"speed\"]\n",
    "    .interpolate(method='linear', limit_direction='both'))\n",
    "df_desenvolvimento_period_a[\"temperature\"] = (\n",
    "    df_desenvolvimento_period_a[\"temperature\"]\n",
    "    .interpolate(method='linear', limit_direction='both'))\n",
    "\n",
    "df_desenvolvimento_period_b[\"bx_gse\"] = (\n",
    "    df_desenvolvimento_period_b[\"bx_gse\"]\n",
    "    .interpolate(method='linear', limit_direction='both'))\n",
    "df_desenvolvimento_period_b[\"by_gse\"] = (\n",
    "    df_desenvolvimento_period_b[\"by_gse\"]\n",
    "    .interpolate(method='linear', limit_direction='both'))\n",
    "df_desenvolvimento_period_b[\"bz_gse\"] = (\n",
    "    df_desenvolvimento_period_b[\"bz_gse\"]\n",
    "    .interpolate(method='linear', limit_direction='both'))\n",
    "df_desenvolvimento_period_b[\"bt\"] = (\n",
    "    df_desenvolvimento_period_b[\"bt\"]\n",
    "    .interpolate(method='linear', limit_direction='both'))\n",
    "df_desenvolvimento_period_b[\"density\"] = (\n",
    "    df_desenvolvimento_period_b[\"density\"]\n",
    "    .interpolate(method='linear', limit_direction='both'))\n",
    "df_desenvolvimento_period_b[\"speed\"] = (\n",
    "    df_desenvolvimento_period_b[\"speed\"]\n",
    "    .interpolate(method='linear', limit_direction='both'))\n",
    "df_desenvolvimento_period_b[\"temperature\"] = (\n",
    "    df_desenvolvimento_period_b[\"temperature\"]\n",
    "    .interpolate(method='linear', limit_direction='both'))\n",
    "\n",
    "df_desenvolvimento_period_c[\"bx_gse\"] = (\n",
    "    df_desenvolvimento_period_c[\"bx_gse\"]\n",
    "    .interpolate(method='linear', limit_direction='both'))\n",
    "df_desenvolvimento_period_c[\"by_gse\"] = (\n",
    "    df_desenvolvimento_period_c[\"by_gse\"]\n",
    "    .interpolate(method='linear', limit_direction='both'))\n",
    "df_desenvolvimento_period_c[\"bz_gse\"] = (\n",
    "    df_desenvolvimento_period_c[\"bz_gse\"]\n",
    "    .interpolate(method='linear', limit_direction='both'))\n",
    "df_desenvolvimento_period_c[\"bt\"] = (\n",
    "    df_desenvolvimento_period_c[\"bt\"]\n",
    "    .interpolate(method='linear', limit_direction='both'))\n",
    "df_desenvolvimento_period_c[\"density\"] = (\n",
    "    df_desenvolvimento_period_c[\"density\"]\n",
    "    .interpolate(method='linear', limit_direction='both'))\n",
    "df_desenvolvimento_period_c[\"speed\"] = (\n",
    "    df_desenvolvimento_period_c[\"speed\"]\n",
    "    .interpolate(method='linear', limit_direction='both'))\n",
    "df_desenvolvimento_period_c[\"temperature\"] = (\n",
    "    df_desenvolvimento_period_c[\"temperature\"]\n",
    "    .interpolate(method='linear', limit_direction='both'))"
   ]
  },
  {
   "cell_type": "markdown",
   "metadata": {},
   "source": [
    "##### Preenchendo Valores ausentes das manchas solares com interpolação linear"
   ]
  },
  {
   "cell_type": "code",
   "execution_count": 31,
   "metadata": {},
   "outputs": [],
   "source": [
    "df_desenvolvimento_period_a[\"smoothed_ssn\"] = (\n",
    "    df_desenvolvimento_period_a[\"smoothed_ssn\"]\n",
    "    .interpolate(method='linear', limit_direction='both'))\n",
    "\n",
    "df_desenvolvimento_period_b[\"smoothed_ssn\"] = (\n",
    "    df_desenvolvimento_period_b[\"smoothed_ssn\"]\n",
    "    .interpolate(method='linear', limit_direction='both'))\n",
    "\n",
    "df_desenvolvimento_period_c[\"smoothed_ssn\"] = (\n",
    "    df_desenvolvimento_period_c[\"smoothed_ssn\"]\n",
    "    .interpolate(method='linear', limit_direction='both'))"
   ]
  },
  {
   "cell_type": "markdown",
   "metadata": {},
   "source": [
    "##### Preenchendo valores ausentes de Dst com interpolação linear"
   ]
  },
  {
   "cell_type": "code",
   "execution_count": 32,
   "metadata": {},
   "outputs": [],
   "source": [
    "df_desenvolvimento_period_a[\"dst\"] = (\n",
    "    df_desenvolvimento_period_a[\"dst\"]\n",
    "    .interpolate(method='linear', limit_direction='both'))\n",
    "\n",
    "df_desenvolvimento_period_b[\"dst\"] = (\n",
    "    df_desenvolvimento_period_b[\"dst\"]\n",
    "    .interpolate(method='linear', limit_direction='both'))\n",
    "\n",
    "df_desenvolvimento_period_c[\"dst\"] = (\n",
    "    df_desenvolvimento_period_c[\"dst\"]\n",
    "    .interpolate(method='linear', limit_direction='both'))"
   ]
  },
  {
   "cell_type": "markdown",
   "metadata": {},
   "source": [
    "##### Exportando bases de dados de desenvolvimento"
   ]
  },
  {
   "cell_type": "code",
   "execution_count": 33,
   "metadata": {},
   "outputs": [],
   "source": [
    "df_desenvolvimento_period_a.to_parquet(\n",
    "    r'..\\data\\df_desenvolvimento_period_a.parquet')\n",
    "df_desenvolvimento_period_b.to_parquet(\n",
    "    r'..\\data\\df_desenvolvimento_period_b.parquet')\n",
    "df_desenvolvimento_period_c.to_parquet(\n",
    "    r'..\\data\\df_desenvolvimento_period_c.parquet')"
   ]
  }
 ],
 "metadata": {
  "kernelspec": {
   "display_name": "venv",
   "language": "python",
   "name": "python3"
  },
  "language_info": {
   "codemirror_mode": {
    "name": "ipython",
    "version": 3
   },
   "file_extension": ".py",
   "mimetype": "text/x-python",
   "name": "python",
   "nbconvert_exporter": "python",
   "pygments_lexer": "ipython3",
   "version": "3.12.7"
  }
 },
 "nbformat": 4,
 "nbformat_minor": 2
}
