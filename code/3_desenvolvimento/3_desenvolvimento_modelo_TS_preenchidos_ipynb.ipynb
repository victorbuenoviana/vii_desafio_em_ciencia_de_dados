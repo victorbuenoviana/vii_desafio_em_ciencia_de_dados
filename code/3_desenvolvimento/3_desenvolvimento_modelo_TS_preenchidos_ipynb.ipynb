{
  "nbformat": 4,
  "nbformat_minor": 0,
  "metadata": {
    "colab": {
      "provenance": []
    },
    "kernelspec": {
      "name": "python3",
      "display_name": "Python 3"
    },
    "language_info": {
      "name": "python"
    }
  },
  "cells": [
    {
      "cell_type": "markdown",
      "source": [
        "Instalando bibliotecas"
      ],
      "metadata": {
        "id": "lSDwHQrCRieK"
      }
    },
    {
      "cell_type": "code",
      "source": [
        "# !pip uninstall pandas\n",
        "# !pip install pandas\n",
        "# !pip install pycaret[full]\n",
        "# !pip install pyarrow"
      ],
      "metadata": {
        "id": "taCW0QMeNWi8"
      },
      "execution_count": 1,
      "outputs": []
    },
    {
      "cell_type": "markdown",
      "source": [
        "Importando bibliotecas"
      ],
      "metadata": {
        "id": "2Foac8IPRmY1"
      }
    },
    {
      "cell_type": "code",
      "source": [
        "import pandas as pd\n",
        "from pycaret.time_series import *"
      ],
      "metadata": {
        "id": "vITTgV8gPg9b"
      },
      "execution_count": 2,
      "outputs": []
    },
    {
      "cell_type": "markdown",
      "source": [
        "Importano base de dados"
      ],
      "metadata": {
        "id": "oxXOlaPpRotd"
      }
    },
    {
      "cell_type": "code",
      "source": [
        "df = pd.read_parquet(r'df_consolidado_preenchido.parquet')\n",
        "df_a = df['dst'][df['period'] == 'train_a']\n",
        "# df_b = df['dst'][df['period'] == 'train_b']\n",
        "# df_c = df['dst'][df['period'] == 'train_c']\n",
        "df_a.head(3)"
      ],
      "metadata": {
        "id": "qEUXTSLTQbxE",
        "colab": {
          "base_uri": "https://localhost:8080/",
          "height": 210
        },
        "outputId": "afbaea2b-96f8-415a-a930-65c67959a031"
      },
      "execution_count": 3,
      "outputs": [
        {
          "output_type": "execute_result",
          "data": {
            "text/plain": [
              "date\n",
              "1998-02-16 00:00:00   -7.00\n",
              "1998-02-16 00:01:00   -7.05\n",
              "1998-02-16 00:02:00   -7.10\n",
              "Name: dst, dtype: float64"
            ],
            "text/html": [
              "<div>\n",
              "<style scoped>\n",
              "    .dataframe tbody tr th:only-of-type {\n",
              "        vertical-align: middle;\n",
              "    }\n",
              "\n",
              "    .dataframe tbody tr th {\n",
              "        vertical-align: top;\n",
              "    }\n",
              "\n",
              "    .dataframe thead th {\n",
              "        text-align: right;\n",
              "    }\n",
              "</style>\n",
              "<table border=\"1\" class=\"dataframe\">\n",
              "  <thead>\n",
              "    <tr style=\"text-align: right;\">\n",
              "      <th></th>\n",
              "      <th>dst</th>\n",
              "    </tr>\n",
              "    <tr>\n",
              "      <th>date</th>\n",
              "      <th></th>\n",
              "    </tr>\n",
              "  </thead>\n",
              "  <tbody>\n",
              "    <tr>\n",
              "      <th>1998-02-16 00:00:00</th>\n",
              "      <td>-7.00</td>\n",
              "    </tr>\n",
              "    <tr>\n",
              "      <th>1998-02-16 00:01:00</th>\n",
              "      <td>-7.05</td>\n",
              "    </tr>\n",
              "    <tr>\n",
              "      <th>1998-02-16 00:02:00</th>\n",
              "      <td>-7.10</td>\n",
              "    </tr>\n",
              "  </tbody>\n",
              "</table>\n",
              "</div><br><label><b>dtype:</b> float64</label>"
            ]
          },
          "metadata": {},
          "execution_count": 3
        }
      ]
    },
    {
      "cell_type": "code",
      "source": [
        "df_a.shape"
      ],
      "metadata": {
        "colab": {
          "base_uri": "https://localhost:8080/"
        },
        "id": "M5WiO-e3W2Q2",
        "outputId": "98f004df-44d7-4fe5-a548-9f4bb5c55a9d"
      },
      "execution_count": 4,
      "outputs": [
        {
          "output_type": "execute_result",
          "data": {
            "text/plain": [
              "(1729440,)"
            ]
          },
          "metadata": {},
          "execution_count": 4
        }
      ]
    },
    {
      "cell_type": "code",
      "source": [
        "df_a.plot()"
      ],
      "metadata": {
        "colab": {
          "base_uri": "https://localhost:8080/",
          "height": 536
        },
        "id": "Npdd89jPWlKm",
        "outputId": "aa4598e6-0958-49fd-9abd-c733e816c5a6"
      },
      "execution_count": 5,
      "outputs": [
        {
          "output_type": "execute_result",
          "data": {
            "text/plain": [
              "<Axes: xlabel='date'>"
            ]
          },
          "metadata": {},
          "execution_count": 5
        },
        {
          "output_type": "display_data",
          "data": {
            "text/plain": [
              "<Figure size 800x550 with 1 Axes>"
            ],
            "image/png": "[encoded data removed]"
          },
          "metadata": {}
        }
      ]
    },
    {
      "cell_type": "markdown",
      "source": [
        "Inicializando o ambiente de treinamento e criando o pipeline de transformações"
      ],
      "metadata": {
        "id": "zezafQp3UGuQ"
      }
    },
    {
      "cell_type": "code",
      "source": [
        "setup = setup(df_a,\n",
        "              fh = 3,\n",
        "              session_id = 42,\n",
        "              fold_strategy = 'expanding',\n",
        "              # numeric_imputation_target = 'drift',\n",
        "              )\n",
        "# Obtenndo a lista de variáveis criadas para gerar o ambiente de treinamento\n",
        "# get_config()\n",
        "\n",
        "# Obtendo o valor da variável desejada\n",
        "# get_config('y_train_transformed')"
      ],
      "metadata": {
        "id": "dFwfZhLZQW00"
      },
      "execution_count": null,
      "outputs": []
    },
    {
      "cell_type": "markdown",
      "source": [
        "Removendo métricas de avaliação secundárias"
      ],
      "metadata": {
        "id": "3dwFlM0wUOCY"
      }
    },
    {
      "cell_type": "code",
      "source": [
        "remove_metric('MAE')\n",
        "remove_metric('MSE')\n",
        "remove_metric('RMSLE')\n",
        "remove_metric('MAPE')\n",
        "remove_metric('TT (Sec)')"
      ],
      "metadata": {
        "id": "X_cFg-ouUO4A"
      },
      "execution_count": null,
      "outputs": []
    },
    {
      "cell_type": "markdown",
      "source": [
        "Treinando e avaliando modelos com validação cruzada"
      ],
      "metadata": {
        "id": "XqcsF9R6UV9Y"
      }
    },
    {
      "cell_type": "code",
      "source": [
        "best = compare_models()"
      ],
      "metadata": {
        "id": "FCLzlPtfUVRw"
      },
      "execution_count": null,
      "outputs": []
    },
    {
      "cell_type": "markdown",
      "source": [
        "Criando modelo selecionado"
      ],
      "metadata": {
        "id": "oqbaGiYPaSMj"
      }
    },
    {
      "cell_type": "code",
      "source": [
        "best_model = create_model('ets',\n",
        "                          deseasonalize = False,\n",
        "                          fold=5)"
      ],
      "metadata": {
        "id": "CXtPNNGGaRkb"
      },
      "execution_count": null,
      "outputs": []
    },
    {
      "cell_type": "markdown",
      "source": [
        "Otimizando hiperparametros"
      ],
      "metadata": {
        "id": "Y1WywGVIa1Rv"
      }
    },
    {
      "cell_type": "code",
      "source": [
        "tuned_model, tuner = tune_model(best_model,\n",
        "                                return_tuner=True,\n",
        "                                # search_algorithm = \"grid\",\n",
        "                                search_algorithm = \"random\",\n",
        "                                optimize=\"RMSE\",\n",
        "                                )\n",
        "tuned_model"
      ],
      "metadata": {
        "id": "gcym-10Da4He"
      },
      "execution_count": null,
      "outputs": []
    },
    {
      "cell_type": "markdown",
      "source": [
        "Visualizando predição"
      ],
      "metadata": {
        "id": "4pL7GI0CXn7r"
      }
    },
    {
      "cell_type": "code",
      "source": [
        "plot_model(best, plot = 'forecast')"
      ],
      "metadata": {
        "id": "03-z-3b8Xl9d"
      },
      "execution_count": null,
      "outputs": []
    },
    {
      "cell_type": "markdown",
      "source": [
        "Visualizando residuos"
      ],
      "metadata": {
        "id": "XY5ODVwvX0vX"
      }
    },
    {
      "cell_type": "code",
      "source": [
        "plot_model(best, plot = 'residuals')"
      ],
      "metadata": {
        "id": "3Nbc5MxJX4_j"
      },
      "execution_count": null,
      "outputs": []
    },
    {
      "cell_type": "markdown",
      "source": [
        "Realizando predições"
      ],
      "metadata": {
        "id": "ntlA4oIoYGFa"
      }
    },
    {
      "cell_type": "code",
      "source": [
        "pred = predict_model(best, fh = 10)\n",
        "pred"
      ],
      "metadata": {
        "id": "r1PwGpJdYNs6"
      },
      "execution_count": null,
      "outputs": []
    },
    {
      "cell_type": "markdown",
      "source": [
        "Obtendo resultados da predição"
      ],
      "metadata": {
        "id": "I19D8-OdYYa8"
      }
    },
    {
      "cell_type": "code",
      "source": [
        "pred.head()"
      ],
      "metadata": {
        "id": "grJHcUvoYcuH"
      },
      "execution_count": null,
      "outputs": []
    },
    {
      "cell_type": "markdown",
      "source": [
        "Salvando pipeline do modelo"
      ],
      "metadata": {
        "id": "F_iZl8Q1Y4si"
      }
    },
    {
      "cell_type": "code",
      "source": [
        "save_model(best, 'ts_pred_pipeline')"
      ],
      "metadata": {
        "id": "tYn1LYL0Y73Y"
      },
      "execution_count": null,
      "outputs": []
    },
    {
      "cell_type": "markdown",
      "source": [
        "Carregando pipeline do modelo"
      ],
      "metadata": {
        "id": "KsYKU_N5ZBqn"
      }
    },
    {
      "cell_type": "code",
      "source": [
        "loaded_best_pipeline = load_model('ts_pred_pipeline')\n",
        "loaded_best_pipeline"
      ],
      "metadata": {
        "id": "L1gChwTkZJnE"
      },
      "execution_count": null,
      "outputs": []
    }
  ]
}