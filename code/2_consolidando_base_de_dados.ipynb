{
 "cells": [
  {
   "cell_type": "markdown",
   "metadata": {},
   "source": [
    "### Importando bibliotecas"
   ]
  },
  {
   "cell_type": "code",
   "execution_count": 1,
   "metadata": {},
   "outputs": [],
   "source": [
    "# desabilita os warnings\n",
    "import warnings\n",
    "warnings.filterwarnings('ignore')"
   ]
  },
  {
   "cell_type": "code",
   "execution_count": 2,
   "metadata": {},
   "outputs": [],
   "source": [
    "import pandas as pd\n",
    "import numpy as np"
   ]
  },
  {
   "cell_type": "markdown",
   "metadata": {},
   "source": [
    "### Importando dados tratados"
   ]
  },
  {
   "cell_type": "code",
   "execution_count": 3,
   "metadata": {},
   "outputs": [],
   "source": [
    "df_solar_wind = pd.read_parquet(r\"..\\data\\df_solar_wind.parquet\")\n",
    "df_satellite_pos = pd.read_parquet(r\"..\\data\\df_satellite_pos.parquet\")\n",
    "df_sunspots = pd.read_parquet(r\"..\\data\\df_sunspots.parquet\")\n",
    "df_labels = pd.read_parquet(r\"..\\data\\df_labels.parquet\")"
   ]
  },
  {
   "cell_type": "markdown",
   "metadata": {},
   "source": [
    "### Consolidando base de dados"
   ]
  },
  {
   "cell_type": "markdown",
   "metadata": {},
   "source": [
    "##### Preparando df_solar_wind e df_satellite_pos"
   ]
  },
  {
   "cell_type": "code",
   "execution_count": 4,
   "metadata": {},
   "outputs": [],
   "source": [
    "df_solar_wind[\"dia\"] = df_solar_wind[\"timedelta\"].dt.days\n",
    "df_satellite_pos[\"dia\"] = df_satellite_pos[\"timedelta\"].dt.days"
   ]
  },
  {
   "cell_type": "code",
   "execution_count": 5,
   "metadata": {},
   "outputs": [],
   "source": [
    "df_satellite_pos = pd.merge(df_satellite_pos, df_solar_wind[[\"period\", \"dia\", \"source\"]], on=[\"period\", \"dia\"], how=\"left\")"
   ]
  },
  {
   "cell_type": "code",
   "execution_count": 6,
   "metadata": {},
   "outputs": [
    {
     "data": {
      "text/html": [
       "<div>\n",
       "<style scoped>\n",
       "    .dataframe tbody tr th:only-of-type {\n",
       "        vertical-align: middle;\n",
       "    }\n",
       "\n",
       "    .dataframe tbody tr th {\n",
       "        vertical-align: top;\n",
       "    }\n",
       "\n",
       "    .dataframe thead th {\n",
       "        text-align: right;\n",
       "    }\n",
       "</style>\n",
       "<table border=\"1\" class=\"dataframe\">\n",
       "  <thead>\n",
       "    <tr style=\"text-align: right;\">\n",
       "      <th></th>\n",
       "      <th>period</th>\n",
       "      <th>timedelta</th>\n",
       "      <th>gse_x_ace</th>\n",
       "      <th>gse_y_ace</th>\n",
       "      <th>gse_z_ace</th>\n",
       "      <th>gse_x_dscovr</th>\n",
       "      <th>gse_y_dscovr</th>\n",
       "      <th>gse_z_dscovr</th>\n",
       "      <th>dia</th>\n",
       "      <th>source</th>\n",
       "      <th>gse_x_satellite</th>\n",
       "      <th>gse_y_satellite</th>\n",
       "      <th>gse_z_satellite</th>\n",
       "    </tr>\n",
       "  </thead>\n",
       "  <tbody>\n",
       "    <tr>\n",
       "      <th>0</th>\n",
       "      <td>train_a</td>\n",
       "      <td>0 days</td>\n",
       "      <td>1522376.9</td>\n",
       "      <td>143704.6</td>\n",
       "      <td>149496.7</td>\n",
       "      <td>NaN</td>\n",
       "      <td>NaN</td>\n",
       "      <td>NaN</td>\n",
       "      <td>0</td>\n",
       "      <td>ac</td>\n",
       "      <td>NaN</td>\n",
       "      <td>NaN</td>\n",
       "      <td>NaN</td>\n",
       "    </tr>\n",
       "    <tr>\n",
       "      <th>1</th>\n",
       "      <td>train_a</td>\n",
       "      <td>0 days</td>\n",
       "      <td>1522376.9</td>\n",
       "      <td>143704.6</td>\n",
       "      <td>149496.7</td>\n",
       "      <td>NaN</td>\n",
       "      <td>NaN</td>\n",
       "      <td>NaN</td>\n",
       "      <td>0</td>\n",
       "      <td>ac</td>\n",
       "      <td>NaN</td>\n",
       "      <td>NaN</td>\n",
       "      <td>NaN</td>\n",
       "    </tr>\n",
       "    <tr>\n",
       "      <th>2</th>\n",
       "      <td>train_a</td>\n",
       "      <td>0 days</td>\n",
       "      <td>1522376.9</td>\n",
       "      <td>143704.6</td>\n",
       "      <td>149496.7</td>\n",
       "      <td>NaN</td>\n",
       "      <td>NaN</td>\n",
       "      <td>NaN</td>\n",
       "      <td>0</td>\n",
       "      <td>ac</td>\n",
       "      <td>NaN</td>\n",
       "      <td>NaN</td>\n",
       "      <td>NaN</td>\n",
       "    </tr>\n",
       "  </tbody>\n",
       "</table>\n",
       "</div>"
      ],
      "text/plain": [
       "    period timedelta  gse_x_ace  gse_y_ace  gse_z_ace  gse_x_dscovr  \\\n",
       "0  train_a    0 days  1522376.9   143704.6   149496.7           NaN   \n",
       "1  train_a    0 days  1522376.9   143704.6   149496.7           NaN   \n",
       "2  train_a    0 days  1522376.9   143704.6   149496.7           NaN   \n",
       "\n",
       "   gse_y_dscovr  gse_z_dscovr  dia source  gse_x_satellite  gse_y_satellite  \\\n",
       "0           NaN           NaN    0     ac              NaN              NaN   \n",
       "1           NaN           NaN    0     ac              NaN              NaN   \n",
       "2           NaN           NaN    0     ac              NaN              NaN   \n",
       "\n",
       "   gse_z_satellite  \n",
       "0              NaN  \n",
       "1              NaN  \n",
       "2              NaN  "
      ]
     },
     "execution_count": 6,
     "metadata": {},
     "output_type": "execute_result"
    }
   ],
   "source": [
    "df_satellite_pos[\"gse_x_satellite\"] = np.nan\n",
    "df_satellite_pos[\"gse_y_satellite\"] = np.nan\n",
    "df_satellite_pos[\"gse_z_satellite\"] = np.nan\n",
    "df_satellite_pos.head(3)"
   ]
  },
  {
   "cell_type": "code",
   "execution_count": 7,
   "metadata": {},
   "outputs": [
    {
     "data": {
      "text/plain": [
       "period             0\n",
       "timedelta          0\n",
       "dia                0\n",
       "source             0\n",
       "gse_x_satellite    0\n",
       "gse_y_satellite    0\n",
       "gse_z_satellite    0\n",
       "dtype: int64"
      ]
     },
     "execution_count": 7,
     "metadata": {},
     "output_type": "execute_result"
    }
   ],
   "source": [
    "df_satellite_pos[\"gse_x_satellite\"] = np.where(df_satellite_pos[\"gse_x_satellite\"].isnull() & (df_satellite_pos[\"source\"]  == \"ac\"),\n",
    "                                               df_satellite_pos[\"gse_x_ace\"],\n",
    "                                               df_satellite_pos[\"gse_x_dscovr\"]\n",
    "                                               )\n",
    "df_satellite_pos[\"gse_y_satellite\"] = np.where(df_satellite_pos[\"gse_y_satellite\"].isnull() & (df_satellite_pos[\"source\"]  == \"ac\"),\n",
    "                                               df_satellite_pos[\"gse_y_ace\"],\n",
    "                                               df_satellite_pos[\"gse_y_dscovr\"]\n",
    "                                               )\n",
    "df_satellite_pos[\"gse_z_satellite\"] = np.where(df_satellite_pos[\"gse_z_satellite\"].isnull() & (df_satellite_pos[\"source\"]  == \"ac\"),\n",
    "                                               df_satellite_pos[\"gse_z_ace\"],\n",
    "                                               df_satellite_pos[\"gse_z_dscovr\"]\n",
    "                                               )\n",
    "\n",
    "df_satellite_pos = df_satellite_pos[['period', \n",
    "                                     'timedelta', \n",
    "                                     'dia', \n",
    "                                     'source',\n",
    "                                     'gse_x_satellite', \n",
    "                                     'gse_y_satellite', \n",
    "                                     'gse_z_satellite']]\n",
    "\n",
    "df_satellite_pos[\"gse_x_satellite\"] = df_satellite_pos[\"gse_x_satellite\"].interpolate(method='linear', limit_direction='both')\n",
    "df_satellite_pos[\"gse_y_satellite\"] = df_satellite_pos[\"gse_y_satellite\"].interpolate(method='linear', limit_direction='both')\n",
    "df_satellite_pos[\"gse_z_satellite\"] = df_satellite_pos[\"gse_z_satellite\"].interpolate(method='linear', limit_direction='both')\n",
    "\n",
    "df_satellite_pos[\"gse_x_satellite\"] = df_satellite_pos[\"gse_x_satellite\"].apply(pd.to_numeric, downcast =\"float\")\n",
    "df_satellite_pos[\"gse_y_satellite\"] = df_satellite_pos[\"gse_y_satellite\"].apply(pd.to_numeric, downcast =\"float\")\n",
    "df_satellite_pos[\"gse_z_satellite\"] = df_satellite_pos[\"gse_z_satellite\"].apply(pd.to_numeric, downcast =\"float\")\n",
    "\n",
    "df_satellite_pos.isna().sum()"
   ]
  },
  {
   "cell_type": "markdown",
   "metadata": {},
   "source": [
    "##### Consolidando df_solar_wind e df_satellite_pos"
   ]
  },
  {
   "cell_type": "code",
   "execution_count": 8,
   "metadata": {},
   "outputs": [
    {
     "data": {
      "text/plain": [
       "(8392320, 11)"
      ]
     },
     "execution_count": 8,
     "metadata": {},
     "output_type": "execute_result"
    }
   ],
   "source": [
    "df_solar_wind.shape"
   ]
  },
  {
   "cell_type": "code",
   "execution_count": 9,
   "metadata": {},
   "outputs": [
    {
     "data": {
      "text/html": [
       "<div>\n",
       "<style scoped>\n",
       "    .dataframe tbody tr th:only-of-type {\n",
       "        vertical-align: middle;\n",
       "    }\n",
       "\n",
       "    .dataframe tbody tr th {\n",
       "        vertical-align: top;\n",
       "    }\n",
       "\n",
       "    .dataframe thead th {\n",
       "        text-align: right;\n",
       "    }\n",
       "</style>\n",
       "<table border=\"1\" class=\"dataframe\">\n",
       "  <thead>\n",
       "    <tr style=\"text-align: right;\">\n",
       "      <th></th>\n",
       "      <th>period</th>\n",
       "      <th>timedelta</th>\n",
       "      <th>bx_gse</th>\n",
       "      <th>by_gse</th>\n",
       "      <th>bz_gse</th>\n",
       "      <th>bt</th>\n",
       "      <th>density</th>\n",
       "      <th>speed</th>\n",
       "      <th>temperature</th>\n",
       "      <th>source</th>\n",
       "      <th>dia</th>\n",
       "      <th>gse_x_satellite</th>\n",
       "      <th>gse_y_satellite</th>\n",
       "      <th>gse_z_satellite</th>\n",
       "    </tr>\n",
       "  </thead>\n",
       "  <tbody>\n",
       "    <tr>\n",
       "      <th>0</th>\n",
       "      <td>train_a</td>\n",
       "      <td>0 days 00:00:00</td>\n",
       "      <td>-5.55</td>\n",
       "      <td>3.00</td>\n",
       "      <td>1.25</td>\n",
       "      <td>6.80</td>\n",
       "      <td>1.53</td>\n",
       "      <td>383.920013</td>\n",
       "      <td>110237.0</td>\n",
       "      <td>ac</td>\n",
       "      <td>0</td>\n",
       "      <td>1522376.9</td>\n",
       "      <td>143704.6</td>\n",
       "      <td>149496.7</td>\n",
       "    </tr>\n",
       "    <tr>\n",
       "      <th>1</th>\n",
       "      <td>train_a</td>\n",
       "      <td>0 days 00:01:00</td>\n",
       "      <td>-5.58</td>\n",
       "      <td>3.16</td>\n",
       "      <td>1.17</td>\n",
       "      <td>6.83</td>\n",
       "      <td>1.69</td>\n",
       "      <td>381.790009</td>\n",
       "      <td>123825.0</td>\n",
       "      <td>ac</td>\n",
       "      <td>0</td>\n",
       "      <td>1522376.9</td>\n",
       "      <td>143704.6</td>\n",
       "      <td>149496.7</td>\n",
       "    </tr>\n",
       "    <tr>\n",
       "      <th>2</th>\n",
       "      <td>train_a</td>\n",
       "      <td>0 days 00:02:00</td>\n",
       "      <td>-5.15</td>\n",
       "      <td>3.66</td>\n",
       "      <td>0.85</td>\n",
       "      <td>6.77</td>\n",
       "      <td>1.97</td>\n",
       "      <td>389.109985</td>\n",
       "      <td>82548.0</td>\n",
       "      <td>ac</td>\n",
       "      <td>0</td>\n",
       "      <td>1522376.9</td>\n",
       "      <td>143704.6</td>\n",
       "      <td>149496.7</td>\n",
       "    </tr>\n",
       "  </tbody>\n",
       "</table>\n",
       "</div>"
      ],
      "text/plain": [
       "    period       timedelta  bx_gse  by_gse  bz_gse    bt  density       speed  \\\n",
       "0  train_a 0 days 00:00:00   -5.55    3.00    1.25  6.80     1.53  383.920013   \n",
       "1  train_a 0 days 00:01:00   -5.58    3.16    1.17  6.83     1.69  381.790009   \n",
       "2  train_a 0 days 00:02:00   -5.15    3.66    0.85  6.77     1.97  389.109985   \n",
       "\n",
       "   temperature source  dia  gse_x_satellite  gse_y_satellite  gse_z_satellite  \n",
       "0     110237.0     ac    0        1522376.9         143704.6         149496.7  \n",
       "1     123825.0     ac    0        1522376.9         143704.6         149496.7  \n",
       "2      82548.0     ac    0        1522376.9         143704.6         149496.7  "
      ]
     },
     "execution_count": 9,
     "metadata": {},
     "output_type": "execute_result"
    }
   ],
   "source": [
    "df_solar_wind[\"gse_x_satellite\"] = np.nan\n",
    "df_solar_wind[\"gse_y_satellite\"] = np.nan\n",
    "df_solar_wind[\"gse_z_satellite\"] = np.nan\n",
    "\n",
    "df_solar_wind[\"gse_x_satellite\"] = np.where(df_solar_wind[\"gse_x_satellite\"].isna() \n",
    "                         & (df_solar_wind[\"source\"]  == df_satellite_pos[\"source\"])\n",
    "                         & (df_solar_wind[\"period\"]  == df_satellite_pos[\"period\"])\n",
    "                         & (df_solar_wind[\"dia\"]  == df_satellite_pos[\"dia\"]),\n",
    "                          df_satellite_pos[\"gse_x_satellite\"],\n",
    "                          np.nan\n",
    "                          )\n",
    "\n",
    "df_solar_wind[\"gse_y_satellite\"] = np.where(df_solar_wind[\"gse_y_satellite\"].isna() \n",
    "                         & (df_solar_wind[\"source\"]  == df_satellite_pos[\"source\"])\n",
    "                         & (df_solar_wind[\"period\"]  == df_satellite_pos[\"period\"])\n",
    "                         & (df_solar_wind[\"dia\"]  == df_satellite_pos[\"dia\"]),\n",
    "                          df_satellite_pos[\"gse_y_satellite\"],\n",
    "                          np.nan\n",
    "                          )\n",
    "\n",
    "df_solar_wind[\"gse_z_satellite\"] = np.where(df_solar_wind[\"gse_z_satellite\"].isna() \n",
    "                         & (df_solar_wind[\"source\"]  == df_satellite_pos[\"source\"])\n",
    "                         & (df_solar_wind[\"period\"]  == df_satellite_pos[\"period\"])\n",
    "                         & (df_solar_wind[\"dia\"]  == df_satellite_pos[\"dia\"]),\n",
    "                          df_satellite_pos[\"gse_z_satellite\"],\n",
    "                          np.nan\n",
    "                          )\n",
    "\n",
    "df_solar_wind.head(3)"
   ]
  },
  {
   "cell_type": "markdown",
   "metadata": {},
   "source": [
    "##### Preparando df_solar_wind e df_sunspots"
   ]
  },
  {
   "cell_type": "code",
   "execution_count": 10,
   "metadata": {},
   "outputs": [],
   "source": [
    "df_sunspots[\"dia\"] = df_sunspots[\"timedelta\"].dt.days"
   ]
  },
  {
   "cell_type": "code",
   "execution_count": 11,
   "metadata": {},
   "outputs": [
    {
     "data": {
      "text/html": [
       "<div>\n",
       "<style scoped>\n",
       "    .dataframe tbody tr th:only-of-type {\n",
       "        vertical-align: middle;\n",
       "    }\n",
       "\n",
       "    .dataframe tbody tr th {\n",
       "        vertical-align: top;\n",
       "    }\n",
       "\n",
       "    .dataframe thead th {\n",
       "        text-align: right;\n",
       "    }\n",
       "</style>\n",
       "<table border=\"1\" class=\"dataframe\">\n",
       "  <thead>\n",
       "    <tr style=\"text-align: right;\">\n",
       "      <th></th>\n",
       "      <th>period</th>\n",
       "      <th>timedelta</th>\n",
       "      <th>smoothed_ssn</th>\n",
       "      <th>dia</th>\n",
       "    </tr>\n",
       "  </thead>\n",
       "  <tbody>\n",
       "    <tr>\n",
       "      <th>0</th>\n",
       "      <td>train_a</td>\n",
       "      <td>0 days</td>\n",
       "      <td>65.400002</td>\n",
       "      <td>0</td>\n",
       "    </tr>\n",
       "    <tr>\n",
       "      <th>1</th>\n",
       "      <td>train_a</td>\n",
       "      <td>13 days</td>\n",
       "      <td>72.000000</td>\n",
       "      <td>13</td>\n",
       "    </tr>\n",
       "    <tr>\n",
       "      <th>2</th>\n",
       "      <td>train_a</td>\n",
       "      <td>44 days</td>\n",
       "      <td>76.900002</td>\n",
       "      <td>44</td>\n",
       "    </tr>\n",
       "    <tr>\n",
       "      <th>3</th>\n",
       "      <td>train_a</td>\n",
       "      <td>74 days</td>\n",
       "      <td>80.800003</td>\n",
       "      <td>74</td>\n",
       "    </tr>\n",
       "    <tr>\n",
       "      <th>4</th>\n",
       "      <td>train_a</td>\n",
       "      <td>105 days</td>\n",
       "      <td>85.400002</td>\n",
       "      <td>105</td>\n",
       "    </tr>\n",
       "    <tr>\n",
       "      <th>...</th>\n",
       "      <td>...</td>\n",
       "      <td>...</td>\n",
       "      <td>...</td>\n",
       "      <td>...</td>\n",
       "    </tr>\n",
       "    <tr>\n",
       "      <th>187</th>\n",
       "      <td>train_c</td>\n",
       "      <td>2283 days</td>\n",
       "      <td>26.400000</td>\n",
       "      <td>2283</td>\n",
       "    </tr>\n",
       "    <tr>\n",
       "      <th>188</th>\n",
       "      <td>train_c</td>\n",
       "      <td>2314 days</td>\n",
       "      <td>29.500000</td>\n",
       "      <td>2314</td>\n",
       "    </tr>\n",
       "    <tr>\n",
       "      <th>189</th>\n",
       "      <td>train_c</td>\n",
       "      <td>2344 days</td>\n",
       "      <td>34.500000</td>\n",
       "      <td>2344</td>\n",
       "    </tr>\n",
       "    <tr>\n",
       "      <th>190</th>\n",
       "      <td>train_c</td>\n",
       "      <td>2375 days</td>\n",
       "      <td>39.099998</td>\n",
       "      <td>2375</td>\n",
       "    </tr>\n",
       "    <tr>\n",
       "      <th>191</th>\n",
       "      <td>train_c</td>\n",
       "      <td>2405 days</td>\n",
       "      <td>42.500000</td>\n",
       "      <td>2405</td>\n",
       "    </tr>\n",
       "  </tbody>\n",
       "</table>\n",
       "<p>192 rows × 4 columns</p>\n",
       "</div>"
      ],
      "text/plain": [
       "      period timedelta  smoothed_ssn   dia\n",
       "0    train_a    0 days     65.400002     0\n",
       "1    train_a   13 days     72.000000    13\n",
       "2    train_a   44 days     76.900002    44\n",
       "3    train_a   74 days     80.800003    74\n",
       "4    train_a  105 days     85.400002   105\n",
       "..       ...       ...           ...   ...\n",
       "187  train_c 2283 days     26.400000  2283\n",
       "188  train_c 2314 days     29.500000  2314\n",
       "189  train_c 2344 days     34.500000  2344\n",
       "190  train_c 2375 days     39.099998  2375\n",
       "191  train_c 2405 days     42.500000  2405\n",
       "\n",
       "[192 rows x 4 columns]"
      ]
     },
     "execution_count": 11,
     "metadata": {},
     "output_type": "execute_result"
    }
   ],
   "source": [
    "df_sunspots"
   ]
  },
  {
   "cell_type": "markdown",
   "metadata": {},
   "source": [
    "##### Consolidando df_solar_wind e df_sunspots"
   ]
  },
  {
   "cell_type": "code",
   "execution_count": 15,
   "metadata": {},
   "outputs": [
    {
     "ename": "ValueError",
     "evalue": "Can only compare identically-labeled Series objects",
     "output_type": "error",
     "traceback": [
      "\u001b[1;31m---------------------------------------------------------------------------\u001b[0m",
      "\u001b[1;31mValueError\u001b[0m                                Traceback (most recent call last)",
      "Cell \u001b[1;32mIn[15], line 4\u001b[0m\n\u001b[0;32m      1\u001b[0m df_solar_wind[\u001b[38;5;124m\"\u001b[39m\u001b[38;5;124msmoothed_ssn\u001b[39m\u001b[38;5;124m\"\u001b[39m] \u001b[38;5;241m=\u001b[39m np\u001b[38;5;241m.\u001b[39mnan\n\u001b[0;32m      3\u001b[0m df_solar_wind[\u001b[38;5;124m\"\u001b[39m\u001b[38;5;124msmoothed_ssn\u001b[39m\u001b[38;5;124m\"\u001b[39m] \u001b[38;5;241m=\u001b[39m np\u001b[38;5;241m.\u001b[39mwhere(df_solar_wind[\u001b[38;5;124m\"\u001b[39m\u001b[38;5;124msmoothed_ssn\u001b[39m\u001b[38;5;124m\"\u001b[39m]\u001b[38;5;241m.\u001b[39misna()\n\u001b[1;32m----> 4\u001b[0m                          \u001b[38;5;241m&\u001b[39m (\u001b[43mdf_solar_wind\u001b[49m\u001b[43m[\u001b[49m\u001b[38;5;124;43m\"\u001b[39;49m\u001b[38;5;124;43mperiod\u001b[39;49m\u001b[38;5;124;43m\"\u001b[39;49m\u001b[43m]\u001b[49m\u001b[43m  \u001b[49m\u001b[38;5;241;43m==\u001b[39;49m\u001b[43m \u001b[49m\u001b[43mdf_sunspots\u001b[49m\u001b[43m[\u001b[49m\u001b[38;5;124;43m\"\u001b[39;49m\u001b[38;5;124;43mperiod\u001b[39;49m\u001b[38;5;124;43m\"\u001b[39;49m\u001b[43m]\u001b[49m)\n\u001b[0;32m      5\u001b[0m                          \u001b[38;5;241m&\u001b[39m (df_solar_wind[\u001b[38;5;124m\"\u001b[39m\u001b[38;5;124mdia\u001b[39m\u001b[38;5;124m\"\u001b[39m]  \u001b[38;5;241m==\u001b[39m df_sunspots[\u001b[38;5;124m\"\u001b[39m\u001b[38;5;124mdia\u001b[39m\u001b[38;5;124m\"\u001b[39m]),\n\u001b[0;32m      6\u001b[0m                           df_sunspots[\u001b[38;5;124m\"\u001b[39m\u001b[38;5;124msmoothed_ssn\u001b[39m\u001b[38;5;124m\"\u001b[39m],\n\u001b[0;32m      7\u001b[0m                           np\u001b[38;5;241m.\u001b[39mnan\n\u001b[0;32m      8\u001b[0m                           )\n\u001b[0;32m     10\u001b[0m df_solar_wind\u001b[38;5;241m.\u001b[39mhead(\u001b[38;5;241m3\u001b[39m)\n",
      "File \u001b[1;32mc:\\Users\\victo\\OneDrive\\Documentos\\github\\vii_desafio_em_ciencia_de_dados\\venv\\Lib\\site-packages\\pandas\\core\\ops\\common.py:76\u001b[0m, in \u001b[0;36m_unpack_zerodim_and_defer.<locals>.new_method\u001b[1;34m(self, other)\u001b[0m\n\u001b[0;32m     72\u001b[0m             \u001b[38;5;28;01mreturn\u001b[39;00m \u001b[38;5;28mNotImplemented\u001b[39m\n\u001b[0;32m     74\u001b[0m other \u001b[38;5;241m=\u001b[39m item_from_zerodim(other)\n\u001b[1;32m---> 76\u001b[0m \u001b[38;5;28;01mreturn\u001b[39;00m \u001b[43mmethod\u001b[49m\u001b[43m(\u001b[49m\u001b[38;5;28;43mself\u001b[39;49m\u001b[43m,\u001b[49m\u001b[43m \u001b[49m\u001b[43mother\u001b[49m\u001b[43m)\u001b[49m\n",
      "File \u001b[1;32mc:\\Users\\victo\\OneDrive\\Documentos\\github\\vii_desafio_em_ciencia_de_dados\\venv\\Lib\\site-packages\\pandas\\core\\arraylike.py:40\u001b[0m, in \u001b[0;36mOpsMixin.__eq__\u001b[1;34m(self, other)\u001b[0m\n\u001b[0;32m     38\u001b[0m \u001b[38;5;129m@unpack_zerodim_and_defer\u001b[39m(\u001b[38;5;124m\"\u001b[39m\u001b[38;5;124m__eq__\u001b[39m\u001b[38;5;124m\"\u001b[39m)\n\u001b[0;32m     39\u001b[0m \u001b[38;5;28;01mdef\u001b[39;00m \u001b[38;5;21m__eq__\u001b[39m(\u001b[38;5;28mself\u001b[39m, other):\n\u001b[1;32m---> 40\u001b[0m     \u001b[38;5;28;01mreturn\u001b[39;00m \u001b[38;5;28;43mself\u001b[39;49m\u001b[38;5;241;43m.\u001b[39;49m\u001b[43m_cmp_method\u001b[49m\u001b[43m(\u001b[49m\u001b[43mother\u001b[49m\u001b[43m,\u001b[49m\u001b[43m \u001b[49m\u001b[43moperator\u001b[49m\u001b[38;5;241;43m.\u001b[39;49m\u001b[43meq\u001b[49m\u001b[43m)\u001b[49m\n",
      "File \u001b[1;32mc:\\Users\\victo\\OneDrive\\Documentos\\github\\vii_desafio_em_ciencia_de_dados\\venv\\Lib\\site-packages\\pandas\\core\\series.py:6114\u001b[0m, in \u001b[0;36mSeries._cmp_method\u001b[1;34m(self, other, op)\u001b[0m\n\u001b[0;32m   6111\u001b[0m res_name \u001b[38;5;241m=\u001b[39m ops\u001b[38;5;241m.\u001b[39mget_op_result_name(\u001b[38;5;28mself\u001b[39m, other)\n\u001b[0;32m   6113\u001b[0m \u001b[38;5;28;01mif\u001b[39;00m \u001b[38;5;28misinstance\u001b[39m(other, Series) \u001b[38;5;129;01mand\u001b[39;00m \u001b[38;5;129;01mnot\u001b[39;00m \u001b[38;5;28mself\u001b[39m\u001b[38;5;241m.\u001b[39m_indexed_same(other):\n\u001b[1;32m-> 6114\u001b[0m     \u001b[38;5;28;01mraise\u001b[39;00m \u001b[38;5;167;01mValueError\u001b[39;00m(\u001b[38;5;124m\"\u001b[39m\u001b[38;5;124mCan only compare identically-labeled Series objects\u001b[39m\u001b[38;5;124m\"\u001b[39m)\n\u001b[0;32m   6116\u001b[0m lvalues \u001b[38;5;241m=\u001b[39m \u001b[38;5;28mself\u001b[39m\u001b[38;5;241m.\u001b[39m_values\n\u001b[0;32m   6117\u001b[0m rvalues \u001b[38;5;241m=\u001b[39m extract_array(other, extract_numpy\u001b[38;5;241m=\u001b[39m\u001b[38;5;28;01mTrue\u001b[39;00m, extract_range\u001b[38;5;241m=\u001b[39m\u001b[38;5;28;01mTrue\u001b[39;00m)\n",
      "\u001b[1;31mValueError\u001b[0m: Can only compare identically-labeled Series objects"
     ]
    }
   ],
   "source": [
    "df_solar_wind[\"smoothed_ssn\"] = np.nan\n",
    "\n",
    "df_solar_wind[\"smoothed_ssn\"] = np.where(df_solar_wind[\"smoothed_ssn\"].isna()\n",
    "                         & (df_solar_wind[\"period\"]  == df_sunspots[\"period\"])\n",
    "                         & (df_solar_wind[\"dia\"]  == df_sunspots[\"dia\"]),\n",
    "                          df_sunspots[\"smoothed_ssn\"],\n",
    "                          np.nan\n",
    "                          )\n",
    "\n",
    "df_solar_wind.head(3)"
   ]
  },
  {
   "cell_type": "markdown",
   "metadata": {},
   "source": [
    "##### Preparando df_solar_wind e df_labels"
   ]
  },
  {
   "cell_type": "code",
   "execution_count": null,
   "metadata": {},
   "outputs": [],
   "source": []
  },
  {
   "cell_type": "markdown",
   "metadata": {},
   "source": [
    "##### Consolidando df_solar_wind e df_labels"
   ]
  },
  {
   "cell_type": "code",
   "execution_count": null,
   "metadata": {},
   "outputs": [],
   "source": []
  }
 ],
 "metadata": {
  "kernelspec": {
   "display_name": "venv",
   "language": "python",
   "name": "python3"
  },
  "language_info": {
   "codemirror_mode": {
    "name": "ipython",
    "version": 3
   },
   "file_extension": ".py",
   "mimetype": "text/x-python",
   "name": "python",
   "nbconvert_exporter": "python",
   "pygments_lexer": "ipython3",
   "version": "3.12.7"
  }
 },
 "nbformat": 4,
 "nbformat_minor": 2
}
