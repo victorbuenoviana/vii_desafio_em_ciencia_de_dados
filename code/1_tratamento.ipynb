{
 "cells": [
  {
   "cell_type": "markdown",
   "metadata": {},
   "source": [
    "#### Importando bibliotecas"
   ]
  },
  {
   "cell_type": "code",
   "execution_count": 1,
   "metadata": {},
   "outputs": [],
   "source": [
    "# desabilita os warnings\n",
    "import warnings\n",
    "warnings.filterwarnings('ignore')"
   ]
  },
  {
   "cell_type": "code",
   "execution_count": 2,
   "metadata": {},
   "outputs": [],
   "source": [
    "import pandas as pd\n",
    "import numpy as np\n",
    "\n",
    "import plotly.express as px\n",
    "import matplotlib.pyplot as plt\n",
    "\n",
    "\n",
    "# from datetime import datetime as dt"
   ]
  },
  {
   "cell_type": "markdown",
   "metadata": {},
   "source": [
    "#### Tratando dados de solar_wind"
   ]
  },
  {
   "cell_type": "markdown",
   "metadata": {},
   "source": [
    "##### Impotando o conjunto de dados "
   ]
  },
  {
   "cell_type": "code",
   "execution_count": 3,
   "metadata": {},
   "outputs": [
    {
     "data": {
      "text/html": [
       "<div>\n",
       "<style scoped>\n",
       "    .dataframe tbody tr th:only-of-type {\n",
       "        vertical-align: middle;\n",
       "    }\n",
       "\n",
       "    .dataframe tbody tr th {\n",
       "        vertical-align: top;\n",
       "    }\n",
       "\n",
       "    .dataframe thead th {\n",
       "        text-align: right;\n",
       "    }\n",
       "</style>\n",
       "<table border=\"1\" class=\"dataframe\">\n",
       "  <thead>\n",
       "    <tr style=\"text-align: right;\">\n",
       "      <th></th>\n",
       "      <th>period</th>\n",
       "      <th>timedelta</th>\n",
       "      <th>bx_gse</th>\n",
       "      <th>by_gse</th>\n",
       "      <th>bz_gse</th>\n",
       "      <th>theta_gse</th>\n",
       "      <th>phi_gse</th>\n",
       "      <th>bx_gsm</th>\n",
       "      <th>by_gsm</th>\n",
       "      <th>bz_gsm</th>\n",
       "      <th>theta_gsm</th>\n",
       "      <th>phi_gsm</th>\n",
       "      <th>bt</th>\n",
       "      <th>density</th>\n",
       "      <th>speed</th>\n",
       "      <th>temperature</th>\n",
       "      <th>source</th>\n",
       "    </tr>\n",
       "  </thead>\n",
       "  <tbody>\n",
       "    <tr>\n",
       "      <th>0</th>\n",
       "      <td>train_a</td>\n",
       "      <td>0 days 00:00:00</td>\n",
       "      <td>-5.55</td>\n",
       "      <td>3.00</td>\n",
       "      <td>1.25</td>\n",
       "      <td>11.09</td>\n",
       "      <td>153.37</td>\n",
       "      <td>-5.55</td>\n",
       "      <td>3.00</td>\n",
       "      <td>1.25</td>\n",
       "      <td>11.09</td>\n",
       "      <td>153.37</td>\n",
       "      <td>6.80</td>\n",
       "      <td>1.53</td>\n",
       "      <td>383.92</td>\n",
       "      <td>110237.0</td>\n",
       "      <td>ac</td>\n",
       "    </tr>\n",
       "    <tr>\n",
       "      <th>1</th>\n",
       "      <td>train_a</td>\n",
       "      <td>0 days 00:01:00</td>\n",
       "      <td>-5.58</td>\n",
       "      <td>3.16</td>\n",
       "      <td>1.17</td>\n",
       "      <td>10.10</td>\n",
       "      <td>151.91</td>\n",
       "      <td>-5.58</td>\n",
       "      <td>3.16</td>\n",
       "      <td>1.17</td>\n",
       "      <td>10.10</td>\n",
       "      <td>151.91</td>\n",
       "      <td>6.83</td>\n",
       "      <td>1.69</td>\n",
       "      <td>381.79</td>\n",
       "      <td>123825.0</td>\n",
       "      <td>ac</td>\n",
       "    </tr>\n",
       "    <tr>\n",
       "      <th>2</th>\n",
       "      <td>train_a</td>\n",
       "      <td>0 days 00:02:00</td>\n",
       "      <td>-5.15</td>\n",
       "      <td>3.66</td>\n",
       "      <td>0.85</td>\n",
       "      <td>7.87</td>\n",
       "      <td>146.04</td>\n",
       "      <td>-5.15</td>\n",
       "      <td>3.66</td>\n",
       "      <td>0.85</td>\n",
       "      <td>7.87</td>\n",
       "      <td>146.04</td>\n",
       "      <td>6.77</td>\n",
       "      <td>1.97</td>\n",
       "      <td>389.11</td>\n",
       "      <td>82548.0</td>\n",
       "      <td>ac</td>\n",
       "    </tr>\n",
       "  </tbody>\n",
       "</table>\n",
       "</div>"
      ],
      "text/plain": [
       "    period        timedelta  bx_gse  by_gse  bz_gse  theta_gse  phi_gse  \\\n",
       "0  train_a  0 days 00:00:00   -5.55    3.00    1.25      11.09   153.37   \n",
       "1  train_a  0 days 00:01:00   -5.58    3.16    1.17      10.10   151.91   \n",
       "2  train_a  0 days 00:02:00   -5.15    3.66    0.85       7.87   146.04   \n",
       "\n",
       "   bx_gsm  by_gsm  bz_gsm  theta_gsm  phi_gsm    bt  density   speed  \\\n",
       "0   -5.55    3.00    1.25      11.09   153.37  6.80     1.53  383.92   \n",
       "1   -5.58    3.16    1.17      10.10   151.91  6.83     1.69  381.79   \n",
       "2   -5.15    3.66    0.85       7.87   146.04  6.77     1.97  389.11   \n",
       "\n",
       "   temperature source  \n",
       "0     110237.0     ac  \n",
       "1     123825.0     ac  \n",
       "2      82548.0     ac  "
      ]
     },
     "execution_count": 3,
     "metadata": {},
     "output_type": "execute_result"
    }
   ],
   "source": [
    "df_solar_wind = pd.read_csv(r'..\\data\\solar_wind.csv')\n",
    "df_solar_wind.head(3)"
   ]
  },
  {
   "cell_type": "markdown",
   "metadata": {},
   "source": [
    "##### Tratando tipos de dados"
   ]
  },
  {
   "cell_type": "code",
   "execution_count": 4,
   "metadata": {},
   "outputs": [
    {
     "name": "stdout",
     "output_type": "stream",
     "text": [
      "<class 'pandas.core.frame.DataFrame'>\n",
      "RangeIndex: 8392320 entries, 0 to 8392319\n",
      "Data columns (total 17 columns):\n",
      " #   Column       Dtype  \n",
      "---  ------       -----  \n",
      " 0   period       object \n",
      " 1   timedelta    object \n",
      " 2   bx_gse       float64\n",
      " 3   by_gse       float64\n",
      " 4   bz_gse       float64\n",
      " 5   theta_gse    float64\n",
      " 6   phi_gse      float64\n",
      " 7   bx_gsm       float64\n",
      " 8   by_gsm       float64\n",
      " 9   bz_gsm       float64\n",
      " 10  theta_gsm    float64\n",
      " 11  phi_gsm      float64\n",
      " 12  bt           float64\n",
      " 13  density      float64\n",
      " 14  speed        float64\n",
      " 15  temperature  float64\n",
      " 16  source       object \n",
      "dtypes: float64(14), object(3)\n",
      "memory usage: 1.1+ GB\n"
     ]
    }
   ],
   "source": [
    "df_solar_wind.info()"
   ]
  },
  {
   "cell_type": "code",
   "execution_count": 5,
   "metadata": {},
   "outputs": [
    {
     "name": "stdout",
     "output_type": "stream",
     "text": [
      "<class 'pandas.core.frame.DataFrame'>\n",
      "RangeIndex: 8392320 entries, 0 to 8392319\n",
      "Data columns (total 17 columns):\n",
      " #   Column       Dtype          \n",
      "---  ------       -----          \n",
      " 0   period       category       \n",
      " 1   timedelta    timedelta64[ns]\n",
      " 2   bx_gse       float32        \n",
      " 3   by_gse       float32        \n",
      " 4   bz_gse       float32        \n",
      " 5   theta_gse    float32        \n",
      " 6   phi_gse      float32        \n",
      " 7   bx_gsm       float32        \n",
      " 8   by_gsm       float32        \n",
      " 9   bz_gsm       float32        \n",
      " 10  theta_gsm    float32        \n",
      " 11  phi_gsm      float32        \n",
      " 12  bt           float32        \n",
      " 13  density      float32        \n",
      " 14  speed        float32        \n",
      " 15  temperature  float32        \n",
      " 16  source       category       \n",
      "dtypes: category(2), float32(14), timedelta64[ns](1)\n",
      "memory usage: 528.2 MB\n"
     ]
    }
   ],
   "source": [
    "# Otimizando tipos de dados das colunas numéricas\n",
    "col_num_solar_wind = df_solar_wind.select_dtypes(include='float64').columns\n",
    "df_solar_wind[col_num_solar_wind] = df_solar_wind[col_num_solar_wind].apply(pd.to_numeric, downcast='float')\n",
    "\n",
    "# Corrigindo tipo de dado da coluna timedelta\n",
    "df_solar_wind[\"timedelta\"] = pd.to_timedelta(df_solar_wind[\"timedelta\"])\n",
    "\n",
    "# Corrigindo tipo de dado das colunas categoricas\n",
    "col_cat_solar_wind = df_solar_wind.select_dtypes(include='object').columns\n",
    "df_solar_wind[col_cat_solar_wind] = df_solar_wind[col_cat_solar_wind].astype('category')\n",
    "df_solar_wind.info()"
   ]
  },
  {
   "cell_type": "code",
   "execution_count": 6,
   "metadata": {},
   "outputs": [],
   "source": [
    "# Exportando solar_wind com tipos de dados tratados\n",
    "df_solar_wind.to_parquet(r'..\\data\\df_solar_wind.parquet')"
   ]
  },
  {
   "cell_type": "markdown",
   "metadata": {},
   "source": [
    "##### Tratando Valores fora de escala"
   ]
  },
  {
   "cell_type": "code",
   "execution_count": 7,
   "metadata": {},
   "outputs": [
    {
     "data": {
      "text/html": [
       "<div>\n",
       "<style scoped>\n",
       "    .dataframe tbody tr th:only-of-type {\n",
       "        vertical-align: middle;\n",
       "    }\n",
       "\n",
       "    .dataframe tbody tr th {\n",
       "        vertical-align: top;\n",
       "    }\n",
       "\n",
       "    .dataframe thead th {\n",
       "        text-align: right;\n",
       "    }\n",
       "</style>\n",
       "<table border=\"1\" class=\"dataframe\">\n",
       "  <thead>\n",
       "    <tr style=\"text-align: right;\">\n",
       "      <th></th>\n",
       "      <th>timedelta</th>\n",
       "      <th>bx_gse</th>\n",
       "      <th>by_gse</th>\n",
       "      <th>bz_gse</th>\n",
       "      <th>theta_gse</th>\n",
       "      <th>phi_gse</th>\n",
       "      <th>bx_gsm</th>\n",
       "      <th>by_gsm</th>\n",
       "      <th>bz_gsm</th>\n",
       "      <th>theta_gsm</th>\n",
       "      <th>phi_gsm</th>\n",
       "      <th>bt</th>\n",
       "      <th>density</th>\n",
       "      <th>speed</th>\n",
       "      <th>temperature</th>\n",
       "    </tr>\n",
       "  </thead>\n",
       "  <tbody>\n",
       "    <tr>\n",
       "      <th>count</th>\n",
       "      <td>8392320</td>\n",
       "      <td>8.066432e+06</td>\n",
       "      <td>8.066432e+06</td>\n",
       "      <td>8.066432e+06</td>\n",
       "      <td>8.066432e+06</td>\n",
       "      <td>8.065932e+06</td>\n",
       "      <td>8.066432e+06</td>\n",
       "      <td>8.066432e+06</td>\n",
       "      <td>8.066432e+06</td>\n",
       "      <td>8.066432e+06</td>\n",
       "      <td>8.065932e+06</td>\n",
       "      <td>8.066432e+06</td>\n",
       "      <td>7.707430e+06</td>\n",
       "      <td>7.702765e+06</td>\n",
       "      <td>7.580552e+06</td>\n",
       "    </tr>\n",
       "    <tr>\n",
       "      <th>mean</th>\n",
       "      <td>1044 days 16:41:54.955388112</td>\n",
       "      <td>-6.610162e-01</td>\n",
       "      <td>1.097870e-01</td>\n",
       "      <td>-2.274230e-02</td>\n",
       "      <td>1.545628e-01</td>\n",
       "      <td>1.941759e+02</td>\n",
       "      <td>-6.608664e-01</td>\n",
       "      <td>8.842117e-02</td>\n",
       "      <td>-2.912839e-02</td>\n",
       "      <td>1.967691e-01</td>\n",
       "      <td>1.943713e+02</td>\n",
       "      <td>5.606227e+00</td>\n",
       "      <td>4.421726e+00</td>\n",
       "      <td>4.305854e+02</td>\n",
       "      <td>1.150967e+05</td>\n",
       "    </tr>\n",
       "    <tr>\n",
       "      <th>std</th>\n",
       "      <td>660 days 08:03:01.062266016</td>\n",
       "      <td>3.669730e+00</td>\n",
       "      <td>3.975340e+00</td>\n",
       "      <td>3.351972e+00</td>\n",
       "      <td>3.212916e+01</td>\n",
       "      <td>9.662813e+01</td>\n",
       "      <td>3.667605e+00</td>\n",
       "      <td>3.909885e+00</td>\n",
       "      <td>3.430580e+00</td>\n",
       "      <td>3.327889e+01</td>\n",
       "      <td>9.682818e+01</td>\n",
       "      <td>3.110002e+00</td>\n",
       "      <td>4.331911e+00</td>\n",
       "      <td>1.005777e+02</td>\n",
       "      <td>1.203120e+05</td>\n",
       "    </tr>\n",
       "    <tr>\n",
       "      <th>min</th>\n",
       "      <td>0 days 00:00:00</td>\n",
       "      <td>-5.463000e+01</td>\n",
       "      <td>-5.169000e+01</td>\n",
       "      <td>-5.500000e+01</td>\n",
       "      <td>-8.989000e+01</td>\n",
       "      <td>0.000000e+00</td>\n",
       "      <td>-5.463000e+01</td>\n",
       "      <td>-5.268000e+01</td>\n",
       "      <td>-5.569000e+01</td>\n",
       "      <td>-8.991000e+01</td>\n",
       "      <td>0.000000e+00</td>\n",
       "      <td>3.000000e-02</td>\n",
       "      <td>0.000000e+00</td>\n",
       "      <td>0.000000e+00</td>\n",
       "      <td>0.000000e+00</td>\n",
       "    </tr>\n",
       "    <tr>\n",
       "      <th>25%</th>\n",
       "      <td>485 days 15:59:45</td>\n",
       "      <td>-3.270000e+00</td>\n",
       "      <td>-2.460000e+00</td>\n",
       "      <td>-1.700000e+00</td>\n",
       "      <td>-2.145000e+01</td>\n",
       "      <td>1.240700e+02</td>\n",
       "      <td>-3.270000e+00</td>\n",
       "      <td>-2.380000e+00</td>\n",
       "      <td>-1.800000e+00</td>\n",
       "      <td>-2.279000e+01</td>\n",
       "      <td>1.246900e+02</td>\n",
       "      <td>3.640000e+00</td>\n",
       "      <td>1.790000e+00</td>\n",
       "      <td>3.568000e+02</td>\n",
       "      <td>3.978700e+04</td>\n",
       "    </tr>\n",
       "    <tr>\n",
       "      <th>50%</th>\n",
       "      <td>971 days 07:59:30</td>\n",
       "      <td>-6.700000e-01</td>\n",
       "      <td>1.100000e-01</td>\n",
       "      <td>1.000000e-02</td>\n",
       "      <td>1.400000e-01</td>\n",
       "      <td>1.768600e+02</td>\n",
       "      <td>-6.700000e-01</td>\n",
       "      <td>8.000000e-02</td>\n",
       "      <td>0.000000e+00</td>\n",
       "      <td>6.000000e-02</td>\n",
       "      <td>1.776600e+02</td>\n",
       "      <td>4.950000e+00</td>\n",
       "      <td>3.340000e+00</td>\n",
       "      <td>4.097000e+02</td>\n",
       "      <td>7.737100e+04</td>\n",
       "    </tr>\n",
       "    <tr>\n",
       "      <th>75%</th>\n",
       "      <td>1584 days 23:59:15</td>\n",
       "      <td>2.020000e+00</td>\n",
       "      <td>2.640000e+00</td>\n",
       "      <td>1.690000e+00</td>\n",
       "      <td>2.168000e+01</td>\n",
       "      <td>2.864200e+02</td>\n",
       "      <td>2.020000e+00</td>\n",
       "      <td>2.540000e+00</td>\n",
       "      <td>1.790000e+00</td>\n",
       "      <td>2.313000e+01</td>\n",
       "      <td>2.865600e+02</td>\n",
       "      <td>6.720000e+00</td>\n",
       "      <td>5.710000e+00</td>\n",
       "      <td>4.856600e+02</td>\n",
       "      <td>1.512200e+05</td>\n",
       "    </tr>\n",
       "    <tr>\n",
       "      <th>max</th>\n",
       "      <td>2435 days 23:59:00</td>\n",
       "      <td>5.555000e+01</td>\n",
       "      <td>5.760000e+01</td>\n",
       "      <td>7.403000e+01</td>\n",
       "      <td>8.994000e+01</td>\n",
       "      <td>3.600000e+02</td>\n",
       "      <td>5.554000e+01</td>\n",
       "      <td>5.388000e+01</td>\n",
       "      <td>7.245000e+01</td>\n",
       "      <td>8.996000e+01</td>\n",
       "      <td>3.600000e+02</td>\n",
       "      <td>8.053000e+01</td>\n",
       "      <td>1.997000e+02</td>\n",
       "      <td>1.198490e+03</td>\n",
       "      <td>6.223700e+06</td>\n",
       "    </tr>\n",
       "  </tbody>\n",
       "</table>\n",
       "</div>"
      ],
      "text/plain": [
       "                          timedelta        bx_gse        by_gse        bz_gse  \\\n",
       "count                       8392320  8.066432e+06  8.066432e+06  8.066432e+06   \n",
       "mean   1044 days 16:41:54.955388112 -6.610162e-01  1.097870e-01 -2.274230e-02   \n",
       "std     660 days 08:03:01.062266016  3.669730e+00  3.975340e+00  3.351972e+00   \n",
       "min                 0 days 00:00:00 -5.463000e+01 -5.169000e+01 -5.500000e+01   \n",
       "25%               485 days 15:59:45 -3.270000e+00 -2.460000e+00 -1.700000e+00   \n",
       "50%               971 days 07:59:30 -6.700000e-01  1.100000e-01  1.000000e-02   \n",
       "75%              1584 days 23:59:15  2.020000e+00  2.640000e+00  1.690000e+00   \n",
       "max              2435 days 23:59:00  5.555000e+01  5.760000e+01  7.403000e+01   \n",
       "\n",
       "          theta_gse       phi_gse        bx_gsm        by_gsm        bz_gsm  \\\n",
       "count  8.066432e+06  8.065932e+06  8.066432e+06  8.066432e+06  8.066432e+06   \n",
       "mean   1.545628e-01  1.941759e+02 -6.608664e-01  8.842117e-02 -2.912839e-02   \n",
       "std    3.212916e+01  9.662813e+01  3.667605e+00  3.909885e+00  3.430580e+00   \n",
       "min   -8.989000e+01  0.000000e+00 -5.463000e+01 -5.268000e+01 -5.569000e+01   \n",
       "25%   -2.145000e+01  1.240700e+02 -3.270000e+00 -2.380000e+00 -1.800000e+00   \n",
       "50%    1.400000e-01  1.768600e+02 -6.700000e-01  8.000000e-02  0.000000e+00   \n",
       "75%    2.168000e+01  2.864200e+02  2.020000e+00  2.540000e+00  1.790000e+00   \n",
       "max    8.994000e+01  3.600000e+02  5.554000e+01  5.388000e+01  7.245000e+01   \n",
       "\n",
       "          theta_gsm       phi_gsm            bt       density         speed  \\\n",
       "count  8.066432e+06  8.065932e+06  8.066432e+06  7.707430e+06  7.702765e+06   \n",
       "mean   1.967691e-01  1.943713e+02  5.606227e+00  4.421726e+00  4.305854e+02   \n",
       "std    3.327889e+01  9.682818e+01  3.110002e+00  4.331911e+00  1.005777e+02   \n",
       "min   -8.991000e+01  0.000000e+00  3.000000e-02  0.000000e+00  0.000000e+00   \n",
       "25%   -2.279000e+01  1.246900e+02  3.640000e+00  1.790000e+00  3.568000e+02   \n",
       "50%    6.000000e-02  1.776600e+02  4.950000e+00  3.340000e+00  4.097000e+02   \n",
       "75%    2.313000e+01  2.865600e+02  6.720000e+00  5.710000e+00  4.856600e+02   \n",
       "max    8.996000e+01  3.600000e+02  8.053000e+01  1.997000e+02  1.198490e+03   \n",
       "\n",
       "        temperature  \n",
       "count  7.580552e+06  \n",
       "mean   1.150967e+05  \n",
       "std    1.203120e+05  \n",
       "min    0.000000e+00  \n",
       "25%    3.978700e+04  \n",
       "50%    7.737100e+04  \n",
       "75%    1.512200e+05  \n",
       "max    6.223700e+06  "
      ]
     },
     "execution_count": 7,
     "metadata": {},
     "output_type": "execute_result"
    }
   ],
   "source": [
    "# bx_gse: -200 a +200 nT ok\n",
    "# by_gse: -200 a +200 nT ok\n",
    "# bz_gse: -200 a +200 nT ok\n",
    "# theta_gse: -90° a 90° ok\n",
    "# phi_gse: 0° a 360° ok\n",
    "# bx_gsm: -200 a +200 nT ok\n",
    "# by_gsm: -200 a +200 nT ok\n",
    "# bz_gsm: -200 a +200 nT ok\n",
    "# theta_gsm: -90° a 90° ok\n",
    "# phi_gsm: 0° a 360° ok\n",
    "# bt: 0 a 200 nT ok\n",
    "# density: 0 a 200 N/cm³ ok \n",
    "# speed: 200 a 2.000 km/s speed=0?\n",
    "# temperature: 10.000 K a 10.000.000 K temperature=0?\n",
    "df_solar_wind.describe()"
   ]
  },
  {
   "cell_type": "code",
   "execution_count": 8,
   "metadata": {},
   "outputs": [],
   "source": [
    "# Removendo valores fora discrepantes\n",
    "df_solar_wind[\"speed\"].loc[(df_solar_wind[\"speed\"] < 200) | (df_solar_wind[\"speed\"] > 2000)] = np.nan\n",
    "df_solar_wind[\"temperature\"].loc[(df_solar_wind[\"temperature\"] < 10_000) | (df_solar_wind[\"temperature\"] > 10_000_000)] = np.nan"
   ]
  },
  {
   "cell_type": "code",
   "execution_count": 9,
   "metadata": {},
   "outputs": [
    {
     "data": {
      "text/plain": [
       "['ac', NaN, 'ds']\n",
       "Categories (2, object): ['ac', 'ds']"
      ]
     },
     "execution_count": 9,
     "metadata": {},
     "output_type": "execute_result"
    }
   ],
   "source": [
    "df_solar_wind[\"source\"].unique()"
   ]
  },
  {
   "cell_type": "markdown",
   "metadata": {},
   "source": [
    "#### Tratando dados de satellite_pos"
   ]
  },
  {
   "cell_type": "markdown",
   "metadata": {},
   "source": [
    "##### Impotando o conjunto de dados "
   ]
  },
  {
   "cell_type": "code",
   "execution_count": 10,
   "metadata": {},
   "outputs": [
    {
     "data": {
      "text/html": [
       "<div>\n",
       "<style scoped>\n",
       "    .dataframe tbody tr th:only-of-type {\n",
       "        vertical-align: middle;\n",
       "    }\n",
       "\n",
       "    .dataframe tbody tr th {\n",
       "        vertical-align: top;\n",
       "    }\n",
       "\n",
       "    .dataframe thead th {\n",
       "        text-align: right;\n",
       "    }\n",
       "</style>\n",
       "<table border=\"1\" class=\"dataframe\">\n",
       "  <thead>\n",
       "    <tr style=\"text-align: right;\">\n",
       "      <th></th>\n",
       "      <th>period</th>\n",
       "      <th>timedelta</th>\n",
       "      <th>gse_x_ace</th>\n",
       "      <th>gse_y_ace</th>\n",
       "      <th>gse_z_ace</th>\n",
       "      <th>gse_x_dscovr</th>\n",
       "      <th>gse_y_dscovr</th>\n",
       "      <th>gse_z_dscovr</th>\n",
       "    </tr>\n",
       "  </thead>\n",
       "  <tbody>\n",
       "    <tr>\n",
       "      <th>0</th>\n",
       "      <td>train_a</td>\n",
       "      <td>0 days</td>\n",
       "      <td>1522376.9</td>\n",
       "      <td>143704.6</td>\n",
       "      <td>149496.7</td>\n",
       "      <td>NaN</td>\n",
       "      <td>NaN</td>\n",
       "      <td>NaN</td>\n",
       "    </tr>\n",
       "    <tr>\n",
       "      <th>1</th>\n",
       "      <td>train_a</td>\n",
       "      <td>1 days</td>\n",
       "      <td>1525410.9</td>\n",
       "      <td>136108.8</td>\n",
       "      <td>151034.1</td>\n",
       "      <td>NaN</td>\n",
       "      <td>NaN</td>\n",
       "      <td>NaN</td>\n",
       "    </tr>\n",
       "    <tr>\n",
       "      <th>2</th>\n",
       "      <td>train_a</td>\n",
       "      <td>2 days</td>\n",
       "      <td>1528484.9</td>\n",
       "      <td>128470.5</td>\n",
       "      <td>152387.7</td>\n",
       "      <td>NaN</td>\n",
       "      <td>NaN</td>\n",
       "      <td>NaN</td>\n",
       "    </tr>\n",
       "  </tbody>\n",
       "</table>\n",
       "</div>"
      ],
      "text/plain": [
       "    period timedelta  gse_x_ace  gse_y_ace  gse_z_ace  gse_x_dscovr  \\\n",
       "0  train_a    0 days  1522376.9   143704.6   149496.7           NaN   \n",
       "1  train_a    1 days  1525410.9   136108.8   151034.1           NaN   \n",
       "2  train_a    2 days  1528484.9   128470.5   152387.7           NaN   \n",
       "\n",
       "   gse_y_dscovr  gse_z_dscovr  \n",
       "0           NaN           NaN  \n",
       "1           NaN           NaN  \n",
       "2           NaN           NaN  "
      ]
     },
     "execution_count": 10,
     "metadata": {},
     "output_type": "execute_result"
    }
   ],
   "source": [
    "df_satellite_pos = pd.read_csv(r'..\\data\\satellite_pos.csv')\n",
    "df_satellite_pos.head(3)"
   ]
  },
  {
   "cell_type": "markdown",
   "metadata": {},
   "source": [
    "##### Tratando tipos de dados"
   ]
  },
  {
   "cell_type": "code",
   "execution_count": 11,
   "metadata": {},
   "outputs": [
    {
     "name": "stdout",
     "output_type": "stream",
     "text": [
      "<class 'pandas.core.frame.DataFrame'>\n",
      "RangeIndex: 5828 entries, 0 to 5827\n",
      "Data columns (total 8 columns):\n",
      " #   Column        Non-Null Count  Dtype  \n",
      "---  ------        --------------  -----  \n",
      " 0   period        5828 non-null   object \n",
      " 1   timedelta     5828 non-null   object \n",
      " 2   gse_x_ace     5828 non-null   float64\n",
      " 3   gse_y_ace     5828 non-null   float64\n",
      " 4   gse_z_ace     5828 non-null   float64\n",
      " 5   gse_x_dscovr  1034 non-null   float64\n",
      " 6   gse_y_dscovr  1034 non-null   float64\n",
      " 7   gse_z_dscovr  1034 non-null   float64\n",
      "dtypes: float64(6), object(2)\n",
      "memory usage: 364.4+ KB\n"
     ]
    }
   ],
   "source": [
    "df_satellite_pos.info()"
   ]
  },
  {
   "cell_type": "code",
   "execution_count": 12,
   "metadata": {},
   "outputs": [
    {
     "name": "stdout",
     "output_type": "stream",
     "text": [
      "<class 'pandas.core.frame.DataFrame'>\n",
      "RangeIndex: 5828 entries, 0 to 5827\n",
      "Data columns (total 8 columns):\n",
      " #   Column        Non-Null Count  Dtype          \n",
      "---  ------        --------------  -----          \n",
      " 0   period        5828 non-null   category       \n",
      " 1   timedelta     5828 non-null   timedelta64[ns]\n",
      " 2   gse_x_ace     5828 non-null   float64        \n",
      " 3   gse_y_ace     5828 non-null   float64        \n",
      " 4   gse_z_ace     5828 non-null   float64        \n",
      " 5   gse_x_dscovr  1034 non-null   float32        \n",
      " 6   gse_y_dscovr  1034 non-null   float32        \n",
      " 7   gse_z_dscovr  1034 non-null   float32        \n",
      "dtypes: category(1), float32(3), float64(3), timedelta64[ns](1)\n",
      "memory usage: 256.4 KB\n"
     ]
    }
   ],
   "source": [
    "# Otimizando tipos de dados das colunas numéricas\n",
    "col_num_satellite_pos = df_satellite_pos.select_dtypes(include='float64').columns\n",
    "df_satellite_pos[col_num_satellite_pos] = df_satellite_pos[col_num_satellite_pos].apply(pd.to_numeric, downcast='float')\n",
    "\n",
    "# Corrigindo tipo de dado da coluna timedelta\n",
    "df_satellite_pos[\"timedelta\"] = pd.to_timedelta(df_satellite_pos[\"timedelta\"])\n",
    "\n",
    "col_cat_satellite_pos = df_satellite_pos.select_dtypes(include='object').columns\n",
    "df_satellite_pos[col_cat_satellite_pos] = df_solar_wind[col_cat_satellite_pos].astype('category')\n",
    "df_satellite_pos.info()"
   ]
  },
  {
   "cell_type": "code",
   "execution_count": 13,
   "metadata": {},
   "outputs": [],
   "source": [
    "# Exportando df_satellite_pos com tipos de dados tratados\n",
    "df_solar_wind.to_parquet(r'..\\data\\df_satellite_pos.parquet')"
   ]
  },
  {
   "cell_type": "markdown",
   "metadata": {},
   "source": [
    "#### Tratando dados de sunspots"
   ]
  },
  {
   "cell_type": "markdown",
   "metadata": {},
   "source": [
    "##### Impotando o conjunto de dados "
   ]
  },
  {
   "cell_type": "code",
   "execution_count": 14,
   "metadata": {},
   "outputs": [
    {
     "data": {
      "text/html": [
       "<div>\n",
       "<style scoped>\n",
       "    .dataframe tbody tr th:only-of-type {\n",
       "        vertical-align: middle;\n",
       "    }\n",
       "\n",
       "    .dataframe tbody tr th {\n",
       "        vertical-align: top;\n",
       "    }\n",
       "\n",
       "    .dataframe thead th {\n",
       "        text-align: right;\n",
       "    }\n",
       "</style>\n",
       "<table border=\"1\" class=\"dataframe\">\n",
       "  <thead>\n",
       "    <tr style=\"text-align: right;\">\n",
       "      <th></th>\n",
       "      <th>period</th>\n",
       "      <th>timedelta</th>\n",
       "      <th>smoothed_ssn</th>\n",
       "    </tr>\n",
       "  </thead>\n",
       "  <tbody>\n",
       "    <tr>\n",
       "      <th>0</th>\n",
       "      <td>train_a</td>\n",
       "      <td>0 days 00:00:00</td>\n",
       "      <td>65.4</td>\n",
       "    </tr>\n",
       "    <tr>\n",
       "      <th>1</th>\n",
       "      <td>train_a</td>\n",
       "      <td>13 days 00:00:00</td>\n",
       "      <td>72.0</td>\n",
       "    </tr>\n",
       "    <tr>\n",
       "      <th>2</th>\n",
       "      <td>train_a</td>\n",
       "      <td>44 days 00:00:00</td>\n",
       "      <td>76.9</td>\n",
       "    </tr>\n",
       "  </tbody>\n",
       "</table>\n",
       "</div>"
      ],
      "text/plain": [
       "    period         timedelta  smoothed_ssn\n",
       "0  train_a   0 days 00:00:00          65.4\n",
       "1  train_a  13 days 00:00:00          72.0\n",
       "2  train_a  44 days 00:00:00          76.9"
      ]
     },
     "execution_count": 14,
     "metadata": {},
     "output_type": "execute_result"
    }
   ],
   "source": [
    "df_sunspots = pd.read_csv(r'..\\data\\sunspots.csv')\n",
    "df_sunspots.head(3)"
   ]
  },
  {
   "cell_type": "markdown",
   "metadata": {},
   "source": [
    "##### Tratando tipos de dados"
   ]
  },
  {
   "cell_type": "code",
   "execution_count": 15,
   "metadata": {},
   "outputs": [
    {
     "name": "stdout",
     "output_type": "stream",
     "text": [
      "<class 'pandas.core.frame.DataFrame'>\n",
      "RangeIndex: 192 entries, 0 to 191\n",
      "Data columns (total 3 columns):\n",
      " #   Column        Non-Null Count  Dtype  \n",
      "---  ------        --------------  -----  \n",
      " 0   period        192 non-null    object \n",
      " 1   timedelta     192 non-null    object \n",
      " 2   smoothed_ssn  192 non-null    float64\n",
      "dtypes: float64(1), object(2)\n",
      "memory usage: 4.6+ KB\n"
     ]
    }
   ],
   "source": [
    "df_sunspots.info()"
   ]
  },
  {
   "cell_type": "code",
   "execution_count": 16,
   "metadata": {},
   "outputs": [
    {
     "name": "stdout",
     "output_type": "stream",
     "text": [
      "<class 'pandas.core.frame.DataFrame'>\n",
      "RangeIndex: 192 entries, 0 to 191\n",
      "Data columns (total 3 columns):\n",
      " #   Column        Non-Null Count  Dtype          \n",
      "---  ------        --------------  -----          \n",
      " 0   period        192 non-null    category       \n",
      " 1   timedelta     192 non-null    timedelta64[ns]\n",
      " 2   smoothed_ssn  192 non-null    float32        \n",
      "dtypes: category(1), float32(1), timedelta64[ns](1)\n",
      "memory usage: 2.7 KB\n"
     ]
    }
   ],
   "source": [
    "# otimizando tipos de dados das colunas numéricas\n",
    "col_num_sunspots = df_sunspots.select_dtypes(include='float64').columns\n",
    "df_sunspots[col_num_sunspots] = df_sunspots[col_num_sunspots].apply(pd.to_numeric, downcast='float')\n",
    "\n",
    "# Corrigindo tipo de dado da coluna timedelta\n",
    "df_sunspots[\"timedelta\"] = pd.to_timedelta(df_sunspots[\"timedelta\"])\n",
    "\n",
    "# Corrigindo tipo de dado da coluna period\n",
    "df_sunspots[\"period\"] = df_sunspots[\"period\"].astype('category')\n",
    "df_sunspots.info()"
   ]
  },
  {
   "cell_type": "code",
   "execution_count": 17,
   "metadata": {},
   "outputs": [],
   "source": [
    "# Exportando df_sunspots com tipos de dados tratados\n",
    "df_solar_wind.to_parquet(r'..\\data\\df_sunspots.parquet')"
   ]
  },
  {
   "cell_type": "markdown",
   "metadata": {},
   "source": [
    "#### Tratando dados de labels"
   ]
  },
  {
   "cell_type": "markdown",
   "metadata": {},
   "source": [
    "##### Impotando o conjunto de dados "
   ]
  },
  {
   "cell_type": "code",
   "execution_count": 18,
   "metadata": {},
   "outputs": [
    {
     "data": {
      "text/html": [
       "<div>\n",
       "<style scoped>\n",
       "    .dataframe tbody tr th:only-of-type {\n",
       "        vertical-align: middle;\n",
       "    }\n",
       "\n",
       "    .dataframe tbody tr th {\n",
       "        vertical-align: top;\n",
       "    }\n",
       "\n",
       "    .dataframe thead th {\n",
       "        text-align: right;\n",
       "    }\n",
       "</style>\n",
       "<table border=\"1\" class=\"dataframe\">\n",
       "  <thead>\n",
       "    <tr style=\"text-align: right;\">\n",
       "      <th></th>\n",
       "      <th>period</th>\n",
       "      <th>timedelta</th>\n",
       "      <th>dst</th>\n",
       "    </tr>\n",
       "  </thead>\n",
       "  <tbody>\n",
       "    <tr>\n",
       "      <th>0</th>\n",
       "      <td>train_a</td>\n",
       "      <td>0 days 00:00:00</td>\n",
       "      <td>-7</td>\n",
       "    </tr>\n",
       "    <tr>\n",
       "      <th>1</th>\n",
       "      <td>train_a</td>\n",
       "      <td>0 days 01:00:00</td>\n",
       "      <td>-10</td>\n",
       "    </tr>\n",
       "    <tr>\n",
       "      <th>2</th>\n",
       "      <td>train_a</td>\n",
       "      <td>0 days 02:00:00</td>\n",
       "      <td>-10</td>\n",
       "    </tr>\n",
       "  </tbody>\n",
       "</table>\n",
       "</div>"
      ],
      "text/plain": [
       "    period        timedelta  dst\n",
       "0  train_a  0 days 00:00:00   -7\n",
       "1  train_a  0 days 01:00:00  -10\n",
       "2  train_a  0 days 02:00:00  -10"
      ]
     },
     "execution_count": 18,
     "metadata": {},
     "output_type": "execute_result"
    }
   ],
   "source": [
    "df_labels = pd.read_csv(r'..\\data\\labels.csv')\n",
    "df_labels.head(3)"
   ]
  },
  {
   "cell_type": "markdown",
   "metadata": {},
   "source": [
    "##### Tratando tipos de dados"
   ]
  },
  {
   "cell_type": "code",
   "execution_count": 19,
   "metadata": {},
   "outputs": [
    {
     "name": "stdout",
     "output_type": "stream",
     "text": [
      "<class 'pandas.core.frame.DataFrame'>\n",
      "RangeIndex: 139872 entries, 0 to 139871\n",
      "Data columns (total 3 columns):\n",
      " #   Column     Non-Null Count   Dtype \n",
      "---  ------     --------------   ----- \n",
      " 0   period     139872 non-null  object\n",
      " 1   timedelta  139872 non-null  object\n",
      " 2   dst        139872 non-null  int64 \n",
      "dtypes: int64(1), object(2)\n",
      "memory usage: 3.2+ MB\n"
     ]
    }
   ],
   "source": [
    "df_labels.info()"
   ]
  },
  {
   "cell_type": "code",
   "execution_count": 20,
   "metadata": {},
   "outputs": [
    {
     "name": "stdout",
     "output_type": "stream",
     "text": [
      "<class 'pandas.core.frame.DataFrame'>\n",
      "RangeIndex: 139872 entries, 0 to 139871\n",
      "Data columns (total 3 columns):\n",
      " #   Column     Non-Null Count   Dtype          \n",
      "---  ------     --------------   -----          \n",
      " 0   period     139872 non-null  category       \n",
      " 1   timedelta  139872 non-null  timedelta64[ns]\n",
      " 2   dst        139872 non-null  int16          \n",
      "dtypes: category(1), int16(1), timedelta64[ns](1)\n",
      "memory usage: 1.5 MB\n"
     ]
    }
   ],
   "source": [
    "# otimizando tipos de dados das colunas numéricas\n",
    "col_num_labels = df_labels.select_dtypes(include='int64').columns\n",
    "df_labels[col_num_labels] = df_labels[col_num_labels].apply(pd.to_numeric, downcast='integer')\n",
    "\n",
    "# Corrigindo tipo de dado da coluna timedelta\n",
    "df_labels[\"timedelta\"] = pd.to_timedelta(df_labels[\"timedelta\"])\n",
    "\n",
    "# Corrigindo tipo de dado da coluna period\n",
    "df_labels[\"period\"] = df_labels[\"period\"].astype('category')\n",
    "df_labels.info()"
   ]
  },
  {
   "cell_type": "code",
   "execution_count": 21,
   "metadata": {},
   "outputs": [],
   "source": [
    "# Exportando df_labels com tipos de dados tratados\n",
    "df_solar_wind.to_parquet(r'..\\data\\df_labels.parquet')"
   ]
  }
 ],
 "metadata": {
  "kernelspec": {
   "display_name": "venv",
   "language": "python",
   "name": "python3"
  },
  "language_info": {
   "codemirror_mode": {
    "name": "ipython",
    "version": 3
   },
   "file_extension": ".py",
   "mimetype": "text/x-python",
   "name": "python",
   "nbconvert_exporter": "python",
   "pygments_lexer": "ipython3",
   "version": "3.12.7"
  }
 },
 "nbformat": 4,
 "nbformat_minor": 2
}
